{
 "cells": [
  {
   "cell_type": "markdown",
   "id": "0567e590",
   "metadata": {},
   "source": [
    "# Backbone Network\n",
    "- 단어의 기본뜻\n",
    "  - backbone(등뼈)\n",
    "- 딥러닝에서의 의미\n",
    "  - 입력이 처음 들어와서 처리되는 network로 일반적으로 feature를 1차 추출해주는 역할을 한다.\n",
    "  - Computer vision분야에서는 ResNet 등이, NLP에서는 BertEncoder를 예로 들 수 있을듯하다"
   ]
  },
  {
   "cell_type": "code",
   "execution_count": null,
   "id": "6186ce8f",
   "metadata": {},
   "outputs": [],
   "source": []
  }
 ],
 "metadata": {
  "kernelspec": {
   "display_name": "Python 3",
   "language": "python",
   "name": "python3"
  },
  "language_info": {
   "codemirror_mode": {
    "name": "ipython",
    "version": 3
   },
   "file_extension": ".py",
   "mimetype": "text/x-python",
   "name": "python",
   "nbconvert_exporter": "python",
   "pygments_lexer": "ipython3",
   "version": "3.8.10"
  }
 },
 "nbformat": 4,
 "nbformat_minor": 5
}
