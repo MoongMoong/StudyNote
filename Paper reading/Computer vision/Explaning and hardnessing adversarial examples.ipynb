{
 "cells": [
  {
   "cell_type": "markdown",
   "id": "74c7e413",
   "metadata": {},
   "source": [
    "## Adversarial example을 쉽게 만드는 방법에 대한 논문\n",
    "- Adversarial example이란 성능 저하를 일으키는 노이즈를 뜻함 \n",
    "- Christian Szegedy라는 사람이 \n",
    "- 이안 굿 필러우는 오버핏이아니라 linear nature한 네트워크의 특성이 문제가된다고 한다\n",
    "  - 이걸 잘 이용하면 쉽게 adversarial한 FGSM이라는  노이즈를 만들 수 있고 이를 훈련에 사용하는 adversarial training에 사용할 수 있다.\n",
    "  - 참고로 이건 아직까지도 adversarial training이 가장 강력한 방법이고 FGSM이 여전히 강력한 base라인이다."
   ]
  },
  {
   "cell_type": "code",
   "execution_count": null,
   "id": "35e2e895",
   "metadata": {},
   "outputs": [],
   "source": []
  }
 ],
 "metadata": {
  "kernelspec": {
   "display_name": "Python 3",
   "language": "python",
   "name": "python3"
  },
  "language_info": {
   "codemirror_mode": {
    "name": "ipython",
    "version": 3
   },
   "file_extension": ".py",
   "mimetype": "text/x-python",
   "name": "python",
   "nbconvert_exporter": "python",
   "pygments_lexer": "ipython3",
   "version": "3.8.10"
  }
 },
 "nbformat": 4,
 "nbformat_minor": 5
}
