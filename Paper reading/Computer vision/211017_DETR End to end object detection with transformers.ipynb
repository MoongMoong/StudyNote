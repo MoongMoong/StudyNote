{
 "cells": [
  {
   "cell_type": "markdown",
   "id": "83d1ab5e",
   "metadata": {},
   "source": [
    "## Abstract\n",
    "- 객체 탐지 알고리즘(페이스북)\n",
    "  - 특징, transformer기반의 논문인데 단순하면서도 성능이 꽤 좋음\n",
    "  - DETR = **De**tection **Tr**ansformer\n",
    "    - 이분 매칭 손실 함수 + Transformer\n"
   ]
  },
  {
   "cell_type": "markdown",
   "id": "85dc2edc",
   "metadata": {},
   "source": [
    "### Backbone network first feature\n",
    "- 단어의 기본뜻\n",
    "  - backbone(등뼈)\n",
    "- 딥러닝에서의 의미\n",
    "  - 입력이 처음 들어와서 처리되는 network로 일반적으로 feature를 1차 추출해주는 역할을 한다.\n",
    "  - Computer vision분야에서는 ResNet 등이, NLP에서는 BertEncoder를 예로 들 수 있을듯하다"
   ]
  },
  {
   "attachments": {},
   "cell_type": "markdown",
   "id": "6764170a",
   "metadata": {},
   "source": [
    "### Positional encoding\n",
    "- Transformer에서 도입된 개념으로 위치 정보를 전달하기 위한 작업\n",
    "  - 똑같은 단어라 하더라도 위치에 따라 다른 의미, 다른 역할을 가질 수 있기 때문에 위치 정보를 부여하는 과정\n",
    "  \n",
    "- 기존의 position info 부여방법\n",
    "  - 방법 1: 데이터에 0 ~ 1사이의 label을 붙인다 (0 : 첫 단어, 1 : 마지막단어)\n",
    "    - example) I love you -> I 0 / love 0.5 / you 1\n",
    "    - input의 총 크기를 알 수 없어서 delta의 값이 의미가 없다.\n",
    "  - 방법 2: 각 time step마다 선형적인 숫자를 할당하는 것\n",
    "    - example) I love you -> I 1 / love 2 / you 3\n",
    "    - 숫자가 매우 커질 수 있고, 훈련 시 학습할 때보다 큰 값이 입렵으로 들어오게될 때 문제가 발생하고, 일반화가 어렵(값이 범위 문제)\n",
    "\n",
    "- Transformer 저자가 주장한 이상적인 positional encoding\n",
    "  1. 각 time-step마다 유니크한 encoding 값을 출력할 수 있어야 한다.\n",
    "  2. 서로 다른 길이의 문장에 있어서 두 time-step간의 거리가 일정해야 한다.\n",
    "  3) 모델에 대한 일반화가 가능해야 한다.(훈련 범위보다 긴 길이의 문장이 나와도 적용가능해야함), 순서를 나타내는 값들이 normalized되어 있어야 한다.\n",
    "  4) 하나의 key 값처럼 결정되어야 한다. 즉, random성을 가지면 안된다.\n",
    "  \n",
    "- Transformer에서 적용된 positional encoding : **d-dimensional vector**, 입력되는 데이터에 더해주는 방식으로 적용\n",
    "  - 관련 수식\n",
    "    - d = arg.encoding_dimension ( d mod 2 == 0 and d == 2 ** (int(log(d, 2)))\n",
    "      - 대충 d가 2의 승수인 encoding dimension이다.\n",
    "    - Wk = 1 / (10000 ** (2 * k / d)) \n",
    "      - encoding dim에 따라 적응형으로 정의되는 주기상수\n",
    "      <img src =\"https://img1.daumcdn.net/thumb/R1280x0/?scode=mtistory2&fname=https%3A%2F%2Fblog.kakaocdn.net%2Fdn%2FcetFDR%2FbtqB9w2m3EM%2FF5vqGUKaMxKnfJRwJkfiOK%2Fimg.png\">\n",
    "      \n",
    "\n",
    "    \n",
    "    "
   ]
  },
  {
   "cell_type": "markdown",
   "id": "ac1f3aab",
   "metadata": {},
   "source": [
    "### 정리\n",
    "- backbone + positional encoding의 feature extraction\n",
    "- transformer encoder\n",
    "- transformer decoder\n",
    "- 이분 매칭\n",
    "  - 오브젝트 발견시 : class + box\n",
    "  - 오브젝트 미발견시 : no object"
   ]
  },
  {
   "cell_type": "markdown",
   "id": "38fcd87f",
   "metadata": {},
   "source": [
    "## 연구 배경 : 기존 방법의 문제점\n",
    "- 기존 객체 탐지 방법들은 너무 다양한 라이브러리를 활용하며 복잡하다.\n",
    "  - 사전 지식을 요구한다 : bounding box의 형태, bounding box가 겹칠 때의 처리방법(NMS : 바운딩박스 압축) 등을 사전에 정의해야 하고 이는 매우 복잡하다.\n",
    "    - 참고로 NMS(non - maximum suppression)이라 한다.\n",
    "  "
   ]
  },
  {
   "cell_type": "code",
   "execution_count": 4,
   "id": "f4d3a14f",
   "metadata": {},
   "outputs": [],
   "source": [
    "def nms(boxes, probs, threshold):\n",
    "    \"\"\"Non-Maximum supression.\n",
    "    Args:\n",
    "        boxes: array of [cx, cy, w, h] (center format)\n",
    "        probs: array of probabilities\n",
    "        threshold: two boxes are considered overlapping if their IOU is largher than\n",
    "            this threshold\n",
    "        form: 'center' or 'diagonal'\n",
    "    Returns:\n",
    "        keep: array of True or False.\n",
    "    \"\"\"\n",
    " \n",
    "    order = probs.argsort()[::-1]\n",
    "    keep = [True]*len(order)\n",
    " \n",
    "    for i in range(len(order)-1):\n",
    "        ovps = batch_iou(boxes[order[i+1:]], boxes[order[i]])\n",
    "        for j, ov in enumerate(ovps):\n",
    "            if ov > threshold:\n",
    "                keep[order[j+i+1]] = False\n",
    "    return keep\n",
    "\n",
    "\n",
    "# 출처: https://dyndy.tistory.com/275 [DY N DY]"
   ]
  },
  {
   "cell_type": "markdown",
   "id": "3c9c2b12",
   "metadata": {},
   "source": [
    "### NMS에 대한 특징\n",
    "- IOU intersection of union이 필요함 (Area of Overlap / Area of Union)으로 전체 중 겹치는 부분의 비율이 필요함\n",
    "  - NMS의 목적이 중복을 제거하는것이기 때문에, IOU가 일정 크기 이상에 대해서만 수행함\n",
    "    - 동일 클래스에 대해 내림차순으로 정렬\n",
    "    - 가장 confidence가 높은 boundingbox와 iou가 일정 이상인 boundingbox는 동일한 물체를 발견한것으로 간주하여 삭제(th = 0.5를 종종사용)\n",
    "\n",
    "- 참고\n",
    "  - 추가로 러시아의 연구자가 YOLO(you look only once)에 대해 설명하는 슬라이드에서 nms또한 자세히 다뤄주어 이해하는데 도움이 많이 되었다. [Link](\n",
    "https://docs.google.com/presentation/d/1aeRvtKG21KHdD5lg6Hgyhx5rPq_ZOsGjG5rJ1HP7BbA/pub?start=false&loop=false&delayms=3000&slide=id.p)\n"
   ]
  },
  {
   "cell_type": "markdown",
   "id": "f18f109e",
   "metadata": {},
   "source": [
    "## main contribution\n",
    "- 이분매칭(bipartite matching)을 통해 set prediction problem을 직접적으로 해결\n",
    "  - 바운딩 박스를 여러개만들어서 NMS를 하는게아니라 직접적으로 object를 찾는다.\n",
    "    - 최대 object를 한정하고 프로세스를 진행\n",
    "      - 학습과정에서 이분매칭을 수행하는 것으로 인스턴트가 중복되지 않도록 유도\n",
    "  - 이분매칭은 prediction 이후 생성된 예측값의 쌍에서, 실제 값과 유사한 순으로 매칭해서 loss를 산출\n",
    "    - loss를 최소가 되도록 매칭시키는 방식 -> 이 loss를 더 줄이고자 하는 방식으로 훈련\n",
    "    - 맞는건 더 잘 맞게, 오답은 삭제가되게, 못찾은건 그나마 찾은걸 더 확신을 갖게끔 loss가 요구하게됨"
   ]
  },
  {
   "cell_type": "markdown",
   "id": "ca775184",
   "metadata": {},
   "source": [
    "- Transformer\n",
    "  - Attention을 통해 전체 이미지의 문맥 정보를 이해\n",
    "  - 이미지 내 각 인스턴스의 상호작용(interaction) 파악 용이\n",
    "  - 큰 bounding box에서의 거리가 먼 픽셀 간의 연관성 파악 용이\n",
    "  \n",
    "- Encoder\n",
    "  - 이미지의 특징 정보를 포함하고 있는 각 픽셀 위치 데이터를 입력받아 인코딩 수행\n",
    "   \n",
    "- Decoder\n",
    "  - N개의 object query를 초기 입력으로 받으며 인코딩된 정보를 활용\n",
    "  - 각 object query는 이미지 내 서로 다른 고유한 인스턴스를 구별"
   ]
  },
  {
   "cell_type": "markdown",
   "id": "5f39689b",
   "metadata": {},
   "source": [
    "## Encoder\n",
    "- 인코더는 d*HM크기의 연속성을 띠는 feature map을 입력으로 받는다.\n",
    "  - 이때 d는 image feature를 이미하고 HW는 각각의 픽셀 위치 정보를 담고 있습니다.\n",
    "- 인코더의 self-attention map을 시각화 해보면 개별 인스턴스를 적절히 분리하는 것을 확인할 수 있습니다.\n",
    "  - 각 픽셀에서 연관도가 높은 pix들의 attention을 챙길 수 있다.\n",
    "  \n",
    "  - 어클루딩(가림 문제)problem\n",
    "  \n",
    "## Decoder\n",
    "- N개의 object query를 초기 입력으로 이용한다.\n",
    "- 인코더가 global attention을 통해 인스턴스를 분리한 뒤에 디코더는 각 인스턴스의 클래스와 경계선을 추출한다.\n",
    "  - 동물같은 경우 포인트가 되는 말단부위에 attention이 진하게 생긴다."
   ]
  },
  {
   "cell_type": "markdown",
   "id": "d35532d1",
   "metadata": {},
   "source": [
    "### 단어정리\n",
    "- streamline : 간소화하다\n",
    "- surrogate : 간접적인"
   ]
  },
  {
   "cell_type": "markdown",
   "id": "43324546",
   "metadata": {},
   "source": [
    "### 헝가리안 알고리즘\n",
    "- 공부할까말까했는데.. 2분매칭 최적화를 위한 알고리즘"
   ]
  },
  {
   "cell_type": "code",
   "execution_count": null,
   "id": "90ec42d0",
   "metadata": {},
   "outputs": [],
   "source": []
  }
 ],
 "metadata": {
  "kernelspec": {
   "display_name": "Python 3",
   "language": "python",
   "name": "python3"
  },
  "language_info": {
   "codemirror_mode": {
    "name": "ipython",
    "version": 3
   },
   "file_extension": ".py",
   "mimetype": "text/x-python",
   "name": "python",
   "nbconvert_exporter": "python",
   "pygments_lexer": "ipython3",
   "version": "3.8.10"
  }
 },
 "nbformat": 4,
 "nbformat_minor": 5
}
