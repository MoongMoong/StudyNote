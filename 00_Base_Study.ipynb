{
 "cells": [
  {
   "cell_type": "markdown",
   "id": "d1052492",
   "metadata": {},
   "source": [
    "### 코딩 테스트 공부\n",
    "#### 코딩테스트에서 꼭 알아야하는 기본적인 정보\n",
    " - 프로그램의 평가는 기본적으로 **복잡도(Complexity)** 가 중요하다\n",
    "   - 시간 복잡도 : 특정 크기의 입력에 대해 알고리즈므이 수행 시간 분석 (빠르게 처리되는게 좋다)\n",
    "     - **Big-) Notation** : 함수의 가장 큰 계수를 갖는 항을 남긴다 *O(N^3)* 같은 표기\n",
    "       - 참고로 1 < log(N) < N < N log(N) < N^2 < N^3 < 2^N\n",
    "     - 대충 코딩테스트에서 시간이 1 ~ 5초가 주어지는데, 연산횟수 5억정도에서 5 ~ 15초가 주어진다 즉 이를 바탕으로 N의 범위에 따라 알고리즘이 한정된다\n",
    "       - N의 범위가 500 : N^3\n",
    "       - N의 범위가 2000 : N^2\n",
    "       - N의 범위가 100,000 : N log N\n",
    "       - N의 범위가 10,000,000 : N \n",
    "   - 공간 복잡도 : 같은 양의 데이터에 대해 메모리의 사용 분석 (적은 메모리를 쓰는게 좋다)\n",
    "   "
   ]
  },
  {
   "cell_type": "code",
   "execution_count": null,
   "id": "c721455d",
   "metadata": {},
   "outputs": [],
   "source": []
  }
 ],
 "metadata": {
  "kernelspec": {
   "display_name": "Python 3",
   "language": "python",
   "name": "python3"
  },
  "language_info": {
   "codemirror_mode": {
    "name": "ipython",
    "version": 3
   },
   "file_extension": ".py",
   "mimetype": "text/x-python",
   "name": "python",
   "nbconvert_exporter": "python",
   "pygments_lexer": "ipython3",
   "version": "3.8.10"
  }
 },
 "nbformat": 4,
 "nbformat_minor": 5
}
