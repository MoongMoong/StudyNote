{
 "cells": [
  {
   "cell_type": "markdown",
   "id": "74a17251",
   "metadata": {},
   "source": [
    "### 정말 공부하기 귀찮지만 그래도 해야 내가 발전한다."
   ]
  },
  {
   "cell_type": "code",
   "execution_count": null,
   "id": "3c4430fc",
   "metadata": {},
   "outputs": [],
   "source": [
    "dataroot = '/raid/jskim/data/nlp/data'"
   ]
  }
 ],
 "metadata": {
  "kernelspec": {
   "display_name": "Python 3",
   "language": "python",
   "name": "python3"
  },
  "language_info": {
   "codemirror_mode": {
    "name": "ipython",
    "version": 3
   },
   "file_extension": ".py",
   "mimetype": "text/x-python",
   "name": "python",
   "nbconvert_exporter": "python",
   "pygments_lexer": "ipython3",
   "version": "3.8.10"
  }
 },
 "nbformat": 4,
 "nbformat_minor": 5
}
