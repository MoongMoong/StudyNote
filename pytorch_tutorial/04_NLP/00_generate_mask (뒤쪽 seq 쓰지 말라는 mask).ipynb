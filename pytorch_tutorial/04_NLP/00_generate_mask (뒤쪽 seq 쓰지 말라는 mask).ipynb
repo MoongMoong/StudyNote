{
 "cells": [
  {
   "cell_type": "code",
   "execution_count": 3,
   "id": "a9f82854",
   "metadata": {},
   "outputs": [],
   "source": [
    "import math\n",
    "\n",
    "import torch\n",
    "import torch.nn as nn\n",
    "import torch.nn.functional as F\n",
    "from torch.nn import TransformerEncoder, TransformerEncoderLayer\n",
    "\n",
    "bptt = 35"
   ]
  },
  {
   "cell_type": "code",
   "execution_count": 11,
   "id": "7b2e3a17",
   "metadata": {},
   "outputs": [
    {
     "name": "stdout",
     "output_type": "stream",
     "text": [
      "tensor([[1., 1., 1.,  ..., 1., 1., 1.],\n",
      "        [0., 1., 1.,  ..., 1., 1., 1.],\n",
      "        [0., 0., 1.,  ..., 1., 1., 1.],\n",
      "        ...,\n",
      "        [0., 0., 0.,  ..., 1., 1., 1.],\n",
      "        [0., 0., 0.,  ..., 0., 1., 1.],\n",
      "        [0., 0., 0.,  ..., 0., 0., 1.]])\n",
      "torch.Size([35, 35])\n"
     ]
    }
   ],
   "source": [
    "sz = bptt\n",
    "mask = (torch.triu(torch.ones(sz, sz))) # 원래 triu 는 tri matrix생성함수로 upper tri matrix생성 대각선부터 그 위로만\n",
    "print(mask)\n",
    "print(mask.shape)"
   ]
  },
  {
   "cell_type": "code",
   "execution_count": 12,
   "id": "c405978e",
   "metadata": {},
   "outputs": [
    {
     "name": "stdout",
     "output_type": "stream",
     "text": [
      "tensor([[ True,  True,  True,  ...,  True,  True,  True],\n",
      "        [False,  True,  True,  ...,  True,  True,  True],\n",
      "        [False, False,  True,  ...,  True,  True,  True],\n",
      "        ...,\n",
      "        [False, False, False,  ...,  True,  True,  True],\n",
      "        [False, False, False,  ..., False,  True,  True],\n",
      "        [False, False, False,  ..., False, False,  True]])\n",
      "torch.Size([35, 35])\n"
     ]
    }
   ],
   "source": [
    "mask = (torch.triu(torch.ones(sz, sz)) == 1) # 여기에 bool을 쓰고 싶어서 변경\n",
    "print(mask)\n",
    "print(mask.shape)"
   ]
  },
  {
   "cell_type": "code",
   "execution_count": 13,
   "id": "d85e12e4",
   "metadata": {},
   "outputs": [
    {
     "name": "stdout",
     "output_type": "stream",
     "text": [
      "tensor([[0., 0., 0.,  ..., 0., 0., 0.],\n",
      "        [0., 0., 0.,  ..., 0., 0., 0.],\n",
      "        [0., 0., 0.,  ..., 0., 0., 0.],\n",
      "        ...,\n",
      "        [0., 0., 0.,  ..., 0., 0., 0.],\n",
      "        [0., 0., 0.,  ..., 0., 0., 0.],\n",
      "        [0., 0., 0.,  ..., 0., 0., 0.]])\n",
      "torch.Size([35, 35])\n"
     ]
    }
   ],
   "source": [
    "mask = (torch.triu(torch.zeros(sz, sz))) # 참고로 zeros를 넣으면 upper에도 0이 들어가서 맛이감\n",
    "print(mask)\n",
    "print(mask.shape)"
   ]
  },
  {
   "cell_type": "code",
   "execution_count": 14,
   "id": "ec95bc3b",
   "metadata": {},
   "outputs": [
    {
     "name": "stdout",
     "output_type": "stream",
     "text": [
      "tensor([[5., 5., 5.,  ..., 5., 5., 5.],\n",
      "        [0., 5., 5.,  ..., 5., 5., 5.],\n",
      "        [0., 0., 5.,  ..., 5., 5., 5.],\n",
      "        ...,\n",
      "        [0., 0., 0.,  ..., 5., 5., 5.],\n",
      "        [0., 0., 0.,  ..., 0., 5., 5.],\n",
      "        [0., 0., 0.,  ..., 0., 0., 5.]])\n",
      "torch.Size([35, 35])\n"
     ]
    }
   ],
   "source": [
    "mask = (torch.triu(torch.ones(sz, sz) * 5)) # 이렇게 다른 값을 넣을수도 있음\n",
    "print(mask)\n",
    "print(mask.shape)"
   ]
  },
  {
   "cell_type": "code",
   "execution_count": 15,
   "id": "da1ff173",
   "metadata": {},
   "outputs": [
    {
     "name": "stdout",
     "output_type": "stream",
     "text": [
      "tensor([[ True, False, False,  ..., False, False, False],\n",
      "        [ True,  True, False,  ..., False, False, False],\n",
      "        [ True,  True,  True,  ..., False, False, False],\n",
      "        ...,\n",
      "        [ True,  True,  True,  ...,  True, False, False],\n",
      "        [ True,  True,  True,  ...,  True,  True, False],\n",
      "        [ True,  True,  True,  ...,  True,  True,  True]])\n",
      "torch.Size([35, 35])\n"
     ]
    }
   ],
   "source": [
    "mask = (torch.triu(torch.ones(sz, sz)) == 1).transpose(0, 1) # 여기서는 lower를 원하는지 transpose를 해줌\n",
    "print(mask)\n",
    "print(mask.shape)"
   ]
  },
  {
   "cell_type": "code",
   "execution_count": 21,
   "id": "77187131",
   "metadata": {},
   "outputs": [
    {
     "name": "stdout",
     "output_type": "stream",
     "text": [
      "tensor([[ True, False, False,  ..., False, False, False],\n",
      "        [ True,  True, False,  ..., False, False, False],\n",
      "        [ True,  True,  True,  ..., False, False, False],\n",
      "        ...,\n",
      "        [ True,  True,  True,  ...,  True, False, False],\n",
      "        [ True,  True,  True,  ...,  True,  True, False],\n",
      "        [ True,  True,  True,  ...,  True,  True,  True]])\n",
      "torch.Size([35, 35])\n"
     ]
    }
   ],
   "source": [
    "mask = (torch.tril(torch.ones(sz, sz)) == 1) # 근데 그냥 애초에 tril 즉 tri low로 하면됨\n",
    "print(mask)\n",
    "print(mask.shape)"
   ]
  },
  {
   "cell_type": "code",
   "execution_count": 22,
   "id": "5d3404b6",
   "metadata": {},
   "outputs": [
    {
     "name": "stdout",
     "output_type": "stream",
     "text": [
      "tensor([[0., -inf, -inf,  ..., -inf, -inf, -inf],\n",
      "        [0., 0., -inf,  ..., -inf, -inf, -inf],\n",
      "        [0., 0., 0.,  ..., -inf, -inf, -inf],\n",
      "        ...,\n",
      "        [0., 0., 0.,  ..., 0., -inf, -inf],\n",
      "        [0., 0., 0.,  ..., 0., 0., -inf],\n",
      "        [0., 0., 0.,  ..., 0., 0., 0.]])\n",
      "torch.Size([35, 35])\n"
     ]
    }
   ],
   "source": [
    "mask = mask.float().masked_fill(mask == 0, float('-inf')).masked_fill(mask == 1, float(0.0)) \n",
    "# 대충 딱봐도 mask를 다시 float으로 바꾸고 masked_fill함수로 mask가 0이면 -inf를 1이면 0을 넣어주는데 이거 아무리봐도 이상함\n",
    "print(mask)\n",
    "print(mask.shape)"
   ]
  },
  {
   "cell_type": "code",
   "execution_count": 19,
   "id": "15fea7bd",
   "metadata": {},
   "outputs": [
    {
     "name": "stdout",
     "output_type": "stream",
     "text": [
      "tensor([[0., -inf, -inf,  ..., -inf, -inf, -inf],\n",
      "        [0., 0., -inf,  ..., -inf, -inf, -inf],\n",
      "        [0., 0., 0.,  ..., -inf, -inf, -inf],\n",
      "        ...,\n",
      "        [0., 0., 0.,  ..., 0., -inf, -inf],\n",
      "        [0., 0., 0.,  ..., 0., 0., -inf],\n",
      "        [0., 0., 0.,  ..., 0., 0., 0.]])\n",
      "torch.Size([35, 35])\n"
     ]
    }
   ],
   "source": [
    "mask = (torch.tril(torch.ones(sz, sz))) # 일단 굳이 ==1같은거로 bool로 갈필요도 없고, transpose도 괜히함\n",
    "mask = mask.masked_fill(mask == 0, float('-inf')).masked_fill(mask == 1, float(0.0)) \n",
    "print(mask)\n",
    "print(mask.shape)"
   ]
  },
  {
   "cell_type": "code",
   "execution_count": 20,
   "id": "e81efe35",
   "metadata": {},
   "outputs": [
    {
     "name": "stdout",
     "output_type": "stream",
     "text": [
      "tensor([[0., -inf, -inf,  ..., -inf, -inf, -inf],\n",
      "        [0., 0., -inf,  ..., -inf, -inf, -inf],\n",
      "        [0., 0., 0.,  ..., -inf, -inf, -inf],\n",
      "        ...,\n",
      "        [0., 0., 0.,  ..., 0., -inf, -inf],\n",
      "        [0., 0., 0.,  ..., 0., 0., -inf],\n",
      "        [0., 0., 0.,  ..., 0., 0., 0.]])\n",
      "torch.Size([35, 35])\n"
     ]
    }
   ],
   "source": [
    "# 아래꺼가 원본\n",
    "mask = (torch.triu(torch.ones(sz, sz)) == 1).transpose(0, 1)\n",
    "mask = mask.float().masked_fill(mask == 0, float('-inf')).masked_fill(mask == 1, float(0.0))\n",
    "print(mask)\n",
    "print(mask.shape)"
   ]
  },
  {
   "cell_type": "code",
   "execution_count": null,
   "id": "ce9acaff",
   "metadata": {},
   "outputs": [],
   "source": []
  }
 ],
 "metadata": {
  "kernelspec": {
   "display_name": "Python 3",
   "language": "python",
   "name": "python3"
  },
  "language_info": {
   "codemirror_mode": {
    "name": "ipython",
    "version": 3
   },
   "file_extension": ".py",
   "mimetype": "text/x-python",
   "name": "python",
   "nbconvert_exporter": "python",
   "pygments_lexer": "ipython3",
   "version": "3.8.10"
  }
 },
 "nbformat": 4,
 "nbformat_minor": 5
}
