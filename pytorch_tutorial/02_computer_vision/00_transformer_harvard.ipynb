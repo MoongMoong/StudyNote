{
 "cells": [
  {
   "cell_type": "markdown",
   "id": "96124b3f",
   "metadata": {},
   "source": [
    "## harvard꺼 따라가보자"
   ]
  },
  {
   "cell_type": "code",
   "execution_count": 2,
   "id": "44f515d9",
   "metadata": {},
   "outputs": [],
   "source": [
    "import numpy as np\n",
    "import torch\n",
    "import torch.nn as nn\n",
    "import torch.nn.functional as F\n",
    "import math, copy, time\n",
    "from torch.autograd import Variable\n",
    "import matplotlib.pyplot as plt\n",
    "import seaborn\n",
    "seaborn.set_context(context=\"talk\")\n",
    "%matplotlib inline"
   ]
  },
  {
   "cell_type": "markdown",
   "id": "05b43762",
   "metadata": {},
   "source": [
    "### encoder decoder 구조이다.\n",
    "- mask로 못보는곳과 필요없는곳 attention안가게 조정하면서 encoder, decoder 먹인다."
   ]
  },
  {
   "cell_type": "code",
   "execution_count": 3,
   "id": "877a4e37",
   "metadata": {},
   "outputs": [],
   "source": [
    "class EncoderDecoder(nn.Module):\n",
    "    \"\"\"\n",
    "    A standard Encoder-Decoder architecture. Base for this and many \n",
    "    other models.\n",
    "    \"\"\"\n",
    "    def __init__(self, encoder, decoder, src_embed, tgt_embed, generator):\n",
    "        super(EncoderDecoder, self).__init__()\n",
    "        self.encoder = encoder\n",
    "        self.decoder = decoder\n",
    "        self.src_embed = src_embed  # 하위에서 encode 메서드를 호출할때 사용될 것이다. embeding & positional encoding 적용\n",
    "        self.tgt_embed = tgt_embed  # decode할때 쓰는건데, 이게 forward와 별개로 구성하기 위함이 좀 있다.\n",
    "        self.generator = generator\n",
    "        \n",
    "    def forward(self, src, tgt, src_mask, tgt_mask):\n",
    "        \"Take in and process masked src and target sequences.\"\n",
    "        return self.decode(self.encode(src, src_mask), src_mask,\n",
    "                            tgt, tgt_mask)\n",
    "    \n",
    "    def encode(self, src, src_mask):\n",
    "        return self.encoder(self.src_embed(src), src_mask)\n",
    "    \n",
    "    def decode(self, memory, src_mask, tgt, tgt_mask):\n",
    "        return self.decoder(self.tgt_embed(tgt), memory, src_mask, tgt_mask)"
   ]
  },
  {
   "cell_type": "markdown",
   "id": "5189fc48",
   "metadata": {},
   "source": [
    "### generator를 따로둬서 마지막에 나온 vector를 vocab으로 매핑한다"
   ]
  },
  {
   "cell_type": "code",
   "execution_count": 4,
   "id": "08d5de46",
   "metadata": {},
   "outputs": [],
   "source": [
    "class Generator(nn.Module):\n",
    "    \"Define standard linear + softmax generation step.\"\n",
    "    def __init__(self, d_model, vocab):\n",
    "        super(Generator, self).__init__()\n",
    "        self.proj = nn.Linear(d_model, vocab)\n",
    "\n",
    "    def forward(self, x):\n",
    "        return F.log_softmax(self.proj(x), dim=-1)"
   ]
  },
  {
   "cell_type": "markdown",
   "id": "51411073",
   "metadata": {},
   "source": [
    "### encoder든 decoder는 스택쌓아서 하니까 관련 함수를 만들어 써보자"
   ]
  },
  {
   "cell_type": "code",
   "execution_count": 5,
   "id": "96937348",
   "metadata": {},
   "outputs": [],
   "source": [
    "def clones(module, N):\n",
    "    \"Produce N identical layers.\"\n",
    "    return nn.ModuleList([copy.deepcopy(module) for _ in range(N)])"
   ]
  },
  {
   "cell_type": "markdown",
   "id": "e56c5325",
   "metadata": {},
   "source": [
    "### Encoder는 n번의 encoder layer를 쌓고 layer norm을 한다.\n",
    "- 참고로 layernorm 아직 정의안했다."
   ]
  },
  {
   "cell_type": "code",
   "execution_count": 6,
   "id": "5211f3e4",
   "metadata": {},
   "outputs": [],
   "source": [
    "class Encoder(nn.Module):\n",
    "    \"Core encoder is a stack of N layers\"\n",
    "    def __init__(self, layer, N):\n",
    "        super(Encoder, self).__init__()\n",
    "        self.layers = clones(layer, N)\n",
    "        self.norm = LayerNorm(layer.size)\n",
    "        \n",
    "    def forward(self, x, mask):\n",
    "        \"Pass the input (and mask) through each layer in turn.\"\n",
    "        for layer in self.layers:\n",
    "            x = layer(x, mask)\n",
    "        return self.norm(x)"
   ]
  },
  {
   "cell_type": "markdown",
   "id": "c68684b3",
   "metadata": {},
   "source": [
    "### layer norm은 transformer와 별개의 기법이지만 좋으니까 쓰나보다.\n",
    "- 방식은 layer size를 받아서 훈련이 가능한 weight 가중치를 만든다.\n",
    "  - batch norm마냥 결과를 normalize하고 적당히 가중치를 곱하고 더해주는데 이거 사실상 조정이라 생각한다."
   ]
  },
  {
   "cell_type": "code",
   "execution_count": 7,
   "id": "269d2d3b",
   "metadata": {},
   "outputs": [],
   "source": [
    "class LayerNorm(nn.Module):\n",
    "    \"Construct a layernorm module (See citation for details).\"\n",
    "    def __init__(self, features, eps=1e-6):\n",
    "        super(LayerNorm, self).__init__()\n",
    "        self.a_2 = nn.Parameter(torch.ones(features))\n",
    "        self.b_2 = nn.Parameter(torch.zeros(features))\n",
    "        self.eps = eps\n",
    "\n",
    "    def forward(self, x):\n",
    "        mean = x.mean(-1, keepdim=True)\n",
    "        std = x.std(-1, keepdim=True)\n",
    "        return self.a_2 * (x - mean) / (std + self.eps) + self.b_2"
   ]
  },
  {
   "cell_type": "markdown",
   "id": "4d34ff25",
   "metadata": {},
   "source": [
    "### Encoder Layer를 만들기 전에 좀 더 깔끔히 만들라고 중복코드 반출\n",
    "> encoder layer는 multi head attention block랑 position wise fully connected FF net의 두개블럭이있는데. 각각의 블럭은 residual이라 residual 모듈을 미리 만들엇다."
   ]
  },
  {
   "cell_type": "code",
   "execution_count": 8,
   "id": "99202ebc",
   "metadata": {},
   "outputs": [],
   "source": [
    "class SublayerConnection(nn.Module):\n",
    "    \"\"\"\n",
    "    A residual connection followed by a layer norm.\n",
    "    Note for code simplicity the norm is first as opposed to last.\n",
    "    \"\"\"\n",
    "    def __init__(self, size, dropout):\n",
    "        super(SublayerConnection, self).__init__()\n",
    "        self.norm = LayerNorm(size)\n",
    "        self.dropout = nn.Dropout(dropout)\n",
    "\n",
    "    def forward(self, x, sublayer):\n",
    "        \"Apply residual connection to any sublayer with the same size.\"\n",
    "        return x + self.dropout(sublayer(self.norm(x)))"
   ]
  },
  {
   "cell_type": "markdown",
   "id": "03f71a34",
   "metadata": {},
   "source": [
    "### encoder layer를 그래서 대충 붙이면 아래처럼된다.\n",
    "- 대충 눈으로 봐도 알겠지만 sublayer를 attention이랑 ff블럭에 각각붙여서 순서대로 먹인다"
   ]
  },
  {
   "cell_type": "code",
   "execution_count": 9,
   "id": "3d8efd37",
   "metadata": {},
   "outputs": [],
   "source": [
    "class EncoderLayer(nn.Module):\n",
    "    \"Encoder is made up of self-attn and feed forward (defined below)\"\n",
    "    def __init__(self, size, self_attn, feed_forward, dropout):\n",
    "        super(EncoderLayer, self).__init__()\n",
    "        self.self_attn = self_attn\n",
    "        self.feed_forward = feed_forward\n",
    "        self.sublayer = clones(SublayerConnection(size, dropout), 2)\n",
    "        self.size = size\n",
    "\n",
    "    def forward(self, x, mask):\n",
    "        \"Follow Figure 1 (left) for connections.\"\n",
    "        x = self.sublayer[0](x, lambda x: self.self_attn(x, x, x, mask))\n",
    "        return self.sublayer[1](x, self.feed_forward)"
   ]
  },
  {
   "cell_type": "markdown",
   "id": "bdc0eb8a",
   "metadata": {},
   "source": [
    "### decoder도 사실 똑같이 반복이라는  아래의 코드이다. \n",
    "- 입력에서 신경쓰이는 다른것들이 있지만 이건 나중에 알게된다."
   ]
  },
  {
   "cell_type": "code",
   "execution_count": 10,
   "id": "53eef33a",
   "metadata": {},
   "outputs": [],
   "source": [
    "class Decoder(nn.Module):\n",
    "    \"Generic N layer decoder with masking.\"\n",
    "    def __init__(self, layer, N):\n",
    "        super(Decoder, self).__init__()\n",
    "        self.layers = clones(layer, N)\n",
    "        self.norm = LayerNorm(layer.size)\n",
    "        \n",
    "    def forward(self, x, memory, src_mask, tgt_mask):\n",
    "        for layer in self.layers:\n",
    "            x = layer(x, memory, src_mask, tgt_mask)\n",
    "        return self.norm(x)"
   ]
  },
  {
   "cell_type": "markdown",
   "id": "8e159483",
   "metadata": {},
   "source": [
    "### decoder layer는 3단계다.\n",
    "- 이전까지의 자기끼리 참고하는 attention\n",
    "- source에서 참고할걸 찾아가는 attention\n",
    "- 정돈을 위한 feedforward"
   ]
  },
  {
   "cell_type": "code",
   "execution_count": 11,
   "id": "8cd0a26c",
   "metadata": {},
   "outputs": [],
   "source": [
    "class DecoderLayer(nn.Module):\n",
    "    \"Decoder is made of self-attn, src-attn, and feed forward (defined below)\"\n",
    "    def __init__(self, size, self_attn, src_attn, feed_forward, dropout):\n",
    "        super(DecoderLayer, self).__init__()\n",
    "        self.size = size\n",
    "        self.self_attn = self_attn\n",
    "        self.src_attn = src_attn\n",
    "        self.feed_forward = feed_forward\n",
    "        self.sublayer = clones(SublayerConnection(size, dropout), 3)\n",
    " \n",
    "    def forward(self, x, memory, src_mask, tgt_mask):\n",
    "        \"Follow Figure 1 (right) for connections.\"\n",
    "        m = memory\n",
    "        x = self.sublayer[0](x, lambda x: self.self_attn(x, x, x, tgt_mask))\n",
    "        x = self.sublayer[1](x, lambda x: self.src_attn(x, m, m, src_mask))\n",
    "        return self.sublayer[2](x, self.feed_forward)"
   ]
  },
  {
   "cell_type": "markdown",
   "id": "8db426b0",
   "metadata": {},
   "source": [
    "### decoder의 마스크를 먼저 만들어보자\n",
    "- 훈련단계에서는 자기 이전의 출력만 볼 수 있는데 그걸 마스크로 만들면 대충 다음처럼 나온다.\n",
    "- 아까 공부할때도 미묘했지만 그냥 tril을 쓰면 안되나 싶다."
   ]
  },
  {
   "cell_type": "code",
   "execution_count": 17,
   "id": "59ca6c94",
   "metadata": {},
   "outputs": [],
   "source": [
    "def subsequent_mask(size):\n",
    "    \"Mask out subsequent positions.\"\n",
    "    attn_shape = (1, size, size)\n",
    "    subsequent_mask = np.triu(np.ones(attn_shape), k=1).astype('uint8')\n",
    "    return torch.from_numpy(subsequent_mask) == 0\n",
    "\n",
    "def subsequent_mask2(size):\n",
    "    \"Mask out subsequent positions.\"\n",
    "    attn_shape = (1, size, size)\n",
    "    subsequent_mask = np.tril(np.ones(attn_shape)==1)\n",
    "    return torch.from_numpy(subsequent_mask)"
   ]
  },
  {
   "cell_type": "code",
   "execution_count": 18,
   "id": "df521c00",
   "metadata": {},
   "outputs": [
    {
     "data": {
      "image/png": "[encoded data removed]",
      "text/plain": [
       "<Figure size 360x360 with 1 Axes>"
      ]
     },
     "metadata": {
      "needs_background": "light"
     },
     "output_type": "display_data"
    }
   ],
   "source": [
    "plt.figure(figsize=(5,5))\n",
    "plt.imshow(subsequent_mask(20)[0])\n",
    "None"
   ]
  },
  {
   "cell_type": "code",
   "execution_count": 19,
   "id": "5a7c3ddb",
   "metadata": {},
   "outputs": [
    {
     "data": {
      "text/plain": [
       "tensor([[[ True, False, False, False, False],\n",
       "         [ True,  True, False, False, False],\n",
       "         [ True,  True,  True, False, False],\n",
       "         [ True,  True,  True,  True, False],\n",
       "         [ True,  True,  True,  True,  True]]])"
      ]
     },
     "execution_count": 19,
     "metadata": {},
     "output_type": "execute_result"
    }
   ],
   "source": [
    "subsequent_mask(5)"
   ]
  },
  {
   "cell_type": "code",
   "execution_count": 20,
   "id": "d63a8016",
   "metadata": {},
   "outputs": [
    {
     "data": {
      "text/plain": [
       "tensor([[[ True, False, False, False, False],\n",
       "         [ True,  True, False, False, False],\n",
       "         [ True,  True,  True, False, False],\n",
       "         [ True,  True,  True,  True, False],\n",
       "         [ True,  True,  True,  True,  True]]])"
      ]
     },
     "execution_count": 20,
     "metadata": {},
     "output_type": "execute_result"
    }
   ],
   "source": [
    "subsequent_mask2(5)"
   ]
  },
  {
   "cell_type": "markdown",
   "id": "c42239b2",
   "metadata": {},
   "source": [
    "### attention\n",
    "- q, k, v를 입력받아서 mask먹이고 attention을 구하는 이친구를 봐보자."
   ]
  },
  {
   "cell_type": "code",
   "execution_count": 21,
   "id": "24fa9dfe",
   "metadata": {},
   "outputs": [],
   "source": [
    "def attention(query, key, value, mask=None, dropout=None):\n",
    "    \"Compute 'Scaled Dot Product Attention'\"\n",
    "    # 맨마지막은 무조건 d_k인것을 check\n",
    "    d_k = query.size(-1)\n",
    "    \n",
    "    # 맨마지막에서 2번째는 seq_len임을 check\n",
    "    scores = torch.matmul(query, key.transpose(-2, -1)) \\\n",
    "             / math.sqrt(d_k)\n",
    "    if mask is not None:\n",
    "        scores = scores.masked_fill(mask == 0, -1e9)\n",
    "    p_attn = F.softmax(scores, dim = -1)\n",
    "    if dropout is not None:\n",
    "        p_attn = dropout(p_attn)\n",
    "    return torch.matmul(p_attn, value), p_attn"
   ]
  },
  {
   "cell_type": "code",
   "execution_count": 22,
   "id": "72c3f859",
   "metadata": {},
   "outputs": [
    {
     "data": {
      "text/plain": [
       "True"
      ]
     },
     "execution_count": 22,
     "metadata": {},
     "output_type": "execute_result"
    }
   ],
   "source": [
    "False == 0"
   ]
  },
  {
   "cell_type": "markdown",
   "id": "d6619d78",
   "metadata": {},
   "source": [
    "### 여러 파츠를 참고하고 싶으니까 multi head attention을 채용한다.\n",
    "- 그냥 중간 결과를 나누어서 attention을 한다."
   ]
  },
  {
   "cell_type": "code",
   "execution_count": 26,
   "id": "f5c32f72",
   "metadata": {},
   "outputs": [],
   "source": [
    "class MultiHeadedAttention(nn.Module):\n",
    "    def __init__(self, h, d_model, dropout=0.1):\n",
    "        \"Take in model size and number of heads.\"\n",
    "        super(MultiHeadedAttention, self).__init__()\n",
    "        assert d_model % h == 0\n",
    "        # We assume d_v always equals d_k\n",
    "        self.d_k = d_model // h\n",
    "        self.h = h\n",
    "        # 3개는 q k v꺼, 1개는 리폼용\n",
    "        self.linears = clones(nn.Linear(d_model, d_model), 4)\n",
    "        self.attn = None\n",
    "        self.dropout = nn.Dropout(p=dropout)\n",
    "        \n",
    "    def forward(self, query, key, value, mask=None):\n",
    "        \"Implements Figure 2\"\n",
    "        if mask is not None:\n",
    "            # Same mask applied to all h heads.\n",
    "            mask = mask.unsqueeze(1)\n",
    "        \n",
    "        # 1번 dim이 head의 차원이라고 위에서 정하고 0번 차원이 batch 라고 정했음.\n",
    "        nbatches = query.size(0)\n",
    "        \n",
    "        # 1) Do all the linear projections in batch from d_model => h x d_k \n",
    "        # linear로 곱하고 나서 자르는데, 자르고 batch, head, seqlen, dk가 되도록 view를 먹임\n",
    "        query, key, value = \\\n",
    "            [l(x).view(nbatches, -1, self.h, self.d_k).transpose(1, 2)\n",
    "             for l, x in zip(self.linears, (query, key, value))]\n",
    "        \n",
    "        # 2) Apply attention on all the projected vectors in batch. \n",
    "        # 특이한게 attention의 정의는 3개의 dim짜리로 했는데 4개의 dim으로 확장해도 어떻게 되는게 신기하다.\n",
    "        x, self.attn = attention(query, key, value, mask=mask, \n",
    "                                 dropout=self.dropout)\n",
    "        \n",
    "        # 3) \"Concat\" using a view and apply a final linear. \n",
    "        # x에는 attn이 먹여진 결과가 이미 들어가 있는데 다시 합치기 위해서 head 를 2번으로 옮겨주고 view를 사용할 수 있게, contiguous()를 먹인다.\n",
    "        # view로 원래의 batch, seq_len, d_embeded로 복귀한다.\n",
    "        x = x.transpose(1, 2).contiguous() \\\n",
    "             .view(nbatches, -1, self.h * self.d_k)\n",
    "        return self.linears[-1](x)"
   ]
  },
  {
   "cell_type": "code",
   "execution_count": 25,
   "id": "fb070c37",
   "metadata": {},
   "outputs": [
    {
     "name": "stdout",
     "output_type": "stream",
     "text": [
      "1 5\n",
      "2 6\n",
      "3 7\n"
     ]
    }
   ],
   "source": [
    "# clone 4번째는  concat한거 리폼용이다.\n",
    "for i, j in zip([1, 2, 3, 4], (5, 6, 7)):\n",
    "    print(i, j)"
   ]
  },
  {
   "cell_type": "markdown",
   "id": "2c923c59",
   "metadata": {},
   "source": [
    "### PositionwiseFeedForward 요거 디게 별거없다 늘렷다 줄엿다 하면 끝이다."
   ]
  },
  {
   "cell_type": "code",
   "execution_count": 27,
   "id": "77a1df0e",
   "metadata": {},
   "outputs": [],
   "source": [
    "class PositionwiseFeedForward(nn.Module):\n",
    "    \"Implements FFN equation.\"\n",
    "    def __init__(self, d_model, d_ff, dropout=0.1):\n",
    "        super(PositionwiseFeedForward, self).__init__()\n",
    "        self.w_1 = nn.Linear(d_model, d_ff)\n",
    "        self.w_2 = nn.Linear(d_ff, d_model)\n",
    "        self.dropout = nn.Dropout(dropout)\n",
    "\n",
    "    def forward(self, x):\n",
    "        return self.w_2(self.dropout(F.relu(self.w_1(x))))"
   ]
  },
  {
   "cell_type": "markdown",
   "id": "5c7f7f9e",
   "metadata": {},
   "source": [
    "## 이제 입력 데이터를 손봐보자\n",
    "- 데이터는 2단계로 구성되는데\n",
    "  - vocab -> d_embded로 바꾸는 매핑과정 참고로 int넣어서 vector나온다\n",
    "  - positional encoding을 추가하는 과정 (sin, cos랑 주기가 적당히 엮여서 나오는 함수인데 수식으로 이해하자)"
   ]
  },
  {
   "cell_type": "code",
   "execution_count": 28,
   "id": "b7c81e1d",
   "metadata": {},
   "outputs": [],
   "source": [
    "class Embeddings(nn.Module):\n",
    "    def __init__(self, d_model, vocab):\n",
    "        super(Embeddings, self).__init__()\n",
    "        self.lut = nn.Embedding(vocab, d_model)\n",
    "        self.d_model = d_model\n",
    "\n",
    "    def forward(self, x):\n",
    "        return self.lut(x) * math.sqrt(self.d_model)"
   ]
  },
  {
   "cell_type": "code",
   "execution_count": 29,
   "id": "8738699e",
   "metadata": {},
   "outputs": [],
   "source": [
    "class PositionalEncoding(nn.Module):\n",
    "    \"Implement the PE function.\"\n",
    "    def __init__(self, d_model, dropout, max_len=5000):\n",
    "        super(PositionalEncoding, self).__init__()\n",
    "        self.dropout = nn.Dropout(p=dropout)\n",
    "        \n",
    "        # Compute the positional encodings once in log space.\n",
    "        pe = torch.zeros(max_len, d_model)\n",
    "        position = torch.arange(0, max_len).unsqueeze(1)\n",
    "        div_term = torch.exp(torch.arange(0, d_model, 2) *\n",
    "                             -(math.log(10000.0) / d_model))\n",
    "        pe[:, 0::2] = torch.sin(position * div_term)\n",
    "        pe[:, 1::2] = torch.cos(position * div_term)\n",
    "        pe = pe.unsqueeze(0)\n",
    "        self.register_buffer('pe', pe)\n",
    "        \n",
    "    def forward(self, x):\n",
    "        x = x + Variable(self.pe[:, :x.size(1)], \n",
    "                         requires_grad=False)\n",
    "        return self.dropout(x)"
   ]
  },
  {
   "cell_type": "markdown",
   "id": "afdec6f6",
   "metadata": {},
   "source": [
    "## 아래 그림보면 dim마다 다른 주기를 같는 positional encoding을 볼 수 있다."
   ]
  },
  {
   "cell_type": "code",
   "execution_count": 30,
   "id": "262b1c55",
   "metadata": {},
   "outputs": [
    {
     "data": {
      "image/png": "[encoded data removed]",
      "text/plain": [
       "<Figure size 1080x360 with 1 Axes>"
      ]
     },
     "metadata": {
      "needs_background": "light"
     },
     "output_type": "display_data"
    }
   ],
   "source": [
    "plt.figure(figsize=(15, 5))\n",
    "pe = PositionalEncoding(20, 0)\n",
    "y = pe.forward(Variable(torch.zeros(1, 100, 20)))\n",
    "plt.plot(np.arange(100), y[0, :, 4:8].data.numpy())\n",
    "plt.legend([\"dim %d\"%p for p in [4,5,6,7]])\n",
    "None"
   ]
  },
  {
   "cell_type": "code",
   "execution_count": 32,
   "id": "4d6545f5",
   "metadata": {},
   "outputs": [
    {
     "data": {
      "text/plain": [
       "tensor([[[0., 0., 0.,  ..., 0., 0., 0.],\n",
       "         [0., 0., 0.,  ..., 0., 0., 0.],\n",
       "         [0., 0., 0.,  ..., 0., 0., 0.],\n",
       "         ...,\n",
       "         [0., 0., 0.,  ..., 0., 0., 0.],\n",
       "         [0., 0., 0.,  ..., 0., 0., 0.],\n",
       "         [0., 0., 0.,  ..., 0., 0., 0.]]])"
      ]
     },
     "execution_count": 32,
     "metadata": {},
     "output_type": "execute_result"
    }
   ],
   "source": [
    "Variable(torch.zeros(1, 100, 20))\n",
    "# positional encoding은 dim과 seq time에 의존적"
   ]
  },
  {
   "cell_type": "markdown",
   "id": "cd8f7281",
   "metadata": {},
   "source": [
    "### 각각의 구성이 복잡한 만큼 make model은 짧고 밀도가 크다. 잘 읽어보자"
   ]
  },
  {
   "cell_type": "code",
   "execution_count": 33,
   "id": "524a3e75",
   "metadata": {},
   "outputs": [],
   "source": [
    "def make_model(src_vocab, tgt_vocab, N=6, \n",
    "               d_model=512, d_ff=2048, h=8, dropout=0.1):\n",
    "    \"Helper: Construct a model from hyperparameters.\"\n",
    "    c = copy.deepcopy # 여러번쓸 layer 정보를 주소 안겹치게 주기위함\n",
    "    attn = MultiHeadedAttention(h, d_model) # attention은 고정적으로 h개의 head와 출력 dim을 d_model로 하겠다고 선언\n",
    "    ff = PositionwiseFeedForward(d_model, d_ff, dropout) # 중간 hidden unit수가 2048이 되게 정돈하는 ff만 쓰겟다고 선언\n",
    "    position = PositionalEncoding(d_model, dropout) #  입력에만 쓰겟지만 일단 positional encoding 모듈을 구성\n",
    "    model = EncoderDecoder(\n",
    "        Encoder(EncoderLayer(d_model, c(attn), c(ff), dropout), N),\n",
    "        Decoder(DecoderLayer(d_model, c(attn), c(attn), \n",
    "                             c(ff), dropout), N),\n",
    "        nn.Sequential(Embeddings(d_model, src_vocab), c(position)), \n",
    "        nn.Sequential(Embeddings(d_model, tgt_vocab), c(position)), # tgt_vocab이 다를 수 있다. 번역같은경우\n",
    "        Generator(d_model, tgt_vocab))\n",
    "    \n",
    "    # This was important from their code. \n",
    "    # Initialize parameters with Glorot / fan_avg.\n",
    "    for p in model.parameters():\n",
    "        if p.dim() > 1:\n",
    "            nn.init.xavier_uniform(p)\n",
    "    return model"
   ]
  },
  {
   "cell_type": "markdown",
   "id": "9faab9e6",
   "metadata": {},
   "source": [
    "### batch랑 mask를 만들어보자\n",
    "- 위에서 정의했던 subsequent_mask를 쓰는데 했갈리니까 그냥 아래로 끌고왔다."
   ]
  },
  {
   "cell_type": "code",
   "execution_count": 34,
   "id": "ccd70b41",
   "metadata": {},
   "outputs": [],
   "source": [
    "def subsequent_mask(size):\n",
    "    \"Mask out subsequent positions.\"\n",
    "    attn_shape = (1, size, size)\n",
    "    subsequent_mask = np.triu(np.ones(attn_shape), k=1).astype('uint8')\n",
    "    return torch.from_numpy(subsequent_mask) == 0\n",
    "\n",
    "def subsequent_mask2(size):\n",
    "    \"Mask out subsequent positions.\"\n",
    "    attn_shape = (1, size, size)\n",
    "    subsequent_mask = np.tril(np.ones(attn_shape)==1)\n",
    "    return torch.from_numpy(subsequent_mask)\n",
    "\n",
    "\n",
    "class Batch:\n",
    "    \"Object for holding a batch of data with mask during training.\"\n",
    "    def __init__(self, src, trg=None, pad=0):\n",
    "        # 느낌이 오겠지만, src는 이미 패딩되어있다.\n",
    "        # 여기서 왜 unsqueeze를 해주는가 하면 기본은 batch, seqlen인데 이걸 batch, 1, seqlen으로 바뀌게 된다.\n",
    "        # 이게 왜 필요한가하면, 나중에 decoding을 할 때, 잘보면 1개씩 늘어나는데 seq[:1], seq[:2], ---, seq[:seqlen]까지 총 n개가 들어갈거고\n",
    "        # 그거에 따라서 target mask를 위에서 정의한 subsequent_mask로 만들것이다. 즉, 하나의 seq에서 여러 배치를 돌릴꺼니까 미리 dim을 증축하는 것이다.\n",
    "        self.src = src\n",
    "        self.src_mask = (src != pad).unsqueeze(-2)\n",
    "        \n",
    "        # target이 있으면 trg관련 mask를 만드려 하는듯하다.\n",
    "        \n",
    "        \n",
    "        \n",
    "        if trg is not None:\n",
    "            # 첫 두줄의 의미는 각각 다음걸 예측할거니까 input / output이 연속 관계니까 멘뒤자르고 맨앞잘라서 trg in과 trg out으로 나눈거다\n",
    "            self.trg = trg[:, :-1]\n",
    "            self.trg_y = trg[:, 1:]\n",
    "            # mask를 어떻게 만드는지는 아레에 함수를 따로 정의한다.\n",
    "            self.trg_mask = \\\n",
    "                self.make_std_mask(self.trg, pad)\n",
    "            self.ntokens = (self.trg_y != pad).data.sum() # 요거 data가 무슨 의미가 있을지 모르겠다 없어도 작동은 잘한다.\n",
    "    \n",
    "    @staticmethod\n",
    "    # 여기서 짚고 넘어가야하는건 tgt는 타겟이라고 적었으면서 실제는 과거 값 즉 입력이다.\n",
    "    def make_std_mask(tgt, pad):\n",
    "        \"Create a mask to hide padding and future words.\"\n",
    "        # 기본은 일단 끊긴 부분은 죽이는거다.\n",
    "        tgt_mask = (tgt != pad).unsqueeze(-2)\n",
    "        # seqlen만큼 순차적으로 배치를 만들거라 dim이좀 커진다. batch, seqlen, seqlen이 된다.\n",
    "        tgt_mask = tgt_mask & Variable(\n",
    "            subsequent_mask(tgt.size(-1)).type_as(tgt_mask.data))\n",
    "        return tgt_mask"
   ]
  },
  {
   "cell_type": "code",
   "execution_count": 38,
   "id": "9a27a232",
   "metadata": {},
   "outputs": [
    {
     "data": {
      "text/plain": [
       "tensor([[1., 2., 3., 0., 0., 0.],\n",
       "        [1., 2., 3., 4., 5., 0.]])"
      ]
     },
     "execution_count": 38,
     "metadata": {},
     "output_type": "execute_result"
    }
   ],
   "source": [
    "a = torch.Tensor([[1,2,3,0,0,0], [1,2,3,4,5,0]])\n",
    "a"
   ]
  },
  {
   "cell_type": "code",
   "execution_count": 39,
   "id": "1cafe747",
   "metadata": {},
   "outputs": [
    {
     "data": {
      "text/plain": [
       "tensor([[ True,  True,  True, False, False, False],\n",
       "        [ True,  True,  True,  True,  True, False]])"
      ]
     },
     "execution_count": 39,
     "metadata": {},
     "output_type": "execute_result"
    }
   ],
   "source": [
    "a != 0"
   ]
  },
  {
   "cell_type": "code",
   "execution_count": 40,
   "id": "adc506ad",
   "metadata": {},
   "outputs": [
    {
     "data": {
      "text/plain": [
       "tensor([[[ True,  True,  True, False, False, False]],\n",
       "\n",
       "        [[ True,  True,  True,  True,  True, False]]])"
      ]
     },
     "execution_count": 40,
     "metadata": {},
     "output_type": "execute_result"
    }
   ],
   "source": [
    "(a != 0).unsqueeze(-2)"
   ]
  },
  {
   "cell_type": "code",
   "execution_count": 42,
   "id": "25c1ab73",
   "metadata": {},
   "outputs": [
    {
     "data": {
      "text/plain": [
       "tensor(8)"
      ]
     },
     "execution_count": 42,
     "metadata": {},
     "output_type": "execute_result"
    }
   ],
   "source": [
    "(a != 0).unsqueeze(-2).sum()"
   ]
  },
  {
   "cell_type": "code",
   "execution_count": 47,
   "id": "7a34a8fe",
   "metadata": {},
   "outputs": [
    {
     "name": "stdout",
     "output_type": "stream",
     "text": [
      "tensor([[[ True,  True,  True, False, False, False]],\n",
      "\n",
      "        [[ True,  True,  True,  True,  True, False]]])\n",
      "@@@@@@@@@@@@@@@@@@@@\n",
      "tensor([[[ True, False, False, False, False, False],\n",
      "         [ True,  True, False, False, False, False],\n",
      "         [ True,  True,  True, False, False, False],\n",
      "         [ True,  True,  True, False, False, False],\n",
      "         [ True,  True,  True, False, False, False],\n",
      "         [ True,  True,  True, False, False, False]],\n",
      "\n",
      "        [[ True, False, False, False, False, False],\n",
      "         [ True,  True, False, False, False, False],\n",
      "         [ True,  True,  True, False, False, False],\n",
      "         [ True,  True,  True,  True, False, False],\n",
      "         [ True,  True,  True,  True,  True, False],\n",
      "         [ True,  True,  True,  True,  True, False]]])\n",
      "@@@@@@@@@@@@@@@@@@@@\n"
     ]
    }
   ],
   "source": [
    "tgt_mask = (a != 0).unsqueeze(-2)\n",
    "print(tgt_mask)\n",
    "print('@'*20)\n",
    "tgt_mask = tgt_mask & Variable(subsequent_mask(a.size(-1)).type_as(tgt_mask.data))\n",
    "print(tgt_mask)\n",
    "print('@'*20)"
   ]
  },
  {
   "cell_type": "markdown",
   "id": "608306f8",
   "metadata": {},
   "source": [
    "### training 과정은 꽤 단순해진다\n",
    "- data를 모델에 넣고 loss를 구하는것 즉 세개의 원소를 입력으로주면된다."
   ]
  },
  {
   "cell_type": "code",
   "execution_count": 48,
   "id": "0e5c5677",
   "metadata": {},
   "outputs": [],
   "source": [
    "def run_epoch(data_iter, model, loss_compute):\n",
    "    \"Standard Training and Logging Function\"\n",
    "    start = time.time()\n",
    "    total_tokens = 0\n",
    "    total_loss = 0\n",
    "    tokens = 0\n",
    "    for i, batch in enumerate(data_iter):\n",
    "        out = model.forward(batch.src, batch.trg, \n",
    "                            batch.src_mask, batch.trg_mask)\n",
    "        loss = loss_compute(out, batch.trg_y, batch.ntokens)\n",
    "        total_loss += loss\n",
    "        total_tokens += batch.ntokens\n",
    "        tokens += batch.ntokens\n",
    "        if i % 50 == 1:\n",
    "            elapsed = time.time() - start\n",
    "            print(\"Epoch Step: %d Loss: %f Tokens per Sec: %f\" %\n",
    "                    (i, loss / batch.ntokens, tokens / elapsed))\n",
    "            start = time.time()\n",
    "            tokens = 0\n",
    "    return total_loss / total_tokens"
   ]
  },
  {
   "cell_type": "markdown",
   "id": "515437d0",
   "metadata": {},
   "source": [
    "### 요거는 batch size를 정하기 위해서  대충 얼마나큼 데이터들이 들어가는지 알아내는 함수이다."
   ]
  },
  {
   "cell_type": "code",
   "execution_count": 49,
   "id": "defca0c9",
   "metadata": {},
   "outputs": [],
   "source": [
    "global max_src_in_batch, max_tgt_in_batch\n",
    "def batch_size_fn(new, count, sofar):\n",
    "    \"Keep augmenting batch and calculate total number of tokens + padding.\"\n",
    "    global max_src_in_batch, max_tgt_in_batch\n",
    "    if count == 1:\n",
    "        max_src_in_batch = 0\n",
    "        max_tgt_in_batch = 0\n",
    "    max_src_in_batch = max(max_src_in_batch,  len(new.src))\n",
    "    max_tgt_in_batch = max(max_tgt_in_batch,  len(new.trg) + 2) # 요거는 start token이랑 end token이 필요해서 2개만큼 더 길어진다\n",
    "    src_elements = count * max_src_in_batch\n",
    "    tgt_elements = count * max_tgt_in_batch\n",
    "    return max(src_elements, tgt_elements)"
   ]
  },
  {
   "cell_type": "markdown",
   "id": "3e7b6e4a",
   "metadata": {},
   "source": [
    "### 슬슬 거의다왔다 이제 Optimizer이다.\n",
    "- adam을 쓰는데 세부 스케줄러를 봐보면 초반에 lr을 늘려가는 warmup기법과 점차적으로 lr을 낮추는 기법을 섞는다.\n",
    "- optimier는 step을 갖는 함수면되는듯하다.\n",
    "  - step은 optimizer가 갖는 기본 내장변수로, optimizer.param_groups의 p가 갖는 lr이라는 원소에 따라 weight에 변화를 주게된다."
   ]
  },
  {
   "cell_type": "code",
   "execution_count": 50,
   "id": "b387ea70",
   "metadata": {},
   "outputs": [],
   "source": [
    "class NoamOpt:\n",
    "    \"Optim wrapper that implements rate.\"\n",
    "    def __init__(self, model_size, factor, warmup, optimizer):\n",
    "        self.optimizer = optimizer\n",
    "        self._step = 0\n",
    "        self.warmup = warmup\n",
    "        self.factor = factor\n",
    "        self.model_size = model_size\n",
    "        self._rate = 0\n",
    "        \n",
    "    def step(self):\n",
    "        \"Update parameters and rate\"\n",
    "        self._step += 1\n",
    "        rate = self.rate()\n",
    "        for p in self.optimizer.param_groups:\n",
    "            p['lr'] = rate\n",
    "        self._rate = rate\n",
    "        self.optimizer.step()\n",
    "        \n",
    "    def rate(self, step = None):\n",
    "        \"Implement `lrate` above\"\n",
    "        if step is None:\n",
    "            step = self._step\n",
    "        return self.factor * \\\n",
    "            (self.model_size ** (-0.5) *\n",
    "            min(step ** (-0.5), step * self.warmup ** (-1.5)))\n",
    "        \n",
    "def get_std_opt(model):\n",
    "    return NoamOpt(model.src_embed[0].d_model, 2, 4000,\n",
    "            torch.optim.Adam(model.parameters(), lr=0, betas=(0.9, 0.98), eps=1e-9))"
   ]
  },
  {
   "cell_type": "markdown",
   "id": "d7a16320",
   "metadata": {},
   "source": [
    "# Label Smoothing이라는 기법을 적용하는데 일단 살펴보자\n",
    "- [Link](https://3months.tistory.com/465)요거인데 그냥 적당히 상수로 정해진 smoothing을 적용하는 것이다. 사실상 학습량 조절이라 보면될듯"
   ]
  },
  {
   "cell_type": "code",
   "execution_count": 87,
   "id": "d5934947",
   "metadata": {},
   "outputs": [],
   "source": [
    "class LabelSmoothing(nn.Module):\n",
    "    \"Implement label smoothing.\"\n",
    "    def __init__(self, size, padding_idx, smoothing=0.0):\n",
    "        super(LabelSmoothing, self).__init__()\n",
    "        self.criterion = nn.KLDivLoss(size_average=False)\n",
    "        self.padding_idx = padding_idx\n",
    "        self.confidence = 1.0 - smoothing # 요거만큼 죽일거란거다\n",
    "        self.smoothing = smoothing\n",
    "        self.size = size\n",
    "        self.true_dist = None\n",
    "        \n",
    "    def forward(self, x, target):\n",
    "        assert x.size(1) == self.size\n",
    "        true_dist = x.data.clone()\n",
    "        true_dist.fill_(self.smoothing / (self.size - 2)) # eos랑 지금 값은 아닐거라서 빼주는듯하다.\n",
    "        print(true_dist)\n",
    "        print('-'*89)\n",
    "        true_dist.scatter_(1, target.data.unsqueeze(1), self.confidence) # onehop을 먹일건데 주는 값이 self.confidence 요거다\n",
    "        print(true_dist)\n",
    "        print('-'*89)\n",
    "        true_dist[:, self.padding_idx] = 0\n",
    "        print(true_dist)\n",
    "        print('-'*89)\n",
    "        mask = torch.nonzero(target.data == self.padding_idx) # 특이하게 좌표로 그냥준다.\n",
    "        \n",
    "        print(mask)\n",
    "        print('-'*89)\n",
    "        if mask.dim() > 0:\n",
    "            true_dist.index_fill_(0, mask.squeeze(), 0.0)\n",
    "            print(true_dist)\n",
    "            print('-'*89)\n",
    "        self.true_dist = true_dist\n",
    "        print(true_dist)\n",
    "        print('-'*89)\n",
    "        return self.criterion(x, Variable(true_dist, requires_grad=False))"
   ]
  },
  {
   "cell_type": "code",
   "execution_count": 88,
   "id": "b3b6dbf2",
   "metadata": {},
   "outputs": [
    {
     "name": "stdout",
     "output_type": "stream",
     "text": [
      "tensor([[   -inf, -1.6094, -0.3567, -2.3026,    -inf],\n",
      "        [   -inf, -1.6094, -0.3567, -2.3026,    -inf],\n",
      "        [   -inf, -1.6094, -0.3567, -2.3026,    -inf]])\n",
      "tensor([[0.1333, 0.1333, 0.1333, 0.1333, 0.1333],\n",
      "        [0.1333, 0.1333, 0.1333, 0.1333, 0.1333],\n",
      "        [0.1333, 0.1333, 0.1333, 0.1333, 0.1333]])\n",
      "-----------------------------------------------------------------------------------------\n",
      "tensor([[0.1333, 0.1333, 0.6000, 0.1333, 0.1333],\n",
      "        [0.1333, 0.6000, 0.1333, 0.1333, 0.1333],\n",
      "        [0.6000, 0.1333, 0.1333, 0.1333, 0.1333]])\n",
      "-----------------------------------------------------------------------------------------\n",
      "tensor([[0.0000, 0.1333, 0.6000, 0.1333, 0.1333],\n",
      "        [0.0000, 0.6000, 0.1333, 0.1333, 0.1333],\n",
      "        [0.0000, 0.1333, 0.1333, 0.1333, 0.1333]])\n",
      "-----------------------------------------------------------------------------------------\n",
      "tensor([[2]])\n",
      "-----------------------------------------------------------------------------------------\n",
      "tensor([[0.0000, 0.1333, 0.6000, 0.1333, 0.1333],\n",
      "        [0.0000, 0.6000, 0.1333, 0.1333, 0.1333],\n",
      "        [0.0000, 0.0000, 0.0000, 0.0000, 0.0000]])\n",
      "-----------------------------------------------------------------------------------------\n",
      "tensor([[0.0000, 0.1333, 0.6000, 0.1333, 0.1333],\n",
      "        [0.0000, 0.6000, 0.1333, 0.1333, 0.1333],\n",
      "        [0.0000, 0.0000, 0.0000, 0.0000, 0.0000]])\n",
      "-----------------------------------------------------------------------------------------\n",
      "tensor([[0.0000, 0.1333, 0.6000, 0.1333, 0.1333],\n",
      "        [0.0000, 0.6000, 0.1333, 0.1333, 0.1333],\n",
      "        [0.0000, 0.0000, 0.0000, 0.0000, 0.0000]])\n"
     ]
    },
    {
     "data": {
      "image/png": "[encoded data removed]",
      "text/plain": [
       "<Figure size 432x288 with 1 Axes>"
      ]
     },
     "metadata": {
      "needs_background": "light"
     },
     "output_type": "display_data"
    }
   ],
   "source": [
    "crit = LabelSmoothing(5, 0, 0.4)\n",
    "predict = torch.FloatTensor([[0, 0.2, 0.7, 0.1, 0],\n",
    "                             [0, 0.2, 0.7, 0.1, 0], \n",
    "                             [0, 0.2, 0.7, 0.1, 0]])\n",
    "print(predict.log())\n",
    "v = crit(Variable(predict.log()), \n",
    "         Variable(torch.LongTensor([2, 1, 0])))\n",
    "\n",
    "# Show the target distributions expected by the system.\n",
    "plt.imshow(crit.true_dist)\n",
    "print(crit.true_dist)\n",
    "None"
   ]
  },
  {
   "cell_type": "code",
   "execution_count": 91,
   "id": "772f0b27",
   "metadata": {},
   "outputs": [],
   "source": [
    "class LabelSmoothing(nn.Module):\n",
    "    \"Implement label smoothing.\"\n",
    "    def __init__(self, size, padding_idx, smoothing=0.0):\n",
    "        super(LabelSmoothing, self).__init__()\n",
    "        self.criterion = nn.KLDivLoss(size_average=False)\n",
    "        self.padding_idx = padding_idx\n",
    "        self.confidence = 1.0 - smoothing\n",
    "        self.smoothing = smoothing\n",
    "        self.size = size\n",
    "        self.true_dist = None\n",
    "        \n",
    "    def forward(self, x, target):\n",
    "        assert x.size(1) == self.size\n",
    "        true_dist = x.data.clone()\n",
    "        true_dist.fill_(self.smoothing / (self.size - 2))\n",
    "        true_dist.scatter_(1, target.data.unsqueeze(1), self.confidence)\n",
    "        true_dist[:, self.padding_idx] = 0\n",
    "        mask = torch.nonzero(target.data == self.padding_idx)\n",
    "        if mask.dim() > 0:\n",
    "            true_dist.index_fill_(0, mask.squeeze(), 0.0)\n",
    "        self.true_dist = true_dist\n",
    "        return self.criterion(x, Variable(true_dist, requires_grad=False))"
   ]
  },
  {
   "cell_type": "code",
   "execution_count": 100,
   "id": "ffeccc4b",
   "metadata": {},
   "outputs": [
    {
     "data": {
      "image/png": "[encoded data removed]",
      "text/plain": [
       "<Figure size 432x288 with 1 Axes>"
      ]
     },
     "metadata": {
      "needs_background": "light"
     },
     "output_type": "display_data"
    }
   ],
   "source": [
    "crit = LabelSmoothing(5, 0, 0.1)\n",
    "def losss(x):\n",
    "    d = x + 3 * 1\n",
    "    predict = torch.FloatTensor([[0, x / d, 1 / d, 1 / d, 1 / d],\n",
    "                                 ])\n",
    "    #print(predict)\n",
    "    return crit(Variable(predict.log()), Variable(torch.LongTensor([1]))).data\n",
    "y = [losss(x) for x in range(1, 100)]\n",
    "plt.plot(np.arange(1, 100), y)\n",
    "None"
   ]
  },
  {
   "cell_type": "markdown",
   "id": "d7ce1078",
   "metadata": {},
   "source": [
    "## First Example\n",
    "- https://crmn.tistory.com/105 \n",
    "- 요거 참고해서 에러뜨는거 고쳤다. invalid data[0]인데 torch 구조가 바껴서 0.5버젼 전후로 표현이 차이가 나게된것"
   ]
  },
  {
   "cell_type": "code",
   "execution_count": 95,
   "id": "47d84be1",
   "metadata": {},
   "outputs": [],
   "source": [
    "def data_gen(V, batch, nbatches):\n",
    "    \"Generate random data for a src-tgt copy task.\"\n",
    "    for i in range(nbatches):\n",
    "        data = torch.from_numpy(np.random.randint(1, V, size=(batch, 10))) # batch * seqlen = 10인 Vocab이 V일때, 랜덤으로 데이터 생성\n",
    "        data[:, 0] = 1 # 모든 배치에서 첫번째 seq는 1번인데 이게아마 start token의 의미가 아닐까 생각중\n",
    "        src = Variable(data, requires_grad=False)\n",
    "        tgt = Variable(data, requires_grad=False)\n",
    "        yield Batch(src, tgt, 0) # 입력과 출력이 같은 dataset"
   ]
  },
  {
   "cell_type": "code",
   "execution_count": 98,
   "id": "7048ab52",
   "metadata": {},
   "outputs": [],
   "source": [
    "class SimpleLossCompute:\n",
    "    \"A simple loss compute and train function.\"\n",
    "    def __init__(self, generator, criterion, opt=None):\n",
    "        self.generator = generator # 모델\n",
    "        self.criterion = criterion # 로스\n",
    "        self.opt = opt # 옵티마이저\n",
    "        \n",
    "    def __call__(self, x, y, norm):\n",
    "        x = self.generator(x) # 모델 마지막 레이어 태운거임\n",
    "        loss = self.criterion(x.contiguous().view(-1, x.size(-1)), \n",
    "                              y.contiguous().view(-1)) / norm\n",
    "        loss.backward()\n",
    "        if self.opt is not None:\n",
    "            self.opt.step()\n",
    "            self.opt.optimizer.zero_grad()\n",
    "        return loss.data * norm"
   ]
  },
  {
   "cell_type": "code",
   "execution_count": 99,
   "id": "84908a8c",
   "metadata": {},
   "outputs": [
    {
     "name": "stderr",
     "output_type": "stream",
     "text": [
      "<ipython-input-33-7c0419a3f06e>:20: UserWarning: nn.init.xavier_uniform is now deprecated in favor of nn.init.xavier_uniform_.\n",
      "  nn.init.xavier_uniform(p)\n"
     ]
    },
    {
     "name": "stdout",
     "output_type": "stream",
     "text": [
      "Epoch Step: 1 Loss: 3.067028 Tokens per Sec: 422.079895\n",
      "Epoch Step: 1 Loss: 1.862613 Tokens per Sec: 1838.185669\n",
      "tensor(1.9198)\n",
      "Epoch Step: 1 Loss: 1.929455 Tokens per Sec: 1210.338257\n",
      "Epoch Step: 1 Loss: 1.798662 Tokens per Sec: 1874.359985\n",
      "tensor(1.7495)\n",
      "Epoch Step: 1 Loss: 1.869911 Tokens per Sec: 795.406006\n",
      "Epoch Step: 1 Loss: 1.364925 Tokens per Sec: 1846.137207\n",
      "tensor(1.3501)\n",
      "Epoch Step: 1 Loss: 1.599294 Tokens per Sec: 821.997681\n",
      "Epoch Step: 1 Loss: 0.942439 Tokens per Sec: 1481.386353\n",
      "tensor(0.9878)\n",
      "Epoch Step: 1 Loss: 1.371272 Tokens per Sec: 821.260559\n",
      "Epoch Step: 1 Loss: 0.756072 Tokens per Sec: 1880.031006\n",
      "tensor(0.7404)\n",
      "Epoch Step: 1 Loss: 0.802385 Tokens per Sec: 953.045532\n",
      "Epoch Step: 1 Loss: 0.336404 Tokens per Sec: 1624.859497\n",
      "tensor(0.4143)\n",
      "Epoch Step: 1 Loss: 0.702808 Tokens per Sec: 926.205750\n",
      "Epoch Step: 1 Loss: 0.225505 Tokens per Sec: 1978.324341\n",
      "tensor(0.2708)\n",
      "Epoch Step: 1 Loss: 0.557057 Tokens per Sec: 850.692383\n",
      "Epoch Step: 1 Loss: 0.233830 Tokens per Sec: 2004.955566\n",
      "tensor(0.2659)\n",
      "Epoch Step: 1 Loss: 0.751803 Tokens per Sec: 1073.084106\n",
      "Epoch Step: 1 Loss: 0.277171 Tokens per Sec: 1990.160645\n",
      "tensor(0.2755)\n",
      "Epoch Step: 1 Loss: 0.340910 Tokens per Sec: 1090.039917\n",
      "Epoch Step: 1 Loss: 0.235080 Tokens per Sec: 2041.612549\n",
      "tensor(0.2588)\n"
     ]
    }
   ],
   "source": [
    "V = 11\n",
    "criterion = LabelSmoothing(size=V, padding_idx=0, smoothing=0.0)\n",
    "model = make_model(V, V, N=2)\n",
    "model_opt = NoamOpt(model.src_embed[0].d_model, 1, 400,\n",
    "        torch.optim.Adam(model.parameters(), lr=0, betas=(0.9, 0.98), eps=1e-9))\n",
    "\n",
    "for epoch in range(10):\n",
    "    model.train()\n",
    "    run_epoch(data_gen(V, 30, 20), model, \n",
    "              SimpleLossCompute(model.generator, criterion, model_opt))\n",
    "    model.eval()\n",
    "    print(run_epoch(data_gen(V, 30, 5), model, \n",
    "                    SimpleLossCompute(model.generator, criterion, None)))"
   ]
  },
  {
   "cell_type": "markdown",
   "id": "5db65b68",
   "metadata": {},
   "source": [
    "# Real World Example\n",
    "> 독일어 / 영어 번역문제 해보자\n",
    "> spacy는 데이터 불러오는 모듈인데 [link](https://wotres.tistory.com/entry/spacy-%EB%AA%A8%EB%93%88-%EC%82%AC%EC%9A%A9%EC%8B%9C-Cant-find-model-en-It-doesnt-seem-to-be-a-shortcut-link-a-Python-package-or-a-valid-path-to-a-data-directory-%EC%97%90%EB%9F%AC-%ED%95%B4%EA%B2%B0%EB%B2%95) 요거 참고하면 설치가 편하다"
   ]
  },
  {
   "cell_type": "code",
   "execution_count": 117,
   "id": "5f248211",
   "metadata": {
    "scrolled": true
   },
   "outputs": [
    {
     "name": "stdout",
     "output_type": "stream",
     "text": [
      "3.0.6\n",
      "{'_config': {'paths': {'train': 'corpus/de-dep-news/train.spacy', 'dev': 'corpus/de-dep-news/dev.spacy', 'vectors': None, 'raw': None, 'init_tok2vec': None, 'vocab_data': None}, 'system': {'gpu_allocator': None, 'seed': 0}, 'nlp': {'lang': 'de', 'pipeline': ['tok2vec', 'tagger', 'morphologizer', 'parser', 'senter', 'ner', 'attribute_ruler', 'lemmatizer'], 'disabled': ['senter'], 'before_creation': None, 'after_creation': None, 'after_pipeline_creation': None, 'batch_size': 256, 'tokenizer': {'@tokenizers': 'spacy.Tokenizer.v1'}}, 'components': {'attribute_ruler': {'factory': 'attribute_ruler', 'validate': False}, 'lemmatizer': {'factory': 'lemmatizer', 'mode': 'lookup', 'model': None, 'overwrite': False}, 'morphologizer': {'factory': 'morphologizer', 'model': {'@architectures': 'spacy.Tagger.v1', 'nO': None, 'tok2vec': {'@architectures': 'spacy.Tok2VecListener.v1', 'width': '${components.tok2vec.model.encode:width}', 'upstream': '*'}}}, 'ner': {'factory': 'ner', 'moves': None, 'update_with_oracle_cut_size': 100, 'model': {'@architectures': 'spacy.TransitionBasedParser.v2', 'state_type': 'ner', 'extra_state_tokens': False, 'hidden_width': 64, 'maxout_pieces': 2, 'use_upper': True, 'nO': None, 'tok2vec': {'@architectures': 'spacy.Tok2Vec.v1', 'embed': {'@architectures': 'spacy.MultiHashEmbed.v1', 'width': 96, 'attrs': ['NORM', 'PREFIX', 'SUFFIX', 'SHAPE'], 'rows': [5000, 2500, 2500, 2500], 'include_static_vectors': False}, 'encode': {'@architectures': 'spacy.MaxoutWindowEncoder.v1', 'width': 96, 'depth': 4, 'window_size': 1, 'maxout_pieces': 3}}}}, 'parser': {'factory': 'parser', 'learn_tokens': False, 'min_action_freq': 30, 'moves': None, 'update_with_oracle_cut_size': 100, 'model': {'@architectures': 'spacy.TransitionBasedParser.v2', 'state_type': 'parser', 'extra_state_tokens': False, 'hidden_width': 64, 'maxout_pieces': 2, 'use_upper': True, 'nO': None, 'tok2vec': {'@architectures': 'spacy.Tok2VecListener.v1', 'width': '${components.tok2vec.model.encode:width}', 'upstream': '*'}}}, 'senter': {'factory': 'senter', 'model': {'@architectures': 'spacy.Tagger.v1', 'nO': None, 'tok2vec': {'@architectures': 'spacy.Tok2Vec.v1', 'embed': {'@architectures': 'spacy.MultiHashEmbed.v1', 'width': 16, 'attrs': ['NORM', 'PREFIX', 'SUFFIX', 'SHAPE'], 'rows': [1000, 500, 500, 500], 'include_static_vectors': False}, 'encode': {'@architectures': 'spacy.MaxoutWindowEncoder.v1', 'width': 16, 'depth': 2, 'window_size': 1, 'maxout_pieces': 2}}}}, 'tagger': {'factory': 'tagger', 'model': {'@architectures': 'spacy.Tagger.v1', 'nO': None, 'tok2vec': {'@architectures': 'spacy.Tok2VecListener.v1', 'width': '${components.tok2vec.model.encode:width}', 'upstream': '*'}}}, 'tok2vec': {'factory': 'tok2vec', 'model': {'@architectures': 'spacy.Tok2Vec.v1', 'embed': {'@architectures': 'spacy.MultiHashEmbed.v1', 'width': '${components.tok2vec.model.encode:width}', 'attrs': ['NORM', 'PREFIX', 'SUFFIX', 'SHAPE'], 'rows': [5000, 2500, 2500, 2500], 'include_static_vectors': False}, 'encode': {'@architectures': 'spacy.MaxoutWindowEncoder.v1', 'width': 96, 'depth': 4, 'window_size': 1, 'maxout_pieces': 3}}}}, 'corpora': {'dev': {'@readers': 'spacy.Corpus.v1', 'limit': 0, 'max_length': 0, 'path': '${paths:dev}', 'gold_preproc': False, 'augmenter': None}, 'train': {'@readers': 'spacy.Corpus.v1', 'path': '${paths:train}', 'max_length': 5000, 'gold_preproc': False, 'limit': 0, 'augmenter': {'@augmenters': 'spacy.orth_variants.v1', 'level': 0.2, 'lower': 0.5, 'orth_variants': {'@readers': 'srsly.read_json.v1', 'path': 'assets/orth_variants.json'}}}}, 'training': {'train_corpus': 'corpora.train', 'dev_corpus': 'corpora.dev', 'seed': '${system:seed}', 'gpu_allocator': '${system:gpu_allocator}', 'dropout': 0.1, 'accumulate_gradient': 1, 'patience': 5000, 'max_epochs': 0, 'max_steps': 0, 'eval_frequency': 1000, 'frozen_components': [], 'before_to_disk': None, 'batcher': {'@batchers': 'spacy.batch_by_words.v1', 'discard_oversize': False, 'tolerance': 0.2, 'get_length': None, 'size': {'@schedules': 'compounding.v1', 'start': 100, 'stop': 1000, 'compound': 1.001, 't': 0.0}}, 'logger': {'@loggers': 'spacy.WandbLogger.v1', 'project_name': 'spacy-v3.0.0a2', 'remove_config_values': []}, 'optimizer': {'@optimizers': 'Adam.v1', 'beta1': 0.9, 'beta2': 0.999, 'L2_is_weight_decay': True, 'L2': 0.01, 'grad_clip': 1.0, 'use_averages': True, 'eps': 1e-08, 'learn_rate': 0.001}, 'score_weights': {'morph_per_feat': None, 'dep_las_per_type': None, 'sents_p': None, 'sents_r': None, 'ents_per_type': None, 'tag_acc': 0.17, 'pos_acc': 0.09, 'morph_acc': 0.08, 'dep_uas': 0.0, 'dep_las': 0.15, 'sents_f': 0.19, 'ents_f': 0.17, 'ents_p': 0.0, 'ents_r': 0.0, 'lemma_acc': 0.17}}, 'pretraining': {}, 'initialize': {'vocab_data': '${paths.vocab_data}', 'vectors': '${paths.vectors}', 'init_tok2vec': '${paths.init_tok2vec}', 'before_init': None, 'after_init': None, 'components': {'morphologizer': {'labels': {'@readers': 'spacy.read_labels.v1', 'path': 'corpus/labels/morphologizer.json', 'require': False}}, 'ner': {'labels': {'@readers': 'spacy.read_labels.v1', 'path': 'corpus/labels/ner.json', 'require': False}}, 'parser': {'labels': {'@readers': 'spacy.read_labels.v1', 'path': 'corpus/labels/parser.json', 'require': False}}, 'tagger': {'labels': {'@readers': 'spacy.read_labels.v1', 'path': 'corpus/labels/tagger.json', 'require': False}}}, 'lookups': {'@misc': 'spacy.LookupsDataLoader.v1', 'lang': '${nlp.lang}', 'tables': ['lexeme_norm']}, 'tokenizer': {}}}, '_meta': {'lang': 'de', 'name': 'core_news_sm', 'version': '3.0.0', 'spacy_version': '>=3.0.0,<3.1.0', 'description': 'German pipeline optimized for CPU. Components: tok2vec, tagger, morphologizer, parser, senter, ner, attribute_ruler, lemmatizer.', 'author': 'Explosion', 'email': 'contact@explosion.ai', 'url': 'https://explosion.ai', 'license': 'MIT', 'spacy_git_version': 'e7db07a0b', 'vectors': {'width': 0, 'vectors': 0, 'keys': 0, 'name': None}, 'labels': {'tok2vec': [], 'tagger': ['$(', '$,', '$.', 'ADJA', 'ADJD', 'ADV', 'APPO', 'APPR', 'APPRART', 'APZR', 'ART', 'CARD', 'FM', 'ITJ', 'KOKOM', 'KON', 'KOUI', 'KOUS', 'NE', 'NN', 'NNE', 'PDAT', 'PDS', 'PIAT', 'PIS', 'PPER', 'PPOSAT', 'PPOSS', 'PRELAT', 'PRELS', 'PRF', 'PROAV', 'PTKA', 'PTKANT', 'PTKNEG', 'PTKVZ', 'PTKZU', 'PWAT', 'PWAV', 'PWS', 'TRUNC', 'VAFIN', 'VAIMP', 'VAINF', 'VAPP', 'VMFIN', 'VMINF', 'VMPP', 'VVFIN', 'VVIMP', 'VVINF', 'VVIZU', 'VVPP', 'XY'], 'morphologizer': ['POS=PUNCT', 'Case=Nom|Gender=Masc|Number=Sing|POS=PROPN', 'Mood=Sub|Number=Sing|POS=AUX|Person=3|Tense=Past|VerbForm=Fin', 'POS=ADV', 'Case=Nom|Definite=Ind|Gender=Masc|Number=Sing|POS=DET|PronType=Art', 'Case=Nom|Degree=Pos|Gender=Masc|Number=Sing|POS=ADJ', 'Case=Nom|Gender=Masc|Number=Sing|POS=NOUN', 'Case=Nom|Gender=Masc|Number=Plur|POS=NOUN', 'Mood=Ind|Number=Plur|POS=VERB|Person=3|Tense=Pres|VerbForm=Fin', 'Case=Acc|Definite=Def|Gender=Masc|Number=Sing|POS=DET|PronType=Art', 'Case=Acc|Gender=Masc|Number=Sing|POS=NOUN', 'POS=ADP', 'Mood=Ind|Number=Sing|POS=VERB|Person=3|Tense=Pres|VerbForm=Fin', 'Case=Acc|Degree=Pos|Gender=Fem|Number=Sing|POS=ADJ', 'Case=Acc|Gender=Fem|Number=Sing|POS=NOUN', 'Case=Acc|Gender=Fem|Number=Sing|POS=DET|Poss=Yes|PronType=Prs', 'Case=Nom|Definite=Def|Gender=Masc|Number=Sing|POS=DET|PronType=Art', 'Mood=Ind|Number=Sing|POS=AUX|Person=3|Tense=Pres|VerbForm=Fin', 'Case=Acc|Definite=Def|Gender=Neut|Number=Sing|POS=DET|PronType=Art', 'Case=Acc|Degree=Pos|Gender=Neut|Number=Sing|POS=ADJ', 'Case=Acc|Gender=Neut|Number=Sing|POS=NOUN', 'Case=Dat|Gender=Neut|Number=Sing|POS=PROPN', 'POS=VERB|VerbForm=Part', 'Case=Dat|Gender=Fem|Number=Plur|POS=NOUN', 'Foreign=Yes|POS=X', 'Degree=Pos|POS=ADV', 'Case=Dat|Gender=Neut|Number=Sing|POS=ADP', 'Case=Dat|Gender=Neut|Number=Sing|POS=NOUN', 'Case=Dat|Degree=Pos|Gender=Neut|Number=Sing|POS=ADJ', 'Case=Dat|Definite=Def|Gender=Masc|Number=Sing|POS=DET|PronType=Art', 'Case=Dat|Degree=Pos|Gender=Masc|Number=Sing|POS=ADJ', 'Case=Dat|Gender=Masc|Number=Sing|POS=NOUN', 'POS=CCONJ', 'POS=SCONJ', 'Case=Acc|Definite=Ind|Gender=Neut|Number=Sing|POS=DET|PronType=Art', 'POS=VERB|VerbForm=Inf', 'Mood=Ind|Number=Plur|POS=AUX|Person=3|Tense=Pres|VerbForm=Fin', 'Case=Nom|Gender=Masc|Number=Plur|POS=DET|Poss=Yes|PronType=Prs', 'Case=Nom|Gender=Fem|Number=Plur|POS=DET|PronType=Dem', 'Case=Nom|Gender=Fem|Number=Plur|POS=NOUN', 'Case=Acc|Definite=Def|Gender=Fem|Number=Sing|POS=DET|PronType=Art', 'Case=Acc|Degree=Sup|Gender=Fem|Number=Sing|POS=ADJ', 'Case=Gen|Definite=Def|Gender=Fem|Number=Sing|POS=DET|PronType=Art', 'Case=Gen|Gender=Fem|Number=Sing|POS=NOUN', 'Case=Dat|Gender=Fem|Number=Sing|POS=DET|Poss=Yes|PronType=Prs', 'Case=Dat|Gender=Fem|Number=Sing|POS=NOUN', 'POS=PART', 'Case=Nom|Gender=Masc|Number=Plur|POS=DET|PronType=Ind', 'Case=Nom|Definite=Def|Gender=Masc|Number=Plur|POS=DET|PronType=Art', 'Case=Dat|Definite=Def|Number=Plur|POS=DET|PronType=Art', 'Case=Dat|Number=Plur|POS=PROPN', 'POS=PRON|PronType=Ind', 'Case=Dat|Number=Plur|POS=PRON|Person=3|PronType=Prs|Reflex=Yes', 'Case=Acc|Definite=Ind|Gender=Masc|Number=Sing|POS=DET|PronType=Art', 'Case=Acc|Gender=Masc|Number=Sing|POS=PROPN', 'Case=Dat|Definite=Ind|Gender=Fem|Number=Sing|POS=DET|PronType=Art', 'Case=Gen|Definite=Def|Gender=Neut|Number=Sing|POS=DET|PronType=Art', 'Case=Gen|Gender=Neut|Number=Sing|POS=NOUN', 'Case=Nom|Number=Sing|POS=PROPN', 'Case=Dat|Definite=Def|Gender=Masc|Number=Plur|POS=DET|PronType=Art', 'Case=Dat|Gender=Masc|Number=Plur|POS=NOUN', 'POS=NUM', 'Case=Dat|Gender=Neut|Number=Plur|POS=NOUN', 'Mood=Ind|Number=Plur|POS=VERB|Person=3|Tense=Past|VerbForm=Fin', 'Case=Dat|Gender=Masc|Number=Sing|POS=ADP', 'Gender=Neut|POS=NOUN', 'Case=Acc|Number=Sing|POS=PROPN', 'Case=Acc|Number=Plur|POS=PRON|Person=3|PronType=Prs|Reflex=Yes', 'Case=Nom|Definite=Def|Gender=Fem|Number=Sing|POS=DET|PronType=Art', 'Case=Nom|Gender=Fem|Number=Sing|POS=NOUN', 'Case=Gen|Definite=Def|Number=Plur|POS=DET|PronType=Art', 'Case=Acc|Gender=Fem|Number=Plur|POS=NOUN', 'Mood=Sub|Number=Sing|POS=VERB|Person=3|Tense=Pres|VerbForm=Fin', 'Case=Nom|Gender=Masc|Number=Sing|POS=PRON|Person=3|PronType=Prs', 'Case=Gen|Definite=Def|Gender=Masc|Number=Sing|POS=DET|PronType=Art', 'Case=Gen|Gender=Masc|Number=Sing|POS=NOUN', 'Case=Nom|Definite=Def|Number=Plur|POS=DET|PronType=Art', 'Case=Nom|Number=Plur|POS=NOUN', 'Case=Acc|Gender=Masc|Number=Sing|POS=DET|Poss=Yes|PronType=Prs', 'Case=Dat|Definite=Def|Gender=Neut|Number=Sing|POS=DET|PronType=Art', 'Case=Nom|Number=Plur|POS=PRON|PronType=Ind', 'Case=Dat|Gender=Masc|Number=Sing|POS=DET|Poss=Yes|PronType=Prs', 'Case=Acc|Definite=Ind|Gender=Fem|Number=Sing|POS=DET|PronType=Art', 'POS=PROPN', 'Case=Nom|Number=Sing|POS=PRON|Person=1|PronType=Prs', 'Mood=Ind|Number=Sing|POS=VERB|Person=1|Tense=Pres|VerbForm=Fin', 'POS=INTJ', 'Case=Nom|Gender=Neut|Number=Sing|POS=PRON|PronType=Dem', 'Case=Nom|Gender=Neut|Number=Sing|POS=DET|Poss=Yes|PronType=Prs', 'Case=Nom|Gender=Neut|Number=Sing|POS=NOUN', 'Case=Acc|Number=Sing|POS=PRON|Person=3|PronType=Prs|Reflex=Yes', 'Case=Nom|Gender=Neut|Number=Sing|POS=PRON|Person=3|PronType=Prs', 'Mood=Sub|Number=Sing|POS=AUX|Person=3|Tense=Pres|VerbForm=Fin', 'Case=Nom|Gender=Masc|Number=Sing|POS=PRON|PronType=Rel', 'Case=Acc|Gender=Masc|Number=Sing|POS=PRON|PronType=Ind', 'Case=Nom|Definite=Ind|Gender=Fem|Number=Sing|POS=DET|PronType=Art', 'Case=Nom|Degree=Pos|Gender=Fem|Number=Sing|POS=ADJ', 'Case=Dat|Degree=Pos|Gender=Fem|Number=Plur|POS=ADJ', 'Case=Acc|Gender=Masc|Number=Plur|POS=DET|PronType=Ind', 'Case=Acc|Gender=Masc|Number=Plur|POS=NOUN', 'Case=Nom|Gender=Masc|Number=Plur|POS=PRON|PronType=Rel', 'Case=Nom|Gender=Masc|Number=Sing|POS=PRON|PronType=Ind', 'Case=Dat|Gender=Masc|Number=Plur|POS=PRON|Person=3|PronType=Prs', 'Case=Nom|Gender=Neut|Number=Plur|POS=NOUN', 'Case=Acc|Gender=Neut|Number=Plur|POS=PRON|PronType=Rel', 'Case=Dat|Number=Plur|POS=PRON|Person=3|PronType=Prs', 'Case=Dat|Gender=Masc|Number=Sing|POS=PRON|PronType=Rel', 'Gender=Masc|POS=NOUN', 'Mood=Ind|Number=Sing|POS=VERB|Person=3|Tense=Past|VerbForm=Fin', 'Case=Nom|Definite=Def|Gender=Fem|Number=Plur|POS=DET|PronType=Art', 'Case=Nom|Gender=Fem|Number=Sing|POS=DET|PronType=Int', 'Case=Gen|Gender=Masc|Number=Sing|POS=PROPN', 'POS=SCONJ|PronType=Int', 'Case=Acc|Gender=Fem|Number=Plur|POS=DET|Poss=Yes|PronType=Prs', 'Case=Dat|Degree=Pos|Gender=Masc|Number=Plur|POS=ADJ', 'Case=Nom|Number=Sing|POS=PRON|PronType=Ind', 'Case=Gen|Definite=Def|Gender=Fem|Number=Plur|POS=DET|PronType=Art', 'Case=Gen|Gender=Fem|Number=Plur|POS=NOUN', 'Case=Dat|Gender=Masc|Number=Sing|POS=PRON|Person=3|PronType=Prs', 'Case=Dat|Definite=Def|Gender=Fem|Number=Sing|POS=DET|PronType=Art', 'Case=Nom|Gender=Masc|Number=Sing|POS=DET|PronType=Ind', 'Case=Dat|Degree=Pos|Gender=Fem|Number=Sing|POS=ADJ', 'Case=Acc|Gender=Neut|Number=Sing|POS=DET|Poss=Yes|PronType=Prs', 'Case=Dat|Gender=Neut|Number=Sing|POS=PRON|PronType=Ind', 'Case=Dat|Degree=Cmp|Gender=Fem|Number=Plur|POS=ADJ', 'Case=Nom|Degree=Pos|Gender=Masc|Number=Plur|POS=ADJ', 'Gender=Neut|POS=PRON|PronType=Ind', 'Case=Acc|Gender=Masc|Number=Sing|POS=PRON|Person=3|PronType=Prs', 'Case=Dat|Number=Plur|POS=DET|Poss=Yes|PronType=Prs', 'Case=Dat|Number=Plur|POS=NOUN', 'Case=Dat|Gender=Masc|Number=Sing|POS=PRON|PronType=Ind', 'Case=Nom|Gender=Fem|Number=Sing|POS=DET|Poss=Yes|PronType=Prs', 'Case=Dat|Gender=Masc|Number=Sing|POS=PROPN', 'Case=Gen|Gender=Masc|Number=Sing|POS=PRON|PronType=Dem', 'Case=Dat|Gender=Fem|Number=Sing|POS=ADP', 'Case=Acc|Gender=Fem|Number=Plur|POS=DET|PronType=Int', 'Case=Gen|Number=Plur|POS=PROPN', 'Case=Acc|Gender=Fem|Number=Plur|POS=DET|PronType=Dem', 'Case=Acc|Gender=Neut|Number=Plur|POS=NOUN', 'Case=Acc|Degree=Pos|Gender=Masc|Number=Sing|POS=ADJ', 'Case=Nom|Definite=Def|Gender=Neut|Number=Plur|POS=DET|PronType=Art', 'Case=Gen|Gender=Neut|Number=Sing|POS=DET|Poss=Yes|PronType=Prs', 'Degree=Cmp|POS=ADV', 'Case=Nom|Gender=Neut|Number=Plur|POS=PRON|PronType=Dem', 'Case=Gen|Definite=Ind|Gender=Neut|Number=Sing|POS=DET|PronType=Art', 'Case=Acc|Gender=Neut|Number=Sing|POS=ADP', 'Case=Dat|Number=Plur|POS=PRON|Person=1|PronType=Prs', 'Case=Acc|Gender=Neut|Number=Sing|POS=PRON|PronType=Int', 'Case=Dat|Definite=Ind|Gender=Neut|Number=Sing|POS=DET|PronType=Art', 'Mood=Ind|Number=Plur|POS=AUX|Person=3|Tense=Past|VerbForm=Fin', 'Case=Gen|Definite=Def|Gender=Masc|Number=Plur|POS=DET|PronType=Art', 'Case=Gen|Gender=Masc|Number=Plur|POS=NOUN', 'Case=Acc|Gender=Neut|Number=Sing|POS=PRON|Person=3|PronType=Prs', 'Case=Acc|Degree=Sup|Gender=Masc|Number=Sing|POS=ADJ', 'Case=Nom|Number=Plur|POS=PRON|Person=3|PronType=Prs', 'Case=Gen|Gender=Masc|Number=Plur|POS=DET|Poss=Yes|PronType=Prs', 'Mood=Ind|Number=Sing|POS=AUX|Person=3|Tense=Past|VerbForm=Fin', 'Case=Gen|Number=Sing|POS=PROPN', 'Case=Nom|Definite=Def|Gender=Neut|Number=Sing|POS=DET|PronType=Art', 'Case=Nom|Degree=Pos|Gender=Neut|Number=Sing|POS=ADJ', 'Case=Dat|Gender=Fem|Number=Plur|POS=PRON|PronType=Rel', 'Case=Acc|Degree=Pos|Gender=Masc|Number=Plur|POS=ADJ', 'Case=Nom|Gender=Fem|Number=Plur|POS=DET|PronType=Ind', 'Case=Gen|Gender=Neut|Number=Sing|POS=PROPN', 'Case=Gen|Gender=Masc|Number=Sing|POS=DET|PronType=Rel', 'Case=Nom|Gender=Neut|Number=Sing|POS=PRON|PronType=Int', 'Case=Acc|Gender=Neut|Number=Sing|POS=DET|PronType=Ind', 'Case=Gen|Definite=Ind|Gender=Masc|Number=Sing|POS=DET|PronType=Art', 'POS=X', 'Case=Dat|Degree=Sup|Gender=Fem|Number=Sing|POS=ADJ', 'Case=Gen|Number=Plur|POS=NOUN', 'Case=Gen|Degree=Pos|Gender=Masc|Number=Sing|POS=ADJ', 'Case=Gen|Number=Plur|POS=DET|Poss=Yes|PronType=Prs', 'Case=Acc|Number=Plur|POS=PRON|PronType=Rel', 'Case=Nom|Degree=Pos|Gender=Fem|Number=Plur|POS=ADJ', 'Case=Gen|Degree=Pos|Gender=Fem|Number=Sing|POS=ADJ', 'Case=Gen|Definite=Def|Gender=Neut|Number=Plur|POS=DET|PronType=Art', 'Case=Gen|Degree=Pos|Gender=Neut|Number=Plur|POS=ADJ', 'Case=Gen|Gender=Neut|Number=Plur|POS=NOUN', 'Case=Nom|Gender=Fem|Number=Plur|POS=PRON|PronType=Ind', 'Mood=Sub|Number=Plur|POS=AUX|Person=3|Tense=Past|VerbForm=Fin', 'Case=Nom|Degree=Pos|Number=Plur|POS=ADJ', 'Case=Nom|Number=Plur|POS=PRON|PronType=Rel', 'Case=Nom|Gender=Fem|Number=Sing|POS=PRON|PronType=Rel', 'Case=Acc|Degree=Pos|Gender=Neut|Number=Plur|POS=ADJ', 'Case=Dat|Degree=Pos|Gender=Neut|Number=Plur|POS=ADJ', 'Case=Acc|Definite=Def|Gender=Neut|Number=Plur|POS=DET|PronType=Art', 'Case=Acc|Degree=Sup|Gender=Neut|Number=Plur|POS=ADJ', 'Case=Nom|Degree=Sup|Gender=Masc|Number=Sing|POS=ADJ', 'Case=Nom|Gender=Fem|Number=Plur|POS=PRON|PronType=Rel', 'POS=DET|PronType=Ind', 'Case=Gen|Degree=Pos|Gender=Fem|Number=Plur|POS=ADJ', 'Case=Nom|Gender=Masc|Number=Plur|POS=PRON|Person=3|PronType=Prs', 'Case=Acc|Gender=Masc|Number=Sing|POS=DET|PronType=Dem', 'Case=Dat|Gender=Fem|Number=Plur|POS=DET|Poss=Yes|PronType=Prs', 'Case=Acc|Gender=Neut|Number=Sing|POS=PROPN', 'Case=Nom|Gender=Fem|Number=Sing|POS=PROPN', 'Case=Acc|Definite=Def|Gender=Masc|Number=Plur|POS=DET|PronType=Art', 'Case=Dat|Definite=Def|Gender=Neut|Number=Plur|POS=DET|PronType=Art', 'Case=Nom|Gender=Neut|Number=Plur|POS=DET|PronType=Ind', 'Case=Dat|Number=Sing|POS=DET|Poss=Yes|PronType=Prs', 'Case=Dat|Number=Sing|POS=NOUN', 'Case=Nom|Definite=Ind|Gender=Neut|Number=Sing|POS=DET|PronType=Art', 'Degree=Pos|POS=ADJ', 'Case=Acc|Gender=Fem|Number=Sing|POS=PROPN', 'Case=Acc|Degree=Pos|Number=Plur|POS=ADJ', 'Case=Acc|Number=Plur|POS=NOUN', 'Case=Dat|Number=Plur|POS=PRON|PronType=Rel', 'Case=Acc|Gender=Neut|Number=Sing|POS=PRON|PronType=Dem', 'Mood=Sub|Number=Sing|POS=VERB|Person=1|Tense=Past|VerbForm=Fin', 'Case=Acc|Number=Plur|POS=PRON|Person=3|PronType=Prs', 'Case=Nom|Degree=Pos|Gender=Neut|Number=Plur|POS=ADJ', 'Case=Acc|Gender=Neut|Number=Sing|POS=PRON|PronType=Rel', 'Case=Nom|Gender=Neut|Number=Plur|POS=PRON|PronType=Rel', 'POS=AUX|VerbForm=Inf', 'Case=Acc|Gender=Neut|Number=Plur|POS=DET|PronType=Dem', 'Case=Nom|Gender=Fem|Number=Sing|POS=PRON|Person=3|PronType=Prs', 'Mood=Ind|Number=Plur|POS=VERB|Person=1|Tense=Pres|VerbForm=Fin', 'Case=Nom|Number=Plur|POS=PRON|Person=1|PronType=Prs', 'Case=Acc|Gender=Fem|Number=Plur|POS=DET|PronType=Ind', 'Case=Nom|Gender=Fem|Number=Plur|POS=PRON|Person=3|PronType=Prs', 'Case=Acc|POS=PRON|Person=3|PronType=Prs', 'Case=Gen|Gender=Fem|Number=Sing|POS=DET|Poss=Yes|PronType=Prs', 'Case=Acc|Definite=Def|Gender=Fem|Number=Plur|POS=DET|PronType=Art', 'Case=Dat|Gender=Fem|Number=Sing|POS=PROPN', 'Case=Gen|Degree=Pos|Gender=Neut|Number=Sing|POS=ADJ', 'Case=Acc|Gender=Fem|Number=Sing|POS=DET|PronType=Ind', 'Case=Acc|Degree=Pos|Gender=Fem|Number=Plur|POS=ADJ', 'Case=Nom|Gender=Neut|Number=Sing|POS=PRON|PronType=Rel', 'Case=Gen|Definite=Ind|Gender=Fem|Number=Sing|POS=DET|PronType=Art', 'Case=Nom|Gender=Fem|Number=Sing|POS=DET|PronType=Dem', 'Case=Dat|Gender=Neut|Number=Sing|POS=DET|Poss=Yes|PronType=Prs', 'Mood=Sub|Number=Plur|POS=AUX|Person=3|Tense=Pres|VerbForm=Fin', 'POS=ADV|PronType=Int', 'Case=Nom|Gender=Masc|Number=Sing|POS=PRON|PronType=Int', 'Case=Dat|Gender=Masc|Number=Sing|POS=PRON|PronType=Int', 'POS=AUX|VerbForm=Part', 'Case=Dat|Gender=Neut|Number=Plur|POS=DET|PronType=Ind', 'Case=Dat|Number=Plur|POS=PRON|PronType=Ind', 'Case=Nom|Number=Plur|POS=DET|PronType=Dem', 'Case=Dat|Gender=Neut|Number=Sing|POS=DET|PronType=Dem', 'Case=Dat|Definite=Def|Gender=Fem|Number=Plur|POS=DET|PronType=Art', 'Case=Gen|Gender=Fem|Number=Sing|POS=PROPN', 'Case=Dat|Number=Sing|POS=PRON|Person=3|PronType=Prs|Reflex=Yes', 'Case=Acc|Number=Plur|POS=PRON|Person=1|PronType=Prs', 'Case=Acc|Degree=Cmp|Gender=Fem|Number=Sing|POS=ADJ', 'Case=Gen|Gender=Masc|Number=Sing|POS=DET|PronType=Dem', 'Mood=Ind|Number=Plur|POS=AUX|Person=1|Tense=Pres|VerbForm=Fin', 'Case=Dat|Gender=Fem|Number=Plur|POS=DET|PronType=Dem', 'Case=Nom|Gender=Neut|Number=Sing|POS=DET|PronType=Ind', 'Case=Dat|Number=Sing|POS=PRON|Person=1|PronType=Prs|Reflex=Yes', 'Case=Acc|Number=Sing|POS=PRON|Person=1|PronType=Prs', 'Case=Dat|Degree=Pos|Number=Plur|POS=ADJ', 'Case=Dat|Number=Sing|POS=PRON|Person=1|PronType=Prs', 'Case=Nom|Gender=Neut|Number=Sing|POS=PRON|PronType=Ind', 'Case=Nom|Gender=Neut|Number=Sing|POS=PROPN', 'Case=Nom|Number=Plur|POS=DET|PronType=Ind', 'Degree=Sup|POS=ADV', 'Case=Dat|Gender=Masc|Number=Plur|POS=PRON|PronType=Rel', 'Case=Nom|Gender=Fem|Number=Sing|POS=PRON|PronType=Ind', 'Case=Acc|Gender=Fem|Number=Plur|POS=PRON|PronType=Rel', 'Case=Nom|Number=Sing|POS=NOUN', 'Case=Acc|Definite=Def|Number=Plur|POS=DET|PronType=Art', 'Case=Gen|Number=Sing|POS=NOUN', 'Case=Nom|Gender=Fem|Number=Sing|POS=DET|PronType=Ind', 'Case=Nom|Degree=Cmp|Gender=Fem|Number=Sing|POS=ADJ', 'Case=Dat|Gender=Fem|Number=Sing|POS=PRON|Person=3|PronType=Prs', 'Case=Acc|Gender=Masc|Number=Plur|POS=DET|Poss=Yes|PronType=Prs', 'Case=Gen|Degree=Cmp|Gender=Masc|Number=Sing|POS=ADJ', 'Case=Nom|Number=Plur|POS=PRON|PronType=Dem', 'Case=Nom|Gender=Fem|Number=Sing|POS=PRON|PronType=Dem', 'Case=Acc|Gender=Masc|Number=Sing|POS=DET|PronType=Ind', 'Case=Acc|Number=Plur|POS=PRON|PronType=Ind', 'Case=Dat|Number=Plur|POS=DET|PronType=Ind', 'Mood=Sub|Number=Sing|POS=VERB|Person=3|Tense=Past|VerbForm=Fin', 'Case=Dat|Gender=Neut|Number=Sing|POS=PRON|PronType=Rel', 'Definite=Ind|Gender=Neut|Number=Sing|POS=DET|PronType=Art', 'Case=Dat|Gender=Neut|Number=Plur|POS=DET|Poss=Yes|PronType=Prs', 'Case=Dat|Gender=Fem|Number=Sing|POS=DET|PronType=Ind', 'Case=Acc|Degree=Cmp|Gender=Masc|Number=Plur|POS=ADJ', 'Gender=Fem|POS=NOUN', 'Case=Gen|Degree=Sup|Gender=Fem|Number=Plur|POS=ADJ', 'Case=Dat|Degree=Cmp|Gender=Fem|Number=Sing|POS=ADJ', 'Case=Dat|Definite=Ind|Gender=Masc|Number=Sing|POS=DET|PronType=Art', 'Case=Nom|Gender=Masc|Number=Sing|POS=DET|Poss=Yes|PronType=Prs', 'Case=Dat|Degree=Sup|Gender=Masc|Number=Sing|POS=ADJ', 'Case=Gen|Gender=Masc|Number=Plur|POS=DET|PronType=Dem', 'Case=Gen|Gender=Fem|Number=Sing|POS=DET|PronType=Ind', 'Case=Acc|Gender=Neut|Number=Plur|POS=DET|PronType=Ind', 'Case=Nom|Gender=Masc|Number=Plur|POS=PRON|PronType=Dem', 'Case=Gen|Gender=Neut|Number=Plur|POS=DET|PronType=Ind', 'Case=Nom|Degree=Sup|Gender=Masc|Number=Plur|POS=ADJ', 'Case=Acc|Gender=Fem|Number=Sing|POS=PRON|PronType=Rel', 'Case=Nom|Degree=Cmp|Number=Plur|POS=ADJ', 'Case=Gen|Gender=Fem|Number=Sing|POS=DET|PronType=Rel', 'Case=Dat|Gender=Fem|Number=Plur|POS=PROPN', 'Case=Dat|Number=Sing|POS=PROPN', 'Case=Gen|Degree=Pos|Gender=Masc|Number=Plur|POS=ADJ', 'Case=Dat|Gender=Masc|Number=Plur|POS=DET|PronType=Ind', 'Case=Dat|Gender=Masc|Number=Sing|POS=DET|PronType=Dem', 'Case=Dat|Gender=Neut|Number=Plur|POS=PRON|PronType=Rel', 'Case=Nom|Gender=Neut|Number=Sing|POS=DET|PronType=Dem', 'Case=Acc|Gender=Neut|Number=Sing|POS=PRON|PronType=Ind', 'Case=Nom|Number=Plur|POS=PROPN', 'Mood=Sub|Number=Plur|POS=VERB|Person=3|Tense=Past|VerbForm=Fin', 'Case=Acc|Number=Plur|POS=PRON|Person=1|PronType=Prs|Reflex=Yes', 'Case=Gen|Gender=Fem|Number=Plur|POS=PRON|PronType=Rel', 'Case=Gen|Gender=Masc|Number=Plur|POS=DET|PronType=Rel', 'Case=Gen|Gender=Neut|Number=Plur|POS=DET|Poss=Yes|PronType=Prs', 'Case=Gen|Number=Plur|POS=DET|PronType=Rel', 'Case=Dat|Degree=Sup|Gender=Fem|Number=Plur|POS=ADJ', 'Case=Nom|Gender=Neut|Number=Plur|POS=DET|PronType=Dem', 'Case=Nom|Degree=Cmp|Gender=Neut|Number=Plur|POS=ADJ', 'Case=Nom|Gender=Fem|Number=Plur|POS=PROPN', 'Case=Dat|Gender=Fem|Number=Plur|POS=DET|PronType=Ind', 'Case=Nom|Degree=Sup|Gender=Fem|Number=Sing|POS=ADJ', 'Case=Gen|Degree=Pos|Number=Plur|POS=ADJ', 'Case=Acc|Gender=Fem|Number=Sing|POS=PRON|Person=3|PronType=Prs', 'Case=Acc|Gender=Fem|Number=Sing|POS=DET|PronType=Dem', 'Case=Gen|Gender=Fem|Number=Sing|POS=DET|PronType=Dem', 'Case=Dat|Gender=Fem|Number=Plur|POS=PRON|PronType=Ind', 'Case=Nom|Degree=Cmp|Gender=Fem|Number=Plur|POS=ADJ', 'Case=Dat|Number=Plur|POS=PRON|PronType=Dem', 'Case=Nom|Gender=Masc|Number=Sing|POS=PRON|PronType=Dem', 'Case=Acc|Degree=Cmp|Gender=Masc|Number=Sing|POS=ADJ', 'Case=Acc|Number=Plur|POS=DET|PronType=Dem', 'Case=Nom|Gender=Fem|Number=Plur|POS=DET|Poss=Yes|PronType=Prs', 'Case=Acc|Gender=Masc|Number=Plur|POS=PRON|Person=3|PronType=Prs', 'Case=Dat|Gender=Fem|Number=Sing|POS=PRON|PronType=Rel', 'Gender=Masc|Number=Sing|POS=NOUN', 'Case=Gen|Gender=Neut|Number=Sing|POS=DET|PronType=Dem', 'Case=Gen|Gender=Masc|Number=Sing|POS=DET|Poss=Yes|PronType=Prs', 'Case=Nom|Definite=Ind|Number=Sing|POS=DET|PronType=Art', 'Case=Acc|Number=Plur|POS=PRON|Poss=Yes|PronType=Prs', 'Mood=Ind|Number=Sing|POS=AUX|Person=1|Tense=Pres|VerbForm=Fin', 'Case=Dat|Gender=Fem|Number=Sing|POS=DET|PronType=Int', 'Case=Nom|Gender=Masc|Number=Sing|POS=DET|PronType=Dem', 'Gender=Fem|Number=Sing|POS=DET|Poss=Yes|PronType=Prs', 'Gender=Fem|Number=Sing|POS=NOUN', 'Case=Gen|Gender=Fem|Number=Plur|POS=DET|Poss=Yes|PronType=Prs', 'Case=Gen|Gender=Fem|Number=Plur|POS=PRON|PronType=Dem', 'Case=Acc|Gender=Fem|Number=Plur|POS=PRON|Person=3|PronType=Prs', 'Case=Gen|Gender=Fem|Number=Sing|POS=DET|PronType=Int', 'Case=Dat|Gender=Fem|Number=Sing|POS=DET|PronType=Dem', 'Case=Dat|Gender=Masc|Number=Sing|POS=DET|PronType=Ind', 'Case=Acc|Gender=Neut|Number=Plur|POS=DET|Poss=Yes|PronType=Prs', 'Case=Nom|Gender=Fem|Number=Sing|POS=DET|PronType=Rel', 'Case=Gen|Gender=Fem|Number=Plur|POS=DET|PronType=Ind', 'Case=Dat|Gender=Fem|Number=Plur|POS=PRON|Person=3|PronType=Prs', 'Case=Acc|Degree=Cmp|Number=Plur|POS=ADJ', 'Case=Gen|Number=Plur|POS=PRON|PronType=Dem', 'Case=Nom|Gender=Neut|Number=Plur|POS=PRON|Person=3|PronType=Prs', 'Case=Acc|Gender=Fem|Number=Sing|POS=PRON|PronType=Ind', 'Case=Acc|Degree=Sup|Gender=Neut|Number=Sing|POS=ADJ', 'Case=Acc|Degree=Cmp|Gender=Fem|Number=Plur|POS=ADJ', 'Case=Dat|Gender=Neut|Number=Plur|POS=DET|PronType=Dem', 'Case=Acc|Gender=Masc|Number=Plur|POS=PRON|PronType=Ind', 'Case=Nom|Gender=Masc|Number=Plur|POS=PRON|PronType=Ind', 'Mood=Sub|Number=Sing|POS=AUX|Person=1|Tense=Past|VerbForm=Fin', 'Case=Nom|Gender=Fem|Number=Plur|POS=PRON|PronType=Dem', 'Gender=Masc|Number=Plur|POS=NOUN', 'Case=Nom|Degree=Cmp|Gender=Neut|Number=Sing|POS=ADJ', 'Gender=Neut|POS=PROPN', 'Case=Acc|Gender=Neut|Number=Plur|POS=PROPN', 'Case=Gen|Degree=Sup|Gender=Neut|Number=Plur|POS=ADJ', 'Case=Dat|Degree=Sup|Gender=Neut|Number=Plur|POS=ADJ', 'Degree=Pos|Gender=Fem|Number=Sing|POS=ADJ', 'Case=Dat|Gender=Neut|Number=Plur|POS=PRON|Person=3|PronType=Prs', 'Gender=Masc|POS=PROPN', 'Case=Dat|Gender=Masc|Number=Sing|POS=PRON|PronType=Dem', 'Case=Nom|POS=PROPN', 'Case=Acc|Gender=Masc|Number=Plur|POS=DET|PronType=Dem', 'Case=Nom|Gender=Neut|Number=Plur|POS=PRON|PronType=Ind', 'Case=Gen|Gender=Neut|Number=Plur|POS=DET|PronType=Dem', 'Case=Gen|Gender=Masc|Number=Plur|POS=PRON|PronType=Dem', 'Case=Acc|Gender=Neut|Number=Plur|POS=PRON|Person=3|PronType=Prs', 'Case=Dat|Gender=Masc|Number=Plur|POS=DET|PronType=Dem', 'Case=Dat|Gender=Masc|Number=Plur|POS=DET|Poss=Yes|PronType=Prs', 'Case=Gen|Gender=Masc|Number=Plur|POS=DET|PronType=Ind', 'Case=Acc|Gender=Masc|Number=Plur|POS=PRON|PronType=Rel', 'Case=Acc|Gender=Neut|Number=Plur|POS=DET|PronType=Int', 'Definite=Def|Gender=Fem|Number=Sing|POS=DET|PronType=Art', 'Case=Acc|Gender=Neut|Number=Sing|POS=DET|PronType=Dem', 'Case=Gen|Degree=Cmp|Gender=Masc|Number=Plur|POS=ADJ', 'Case=Gen|Gender=Fem|Number=Sing|POS=PRON|PronType=Dem', 'Case=Dat|Number=Sing|POS=PRON|Person=3|PronType=Prs', 'Case=Gen|Degree=Sup|Gender=Masc|Number=Plur|POS=ADJ', 'Case=Acc|Gender=Fem|Number=Sing|POS=PRON|Person=1|PronType=Prs', 'Case=Gen|Gender=Neut|Number=Sing|POS=DET|PronType=Rel', 'Case=Acc|Gender=Fem|Number=Plur|POS=PROPN', 'Case=Acc|Number=Plur|POS=PROPN', 'Case=Nom|Gender=Neut|Number=Plur|POS=DET|Poss=Yes|PronType=Prs', 'Case=Acc|Number=Plur|POS=DET|PronType=Ind', 'Case=Dat|Definite=Ind|Number=Sing|POS=DET|PronType=Art', 'Case=Dat|Number=Sing|POS=PRON|PronType=Rel', 'Case=Gen|Degree=Cmp|Gender=Neut|Number=Plur|POS=ADJ', 'Case=Dat|Number=Sing|POS=ADP', 'Case=Gen|Gender=Fem|Number=Plur|POS=DET|PronType=Rel', 'Mood=Imp|Number=Sing|POS=VERB|Person=2', 'Case=Nom|Degree=Cmp|Gender=Masc|Number=Plur|POS=ADJ', 'Case=Nom|Degree=Cmp|Gender=Masc|Number=Sing|POS=ADJ', 'Case=Gen|Gender=Fem|Number=Plur|POS=PROPN', 'Case=Acc|Gender=Masc|POS=NOUN', 'Case=Dat|Degree=Sup|Gender=Neut|Number=Sing|POS=ADJ', 'Case=Dat|Gender=Fem|Number=Sing|POS=PRON|PronType=Ind', 'Case=Dat|Degree=Cmp|Gender=Neut|Number=Sing|POS=ADJ', 'Case=Gen|Gender=Neut|Number=Sing|POS=PRON|PronType=Ind', 'Case=Acc|Degree=Sup|Gender=Fem|Number=Plur|POS=ADJ', 'Case=Acc|Degree=Cmp|Gender=Neut|Number=Sing|POS=ADJ', 'Case=Gen|Degree=Sup|Gender=Masc|Number=Sing|POS=ADJ', 'Case=Gen|Degree=Sup|Gender=Neut|Number=Sing|POS=ADJ', 'Gender=Neut|Number=Sing|POS=NOUN', 'POS=NOUN', 'Case=Dat|Gender=Neut|Number=Sing|POS=DET|PronType=Int', 'Case=Nom|Gender=Fem|Number=Sing|POS=PRON|Person=1|PronType=Prs', 'Case=Nom|Gender=Masc|Number=Plur|POS=DET|PronType=Dem', 'Case=Gen|Number=Sing|POS=DET|PronType=Rel', 'Case=Gen|Gender=Fem|Number=Plur|POS=DET|PronType=Dem', 'Case=Dat|POS=PROPN', 'Case=Gen|Definite=Def|POS=DET|PronType=Art', 'Case=Gen|POS=PROPN', 'Case=Acc|Number=Sing|POS=NOUN', 'Case=Gen|Degree=Sup|Gender=Fem|Number=Sing|POS=ADJ', 'Case=Dat|Degree=Cmp|Gender=Masc|Number=Sing|POS=ADJ', 'Mood=Imp|Number=Plur|POS=VERB|Person=2', 'Case=Dat|Degree=Cmp|Gender=Masc|Number=Plur|POS=ADJ', 'Case=Dat|Number=Plur|POS=PRON|Person=1|PronType=Prs|Reflex=Yes', 'Case=Nom|Gender=Masc|Number=Sing|POS=PRON|Person=1|PronType=Prs', 'Case=Acc|Gender=Masc|Number=Sing|POS=PRON|PronType=Rel', 'Case=Nom|Gender=Masc|Number=Plur|POS=PRON|Person=1|PronType=Prs', 'Case=Gen|Gender=Neut|Number=Sing|POS=PRON|PronType=Dem', 'Case=Gen|Gender=Fem|Number=Sing|POS=PRON|Person=3|PronType=Prs', 'Case=Gen|Degree=Cmp|Gender=Fem|Number=Sing|POS=ADJ', 'Case=Nom|Gender=Masc|Number=Sing|POS=DET|PronType=Int', 'Case=Gen|POS=PRON|PronType=Dem', 'Definite=Ind|POS=DET|PronType=Art', 'Mood=Ind|Number=Sing|POS=AUX|Person=1|Tense=Past|VerbForm=Fin', 'Case=Nom|Degree=Sup|Gender=Neut|Number=Plur|POS=ADJ', 'Case=Acc|Gender=Masc|Number=Sing|POS=DET|PronType=Int', 'Case=Dat|POS=PRON|PronType=Dem', 'Gender=Masc|Number=Sing|POS=PROPN', 'Case=Gen|Degree=Cmp|Gender=Neut|Number=Sing|POS=ADJ', 'Case=Acc|Gender=Neut|Number=Sing|POS=PRON|Poss=Yes|PronType=Prs', 'Case=Acc|Gender=Fem|Number=Sing|POS=PRON|PronType=Dem', 'Gender=Neut|Number=Sing|POS=PROPN', 'Case=Dat|Gender=Neut|Number=Sing|POS=PRON|PronType=Dem', 'Case=Dat|Number=Sing|POS=PRON|PronType=Dem', 'Case=Dat|Gender=Neut|Number=Sing|POS=PRON|Person=3|PronType=Prs', 'Case=Dat|Degree=Cmp|Number=Sing|POS=ADJ', 'Case=Dat|Degree=Pos|Number=Sing|POS=ADJ', 'POS=DET|Poss=Yes|PronType=Prs', 'Case=Gen|Number=Sing|POS=PRON|PronType=Dem', 'Gender=Fem|Number=Sing|POS=PROPN', 'Case=Nom|Degree=Sup|Gender=Neut|Number=Sing|POS=ADJ', 'Mood=Ind|Number=Plur|POS=AUX|Person=1|Tense=Past|VerbForm=Fin', 'Case=Nom|Gender=Masc|Number=Plur|POS=PROPN', 'Case=Nom|Degree=Sup|Gender=Fem|Number=Plur|POS=ADJ', 'Case=Nom|Number=Sing|POS=PRON|Person=2|PronType=Prs', 'Mood=Ind|Number=Sing|POS=VERB|Person=2|Tense=Pres|VerbForm=Fin', 'Case=Acc|Number=Plur|POS=PRON|PronType=Dem', 'Case=Nom|POS=PRON|Person=3|PronType=Prs', 'Mood=Ind|Number=Sing|POS=AUX|Person=2|Tense=Pres|VerbForm=Fin', 'Case=Nom|Gender=Fem|Number=Sing|POS=PRON|Person=2|PronType=Prs', 'Case=Dat|Number=Sing|POS=PRON|Person=2|PronType=Prs', 'Case=Acc|Number=Sing|POS=PRON|Person=2|PronType=Prs', 'Case=Nom|Number=Sing|POS=PRON|PronType=Int', 'Mood=Sub|Number=Sing|POS=AUX|Person=1|Tense=Pres|VerbForm=Fin', 'Mood=Ind|Number=Sing|POS=VERB|Person=1|Tense=Past|VerbForm=Fin', 'Mood=Ind|Number=Plur|POS=VERB|Person=1|Tense=Past|VerbForm=Fin', 'Case=Nom|Gender=Masc|Number=Plur|POS=PRON|PronType=Int', 'Case=Dat|Gender=Masc|Number=Plur|POS=PRON|PronType=Ind', 'Case=Nom|Number=Sing|POS=DET|Poss=Yes|PronType=Prs', 'Case=Gen|Gender=Neut|Number=Plur|POS=DET|PronType=Rel', 'Case=Acc|Gender=Neut|Number=Sing|POS=DET|PronType=Int', 'Case=Acc|Gender=Fem|Number=Plur|POS=PRON|PronType=Ind', 'Case=Dat|Degree=Sup|Gender=Masc|Number=Plur|POS=ADJ', 'Case=Acc|Number=Plur|POS=DET|Poss=Yes|PronType=Prs', 'Case=Dat|Gender=Masc|Number=Sing|POS=PRON|Person=1|PronType=Prs', 'Case=Dat|Gender=Neut|Number=Plur|POS=PRON|PronType=Ind', 'Case=Dat|Gender=Fem|Number=Plur|POS=PRON|PronType=Dem', 'Case=Gen|Number=Plur|POS=DET|PronType=Ind', 'Case=Gen|Gender=Masc|Number=Sing|POS=DET|PronType=Ind', 'Case=Dat|Gender=Fem|Number=Sing|POS=PRON|PronType=Dem', 'Case=Dat|Gender=Neut|Number=Sing|POS=DET|PronType=Ind', 'Case=Gen|Degree=Cmp|Gender=Fem|Number=Plur|POS=ADJ', 'Case=Acc|Degree=Cmp|Gender=Neut|Number=Plur|POS=ADJ', 'Case=Acc|Gender=Masc|Number=Sing|POS=PRON|PronType=Dem', 'Case=Dat|Gender=Masc|Number=Sing|POS=DET|PronType=Int', 'Case=Nom|Number=Plur|POS=DET|Poss=Yes|PronType=Prs', 'Case=Acc|Number=Sing|POS=PRON|PronType=Ind', 'Definite=Ind|Gender=Fem|Number=Sing|POS=DET|PronType=Art', 'Mood=Sub|Number=Plur|POS=VERB|Person=3|Tense=Pres|VerbForm=Fin', 'Case=Gen|Number=Plur|POS=DET|PronType=Dem', 'Gender=Neut|POS=DET|PronType=Ind', 'Case=Dat|Number=Sing|POS=PRON|PronType=Ind', 'Case=Nom|Number=Plur|POS=PRON|Person=2|PronType=Prs', 'Mood=Ind|Number=Plur|POS=AUX|Person=2|Tense=Pres|VerbForm=Fin', 'Mood=Ind|Number=Plur|POS=VERB|Person=2|Tense=Pres|VerbForm=Fin', 'Case=Dat|Number=Plur|POS=PRON|Person=2|PronType=Prs', 'Case=Acc|Number=Sing|POS=PRON|Person=1|PronType=Prs|Reflex=Yes', 'Case=Nom|Gender=Masc|Number=Sing|POS=PRON|Poss=Yes|PronType=Prs', 'Case=Nom|Gender=Masc|Number=Sing|POS=PRON|Person=2|PronType=Prs', 'Case=Acc|Gender=Masc|Number=Sing|POS=PRON|Person=2|PronType=Prs', 'Case=Nom|Gender=Neut|Number=Sing|POS=DET|PronType=Int', 'Case=Dat|Gender=Neut|Number=Plur|POS=DET|PronType=Int', 'Case=Acc|Gender=Fem|Number=Sing|POS=DET|PronType=Int', 'Case=Gen|Number=Plur|POS=PRON|PronType=Ind', 'Mood=Sub|Number=Sing|POS=VERB|Person=1|Tense=Pres|VerbForm=Fin', 'Case=Acc|Number=Sing|POS=PRON|PronType=Int', 'Case=Nom|Gender=Fem|Number=Plur|POS=PRON|Person=1|PronType=Prs', 'Case=Acc|POS=PRON|PronType=Dem', 'Mood=Sub|Number=Plur|POS=AUX|Person=1|Tense=Past|VerbForm=Fin', 'Mood=Sub|Number=Plur|POS=VERB|Person=1|Tense=Past|VerbForm=Fin', 'Case=Acc|Degree=Sup|Gender=Masc|Number=Plur|POS=ADJ', 'Case=Acc|Gender=Masc|Number=Plur|POS=PRON|PronType=Dem', 'Case=Gen|Degree=Pos|POS=ADJ', 'Case=Acc|Gender=Fem|Number=Plur|POS=PRON|PronType=Dem', 'Case=Gen|Number=Plur|POS=PRON|Poss=Yes|PronType=Prs', 'Case=Dat|Gender=Neut|Number=Plur|POS=PRON|PronType=Dem', 'Mood=Imp|Number=Plur|POS=AUX|Person=2', 'Case=Dat|Number=Sing|POS=PRON|PronType=Int', 'Mood=Sub|Number=Sing|POS=VERB|Person=2|Tense=Past|VerbForm=Fin', 'Case=Acc|Number=Sing|POS=PRON|Person=2|PronType=Prs|Reflex=Yes', 'Case=Dat|Gender=Fem|Number=Plur|POS=DET|PronType=Int', 'Case=Dat|Gender=Masc|Number=Plur|POS=PROPN', 'Case=Acc|Gender=Neut|Number=Plur|POS=PRON|PronType=Dem', 'Mood=Sub|Number=Plur|POS=AUX|Person=1|Tense=Pres|VerbForm=Fin', 'Case=Acc|Number=Sing|POS=PRON|PronType=Rel', 'Case=Acc|Number=Sing|POS=PRON|PronType=Dem', 'Case=Nom|Number=Sing|POS=PRON|PronType=Rel', 'Case=Dat|Degree=Cmp|Gender=Neut|Number=Plur|POS=ADJ', 'Case=Dat|Definite=Def|Number=Sing|POS=DET|PronType=Art', 'Gender=Neut|Number=Plur|POS=NOUN', 'Case=Dat|Degree=Cmp|Number=Plur|POS=ADJ', 'Gender=Fem|POS=PROPN', 'Case=Acc|Gender=Neut|Number=Plur|POS=PRON|PronType=Int', 'Case=Gen|Definite=Def|Number=Sing|POS=DET|PronType=Art', 'Case=Gen|Degree=Pos|Number=Sing|POS=ADJ', 'Case=Nom|Number=Sing|POS=PRON|Person=3|PronType=Prs', 'Case=Nom|Gender=Fem|Number=Plur|POS=DET|PronType=Int', 'Case=Gen|Gender=Neut|Number=Sing|POS=DET|PronType=Ind', 'Gender=Fem|Number=Plur|POS=NOUN', 'Gender=Fem|POS=PRON|PronType=Ind', 'Case=Nom|Definite=Def|Number=Sing|POS=DET|PronType=Art', 'Mood=Ind|Number=Plur|POS=VERB|Person=2|Tense=Past|VerbForm=Fin', 'Case=Nom|Gender=Neut|Number=Sing|POS=DET|PronType=Rel', 'Case=Dat|Degree=Sup|Number=Plur|POS=ADJ', 'Case=Nom|Degree=Pos|Number=Sing|POS=ADJ', 'Case=Acc|Degree=Sup|Number=Plur|POS=ADJ', 'Case=Nom|Gender=Neut|Number=Plur|POS=PROPN', 'Case=Dat|Gender=Neut|Number=Plur|POS=PROPN', 'Case=Acc|Gender=Neut|Number=Plur|POS=PRON|Poss=Yes|PronType=Prs', 'Case=Acc|Number=Plur|POS=PRON|Person=2|PronType=Prs', 'Case=Dat|Number=Sing|POS=DET|PronType=Ind', 'Case=Nom|Gender=Fem|Number=Sing|POS=DET', 'Case=Nom|Gender=Masc|POS=NOUN', 'Case=Nom|POS=NOUN', 'Case=Gen|POS=NOUN', 'Degree=Cmp|Gender=Fem|Number=Sing|POS=ADJ', 'Degree=Pos|Gender=Neut|Number=Sing|POS=ADJ', 'Case=Acc|Definite=Def|POS=DET|PronType=Art', 'Case=Acc|POS=PROPN', 'Case=Nom|Number=Plur|POS=DET|PronType=Int', 'Case=Gen|Degree=Cmp|Number=Plur|POS=ADJ', 'Case=Acc|Gender=Neut|POS=NOUN', 'Case=Gen|POS=DET|PronType=Rel', 'Case=Dat|Number=Sing|POS=PRON|Poss=Yes|PronType=Prs', 'POS=DET|PronType=Int', 'Definite=Ind|Gender=Neut|POS=DET|PronType=Art', 'Case=Dat|POS=NOUN', 'Case=Acc|Definite=Ind|Number=Sing|POS=DET|PronType=Art', 'Case=Nom|Gender=Neut|POS=NOUN', 'Definite=Def|Gender=Masc|Number=Sing|POS=DET|PronType=Art', 'Degree=Pos|Gender=Masc|Number=Sing|POS=ADJ', 'Case=Dat|Number=Plur|POS=DET|PronType=Dem', 'Case=Acc|Gender=Masc|Number=Sing|POS=PRON|PronType=Int', 'Case=Nom|Gender=Masc|Number=Sing|POS=DET|PronType=Rel', 'Case=Acc|Gender=Masc|Number=Plur|POS=PROPN', 'Case=Acc|Number=Sing|POS=PRON|Person=3|PronType=Prs', 'Case=Acc|Gender=Fem|Number=Plur|POS=PRON|PronType=Int', 'Case=Acc|Gender=Masc|Number=Plur|POS=DET|PronType=Int', 'Case=Gen|Number=Sing|POS=PRON|PronType=Ind', 'Case=Acc|POS=NOUN', 'Case=Gen|Number=Sing|POS=PRON|Person=3|PronType=Prs', 'Case=Gen|Gender=Neut|Number=Plur|POS=PRON|PronType=Dem', 'Case=Gen|Gender=Masc|Number=Sing|POS=PRON|PronType=Ind', 'Case=Gen|Gender=Neut|Number=Plur|POS=PROPN', 'Case=Nom|Definite=Def|POS=DET|PronType=Art', 'Case=Nom|Degree=Pos|POS=ADJ', 'Gender=Fem|Number=Sing|POS=DET|PronType=Ind', 'Case=Acc|Gender=Masc|Number=Sing|POS=PRON|Person=1|PronType=Prs', 'Case=Acc|Gender=Masc|Number=Plur|POS=PRON|Person=1|PronType=Prs', 'Degree=Pos|Gender=Fem|Number=Plur|POS=ADJ', 'Case=Nom|Gender=Masc|Number=Plur|POS=DET|PronType=Int', 'Definite=Def|Gender=Fem|Number=Plur|POS=DET|PronType=Art', 'Case=Acc|Number=Plur|POS=PRON|Person=2|PronType=Prs|Reflex=Yes', 'Case=Gen|Number=Plur|POS=PRON|Person=3|PronType=Prs', 'Case=Gen|Definite=Ind|Number=Sing|POS=DET|PronType=Art', 'Case=Gen|Gender=Fem|Number=Sing|POS=PRON|PronType=Ind', 'Case=Gen|Number=Sing|POS=DET|Poss=Yes|PronType=Prs', 'Case=Dat|Gender=Masc|Number=Plur|POS=PRON|PronType=Dem', 'Case=Nom|Number=Plur|POS=PRON|PronType=Int', 'Case=Dat|Gender=Neut|POS=NOUN', 'Case=Acc|Gender=Neut|Number=Plur|POS=PRON|PronType=Ind', 'Case=Dat|Gender=Masc|Number=Plur|POS=DET|PronType=Int', 'Case=Acc|Definite=Def|Number=Sing|POS=DET|PronType=Art', 'Case=Nom|Gender=Masc|Number=Plur|POS=DET|PronType=Rel', 'Degree=Cmp|POS=ADJ', 'Case=Dat|Gender=Neut|Number=Sing|POS=PRON|Poss=Yes|PronType=Prs', 'Case=Nom|Gender=Fem|Number=Sing|POS=PRON|Poss=Yes|PronType=Prs', 'Case=Dat|Gender=Fem|Number=Sing|POS=PRON|Poss=Yes|PronType=Prs', 'Case=Acc|Number=Sing|POS=DET|Poss=Yes|PronType=Prs', 'POS=ADJ', 'Case=Nom|Gender=Neut|Number=Plur|POS=DET|PronType=Int', 'Case=Acc|Degree=Pos|POS=ADJ', 'Case=Gen|POS=PRON|PronType=Int', 'Case=Acc|Definite=Ind|Gender=Neut|Number=Plur|POS=DET|PronType=Art', 'Definite=Def|Number=Plur|POS=DET|PronType=Art', 'Degree=Pos|Number=Plur|POS=ADJ', 'Number=Plur|POS=NOUN', 'POS=PRON|PronType=Int', 'Case=Gen|Degree=Sup|Number=Plur|POS=ADJ', 'Case=Dat|Gender=Masc|POS=NOUN', 'Gender=Fem|Number=Plur|POS=DET|PronType=Ind', 'Gender=Fem|POS=DET|PronType=Dem', 'Case=Acc|POS=PRON|PronType=Ind', 'Case=Gen|Number=Sing|POS=DET|PronType=Int', 'Case=Gen|Gender=Neut|Number=Plur|POS=PRON|PronType=Rel', 'Case=Nom|Gender=Fem|POS=NOUN', 'Case=Nom|Number=Sing|POS=PRON|Person=3|PronType=Prs|Reflex=Yes', 'Mood=Sub|Number=Sing|POS=AUX|Person=2|Tense=Pres|VerbForm=Fin', 'Case=Gen|Gender=Neut|Number=Sing|POS=PRON|PronType=Rel', 'Case=Nom|Gender=Masc|Number=Sing|POS=ADP', 'Case=Nom|Gender=Masc|POS=PROPN', 'Definite=Def|POS=DET|PronType=Art', 'Mood=Ind|Number=Sing|POS=VERB|Person=2|Tense=Past|VerbForm=Fin', 'Case=Acc|Degree=Pos|Number=Sing|POS=ADJ', 'Case=Acc|Number=Sing|POS=DET|PronType=Ind', 'Case=Nom|Number=Sing|POS=PRON|PronType=Dem', 'Case=Nom|Number=Sing|POS=DET|PronType=Ind', 'Case=Dat|Gender=Fem|Number=Sing|POS=PRON|Person=1|PronType=Prs', 'Case=Dat|POS=PRON|Person=3|PronType=Prs', 'Case=Dat|POS=PRON|Person=3|PronType=Prs|Reflex=Yes', 'Mood=Imp|Number=Sing|POS=AUX|Person=2', 'Gender=Fem|Number=Sing|POS=DET|PronType=Dem', 'Case=Gen|Gender=Masc|Number=Sing|POS=PRON|PronType=Rel', 'Case=Acc|Gender=Masc|Number=Sing|POS=ADP', 'Definite=Ind|Gender=Masc|Number=Sing|POS=DET|PronType=Art', 'Mood=Sub|Number=Sing|POS=VERB|Person=2|Tense=Pres|VerbForm=Fin', 'Case=Nom|Degree=Sup|Number=Plur|POS=ADJ', 'Case=Gen|Gender=Masc|Number=Plur|POS=PROPN', 'Case=Acc|Gender=Fem|Number=Plur|POS=PRON|Person=1|PronType=Prs', 'Gender=Fem|Number=Plur|POS=DET|Poss=Yes|PronType=Prs', 'Case=Dat|Gender=Masc|POS=PROPN', 'Case=Gen|Gender=Fem|Number=Sing|POS=DET', 'Case=Gen|Gender=Fem|Number=Sing|POS=PRON|PronType=Rel', 'Case=Acc|Gender=Fem|Number=Sing|POS=PRON|PronType=Int', 'Case=Nom|POS=PRON|PronType=Ind', 'Case=Nom|Number=Plur|POS=PRON|Person=3|PronType=Prs|Reflex=Yes', 'Case=Gen|Definite=Def|Gender=Fem|POS=DET|PronType=Art', 'Case=Gen|Gender=Masc|Number=Plur|POS=PRON|Person=3|PronType=Prs', 'Case=Acc|Gender=Masc|Number=Plur|POS=PRON|Person=2|PronType=Prs', 'Case=Gen|POS=DET|PronType=Dem', 'Case=Nom|Gender=Masc|Number=Plur|POS=PRON|Poss=Yes|PronType=Prs', 'Gender=Masc|POS=PRON|PronType=Ind', 'Gender=Neut|Number=Sing|POS=PRON|Person=3|PronType=Prs', 'Case=Nom|Gender=Fem|POS=PRON|PronType=Ind', 'Case=Nom|Gender=Fem|POS=PROPN', 'Gender=Neut|Number=Plur|POS=PROPN', 'Gender=Masc|Number=Sing|POS=PRON|PronType=Ind'], 'parser': ['ROOT', 'ac', 'adc', 'ag', 'ams', 'app', 'avc', 'cc', 'cd', 'cj', 'cm', 'cp', 'cvc', 'da', 'dep', 'dm', 'ep', 'ju', 'mnr', 'mo', 'ng', 'nk', 'nmc', 'oa', 'oc', 'og', 'op', 'par', 'pd', 'pg', 'ph', 'pm', 'pnc', 'punct', 'rc', 're', 'rs', 'sb', 'sbp', 'svp', 'uc', 'vo'], 'senter': ['I', 'S'], 'ner': ['LOC', 'MISC', 'ORG', 'PER'], 'attribute_ruler': [], 'lemmatizer': []}, 'pipeline': ['tok2vec', 'tagger', 'morphologizer', 'parser', 'ner', 'attribute_ruler', 'lemmatizer'], 'components': ['tok2vec', 'tagger', 'morphologizer', 'parser', 'senter', 'ner', 'attribute_ruler', 'lemmatizer'], 'disabled': ['senter'], 'performance': {'tag_acc': 0.9744877394, 'ents_p': 0.8332704933, 'ents_r': 0.8147043836000001, 'ents_f': 0.8238828554000001, 'sents_p': 0.943301134, 'sents_r': 0.9535794607, 'sents_f': 0.9421398879, 'speed': 11947.0165594639, 'ents_per_type': {'LOC': {'p': 0.8525470454, 'r': 0.8517303317, 'f': 0.8521384929}, 'PER': {'p': 0.8575929139, 'r': 0.8879591547000001, 'f': 0.8725119034000001}, 'MISC': {'p': 0.7925331819, 'r': 0.6970472564, 'f': 0.7417297728000001}, 'ORG': {'p': 0.7720930233000001, 'r': 0.7236921227, 'f': 0.7471094902000001}}, 'token_acc': 0.9998017682, 'pos_acc': 0.9804411318, 'morph_acc': 0.9078222257, 'lemma_acc': 0.7342764075, 'dep_uas': 0.9185298714000001, 'dep_las': 0.8974418692, 'morph_per_feat': {'Case': {'p': 0.9133631369, 'r': 0.9151129219, 'f': 0.9142371922}, 'Definite': {'p': 0.9954395166000001, 'r': 0.9957801095000001, 'f': 0.9956097839}, 'Gender': {'p': 0.9281166220000001, 'r': 0.9379656807000001, 'f': 0.9330151600000001}, 'Number': {'p': 0.970409132, 'r': 0.9708362289, 'f': 0.9706226334}, 'PronType': {'p': 0.9913064673, 'r': 0.9892970080000001, 'f': 0.9903007183}, 'Degree': {'p': 0.9738366989, 'r': 0.9680572526000001, 'f': 0.9709383754}, 'VerbForm': {'p': 0.9546963693, 'r': 0.9571566627, 'f': 0.955924933}, 'Mood': {'p': 0.9656846334, 'r': 0.9565577848000001, 'f': 0.9610995419}, 'Person': {'p': 0.9761937909, 'r': 0.9685082873, 'f': 0.9723358525}, 'Tense': {'p': 0.9669129997, 'r': 0.9577441358000001, 'f': 0.9623067280000001}, 'Reflex': {'p': 1.0, 'r': 0.9976303318, 'f': 0.9988137604}, 'Poss': {'p': 0.9979381443, 'r': 1.0, 'f': 0.9989680083}, 'Foreign': {'p': 0.6875, 'r': 0.11055276380000001, 'f': 0.1904761905}}, 'dep_las_per_type': {'cp': {'p': 0.9489051095000001, 'r': 0.9506398537, 'f': 0.9497716895}, 'nk': {'p': 0.9738781792000001, 'r': 0.9792718684, 'f': 0.9765675763}, 'sb': {'p': 0.9070251518, 'r': 0.9172075075, 'f': 0.9120879121000001}, 'ag': {'p': 0.9426096372, 'r': 0.9624101714000001, 'f': 0.9524070022000001}, 'mnr': {'p': 0.7235739928, 'r': 0.7625052543, 'f': 0.7425296766}, 'mo': {'p': 0.778234292, 'r': 0.7855553308000001, 'f': 0.7818776743}, 'oc': {'p': 0.9138033175, 'r': 0.9286574353, 'f': 0.9211704987}, 'root': {'p': 0.9697097181000001, 'r': 0.9526761728, 'f': 0.9611174815}, 'rc': {'p': 0.6718403548, 'r': 0.6793721973, 'f': 0.6755852843}, 'op': {'p': 0.7134831461000001, 'r': 0.5678092399, 'f': 0.6323651452}, 'pm': {'p': 0.9942528736, 'r': 0.9942528736, 'f': 0.9942528736}, 'nmc': {'p': 0.9793650794000001, 'r': 0.9747235387000001, 'f': 0.9770387965}, 'oa': {'p': 0.8475409836000001, 'r': 0.8525725594, 'f': 0.8500493259}, 'pd': {'p': 0.8218298555, 'r': 0.7529411765, 'f': 0.7858787414}, 'ep': {'p': 0.8273381295000001, 'r': 0.8646616541000001, 'f': 0.8455882353}, 'cd': {'p': 0.8703225806, 'r': 0.8714470284, 'f': 0.8708844416}, 'cj': {'p': 0.8452958293, 'r': 0.8594674556, 'f': 0.8523227384000001}, 'par': {'p': 0.5, 'r': 0.318627451, 'f': 0.3892215569}, 'da': {'p': 0.7622377622000001, 'r': 0.5547073791, 'f': 0.6421207658}, 'svp': {'p': 0.9447731755000001, 'r': 0.9211538462000001, 'f': 0.9328140214}, 'pg': {'p': 0.8589743590000001, 'r': 0.8535031847000001, 'f': 0.8562300319}, 'app': {'p': 0.6454849498, 'r': 0.6498316498000001, 'f': 0.6476510067}, 'ac': {'p': 0.9326923077, 'r': 0.8290598291, 'f': 0.8778280543}, 'pnc': {'p': 0.8342391304000001, 'r': 0.7974025974000001, 'f': 0.8154050465}, 'ju': {'p': 0.9494949495, 'r': 0.9494949495, 'f': 0.9494949495}, 'ng': {'p': 0.8169761273, 'r': 0.8191489362000001, 'f': 0.8180610890000001}, 're': {'p': 0.6666666667000001, 'r': 0.5833333333, 'f': 0.6222222222}, 'dep': {'p': 0.0, 'r': 0.0, 'f': 0.0}, 'cm': {'p': 0.9024390244, 'r': 0.8894230769, 'f': 0.8958837772}, 'cc': {'p': 0.7797619048000001, 'r': 0.6582914573, 'f': 0.7138964578}, 'sbp': {'p': 0.8348623853, 'r': 0.7844827586, 'f': 0.8088888889}, 'uc': {'p': 0.6666666667000001, 'r': 0.2666666667, 'f': 0.380952381}, 'ams': {'p': 0.768115942, 'r': 0.7794117647000001, 'f': 0.7737226277}, 'rs': {'p': 0.6875, 'r': 0.35483870970000003, 'f': 0.4680851064}, 'cvc': {'p': 0.8269230769, 'r': 0.5443037975, 'f': 0.6564885496}, 'ph': {'p': 0.75, 'r': 0.4285714286, 'f': 0.5454545455}, 'dm': {'p': 0.0, 'r': 0.0, 'f': 0.0}, 'oa2': {'p': 0.0, 'r': 0.0, 'f': 0.0}, 'vo': {'p': 0.0, 'r': 0.0, 'f': 0.0}, 'og': {'p': 1.0, 'r': 0.2857142857, 'f': 0.4444444444}, 'adc': {'p': 1.0, 'r': 1.0, 'f': 1.0}}}, 'sources': [{'name': 'TIGER Corpus', 'url': 'https://www.ims.uni-stuttgart.de/forschung/ressourcen/korpora/tiger.html', 'license': 'commercial (licensed by Explosion)'}, {'name': 'WikiNER', 'url': 'https://figshare.com/articles/Learning_multilingual_named_entity_recognition_from_Wikipedia/5462500', 'license': 'CC BY 4.0'}], 'requirements': []}, '_path': PosixPath('/opt/conda/lib/python3.8/site-packages/de_core_news_sm/de_core_news_sm-3.0.0'), '_optimizer': None, '_pipe_meta': {'tok2vec': FactoryMeta(factory='tok2vec', default_config={'model': {'@architectures': 'spacy.HashEmbedCNN.v2', 'pretrained_vectors': None, 'width': 96, 'depth': 4, 'embed_size': 2000, 'window_size': 1, 'maxout_pieces': 3, 'subword_features': True}}, assigns=['doc.tensor'], requires=[], retokenizes=False, scores=[], default_score_weights={}), 'tagger': FactoryMeta(factory='tagger', default_config={'model': {'@architectures': 'spacy.Tagger.v1', 'tok2vec': {'@architectures': 'spacy.HashEmbedCNN.v2', 'pretrained_vectors': None, 'width': 96, 'depth': 4, 'embed_size': 2000, 'window_size': 1, 'maxout_pieces': 3, 'subword_features': True}}}, assigns=['token.tag'], requires=[], retokenizes=False, scores=['tag_acc'], default_score_weights={'tag_acc': 1.0}), 'morphologizer': FactoryMeta(factory='morphologizer', default_config={'model': {'@architectures': 'spacy.Tagger.v1', 'tok2vec': {'@architectures': 'spacy.Tok2Vec.v2', 'embed': {'@architectures': 'spacy.CharacterEmbed.v2', 'width': 128, 'rows': 7000, 'nM': 64, 'nC': 8, 'include_static_vectors': False}, 'encode': {'@architectures': 'spacy.MaxoutWindowEncoder.v2', 'width': 128, 'depth': 4, 'window_size': 1, 'maxout_pieces': 3}}}}, assigns=['token.morph', 'token.pos'], requires=[], retokenizes=False, scores=['pos_acc', 'morph_acc', 'morph_per_feat'], default_score_weights={'pos_acc': 0.5, 'morph_acc': 0.5, 'morph_per_feat': None}), 'parser': FactoryMeta(factory='parser', default_config={'moves': None, 'update_with_oracle_cut_size': 100, 'learn_tokens': False, 'min_action_freq': 30, 'model': {'@architectures': 'spacy.TransitionBasedParser.v2', 'state_type': 'parser', 'extra_state_tokens': False, 'hidden_width': 64, 'maxout_pieces': 2, 'use_upper': True, 'tok2vec': {'@architectures': 'spacy.HashEmbedCNN.v2', 'pretrained_vectors': None, 'width': 96, 'depth': 4, 'embed_size': 2000, 'window_size': 1, 'maxout_pieces': 3, 'subword_features': True}}}, assigns=['token.dep', 'token.head', 'token.is_sent_start', 'doc.sents'], requires=[], retokenizes=False, scores=['dep_uas', 'dep_las', 'dep_las_per_type', 'sents_p', 'sents_r', 'sents_f'], default_score_weights={'dep_uas': 0.5, 'dep_las': 0.5, 'dep_las_per_type': None, 'sents_p': None, 'sents_r': None, 'sents_f': 0.0}), 'senter': FactoryMeta(factory='senter', default_config={'model': {'@architectures': 'spacy.Tagger.v1', 'tok2vec': {'@architectures': 'spacy.HashEmbedCNN.v2', 'pretrained_vectors': None, 'width': 12, 'depth': 1, 'embed_size': 2000, 'window_size': 1, 'maxout_pieces': 2, 'subword_features': True}}}, assigns=['token.is_sent_start'], requires=[], retokenizes=False, scores=['sents_f', 'sents_p', 'sents_r'], default_score_weights={'sents_f': 1.0, 'sents_p': 0.0, 'sents_r': 0.0}), 'ner': FactoryMeta(factory='ner', default_config={'moves': None, 'update_with_oracle_cut_size': 100, 'model': {'@architectures': 'spacy.TransitionBasedParser.v2', 'state_type': 'ner', 'extra_state_tokens': False, 'hidden_width': 64, 'maxout_pieces': 2, 'use_upper': True, 'tok2vec': {'@architectures': 'spacy.HashEmbedCNN.v2', 'pretrained_vectors': None, 'width': 96, 'depth': 4, 'embed_size': 2000, 'window_size': 1, 'maxout_pieces': 3, 'subword_features': True}}}, assigns=['doc.ents', 'token.ent_iob', 'token.ent_type'], requires=[], retokenizes=False, scores=['ents_f', 'ents_p', 'ents_r', 'ents_per_type'], default_score_weights={'ents_f': 1.0, 'ents_p': 0.0, 'ents_r': 0.0, 'ents_per_type': None}), 'attribute_ruler': FactoryMeta(factory='attribute_ruler', default_config={'validate': False}, assigns=[], requires=[], retokenizes=False, scores=[], default_score_weights={}), 'lemmatizer': FactoryMeta(factory='lemmatizer', default_config={'model': None, 'mode': 'lookup', 'overwrite': False}, assigns=['token.lemma'], requires=[], retokenizes=False, scores=['lemma_acc'], default_score_weights={'lemma_acc': 1.0})}, '_pipe_configs': {'tok2vec': {'factory': 'tok2vec', 'model': {'@architectures': 'spacy.Tok2Vec.v1', 'embed': {'@architectures': 'spacy.MultiHashEmbed.v1', 'width': '${components.tok2vec.model.encode:width}', 'attrs': ['NORM', 'PREFIX', 'SUFFIX', 'SHAPE'], 'rows': [5000, 2500, 2500, 2500], 'include_static_vectors': False}, 'encode': {'@architectures': 'spacy.MaxoutWindowEncoder.v1', 'width': 96, 'depth': 4, 'window_size': 1, 'maxout_pieces': 3}}}, 'tagger': {'factory': 'tagger', 'model': {'@architectures': 'spacy.Tagger.v1', 'nO': None, 'tok2vec': {'@architectures': 'spacy.Tok2VecListener.v1', 'width': '${components.tok2vec.model.encode:width}', 'upstream': '*'}}}, 'morphologizer': {'factory': 'morphologizer', 'model': {'@architectures': 'spacy.Tagger.v1', 'nO': None, 'tok2vec': {'@architectures': 'spacy.Tok2VecListener.v1', 'width': '${components.tok2vec.model.encode:width}', 'upstream': '*'}}}, 'parser': {'factory': 'parser', 'learn_tokens': False, 'min_action_freq': 30, 'model': {'@architectures': 'spacy.TransitionBasedParser.v2', 'state_type': 'parser', 'extra_state_tokens': False, 'hidden_width': 64, 'maxout_pieces': 2, 'use_upper': True, 'nO': None, 'tok2vec': {'@architectures': 'spacy.Tok2VecListener.v1', 'width': '${components.tok2vec.model.encode:width}', 'upstream': '*'}}, 'moves': None, 'update_with_oracle_cut_size': 100}, 'senter': {'factory': 'senter', 'model': {'@architectures': 'spacy.Tagger.v1', 'nO': None, 'tok2vec': {'@architectures': 'spacy.Tok2Vec.v1', 'embed': {'@architectures': 'spacy.MultiHashEmbed.v1', 'width': 16, 'attrs': ['NORM', 'PREFIX', 'SUFFIX', 'SHAPE'], 'rows': [1000, 500, 500, 500], 'include_static_vectors': False}, 'encode': {'@architectures': 'spacy.MaxoutWindowEncoder.v1', 'width': 16, 'depth': 2, 'window_size': 1, 'maxout_pieces': 2}}}}, 'ner': {'factory': 'ner', 'model': {'@architectures': 'spacy.TransitionBasedParser.v2', 'state_type': 'ner', 'extra_state_tokens': False, 'hidden_width': 64, 'maxout_pieces': 2, 'use_upper': True, 'nO': None, 'tok2vec': {'@architectures': 'spacy.Tok2Vec.v1', 'embed': {'@architectures': 'spacy.MultiHashEmbed.v1', 'width': 96, 'attrs': ['NORM', 'PREFIX', 'SUFFIX', 'SHAPE'], 'rows': [5000, 2500, 2500, 2500], 'include_static_vectors': False}, 'encode': {'@architectures': 'spacy.MaxoutWindowEncoder.v1', 'width': 96, 'depth': 4, 'window_size': 1, 'maxout_pieces': 3}}}, 'moves': None, 'update_with_oracle_cut_size': 100}, 'attribute_ruler': {'factory': 'attribute_ruler', 'validate': False}, 'lemmatizer': {'factory': 'lemmatizer', 'mode': 'lookup', 'model': None, 'overwrite': False}}, 'vocab': <spacy.vocab.Vocab object at 0x7f927e501ee0>, '_components': [('tok2vec', <spacy.pipeline.tok2vec.Tok2Vec object at 0x7f92402280e0>), ('tagger', <spacy.pipeline.tagger.Tagger object at 0x7f9240228630>), ('morphologizer', <spacy.pipeline.morphologizer.Morphologizer object at 0x7f9240228130>), ('parser', <spacy.pipeline.dep_parser.DependencyParser object at 0x7f92646d4040>), ('senter', <spacy.pipeline.senter.SentenceRecognizer object at 0x7f9240228040>), ('ner', <spacy.pipeline.ner.EntityRecognizer object at 0x7f92646d4a00>), ('attribute_ruler', <spacy.pipeline.attributeruler.AttributeRuler object at 0x7f92703b8980>), ('lemmatizer', <spacy.pipeline.lemmatizer.Lemmatizer object at 0x7f92703a9380>)], '_disabled': {'senter'}, 'max_length': 1000000, 'tokenizer': <spacy.tokenizer.Tokenizer object at 0x7f927e501700>, 'batch_size': 256, 'default_error_handler': <function raise_error at 0x7f92713ddaf0>}\n",
      "<spacy.lang.en.English object at 0x7f927e3d9be0>\n",
      "<torchtext.data.field.Field object at 0x7f927f3777f0>\n",
      "<torchtext.data.field.Field object at 0x7f928cd1ef70>\n"
     ]
    },
    {
     "ename": "ReadError",
     "evalue": "not a gzip file",
     "output_type": "error",
     "traceback": [
      "\u001b[0;31m---------------------------------------------------------------------------\u001b[0m",
      "\u001b[0;31mBadGzipFile\u001b[0m                               Traceback (most recent call last)",
      "\u001b[0;32m/opt/conda/lib/python3.8/tarfile.py\u001b[0m in \u001b[0;36mgzopen\u001b[0;34m(cls, name, mode, fileobj, compresslevel, **kwargs)\u001b[0m\n\u001b[1;32m   1673\u001b[0m         \u001b[0;32mtry\u001b[0m\u001b[0;34m:\u001b[0m\u001b[0;34m\u001b[0m\u001b[0;34m\u001b[0m\u001b[0m\n\u001b[0;32m-> 1674\u001b[0;31m             \u001b[0mt\u001b[0m \u001b[0;34m=\u001b[0m \u001b[0mcls\u001b[0m\u001b[0;34m.\u001b[0m\u001b[0mtaropen\u001b[0m\u001b[0;34m(\u001b[0m\u001b[0mname\u001b[0m\u001b[0;34m,\u001b[0m \u001b[0mmode\u001b[0m\u001b[0;34m,\u001b[0m \u001b[0mfileobj\u001b[0m\u001b[0;34m,\u001b[0m \u001b[0;34m**\u001b[0m\u001b[0mkwargs\u001b[0m\u001b[0;34m)\u001b[0m\u001b[0;34m\u001b[0m\u001b[0;34m\u001b[0m\u001b[0m\n\u001b[0m\u001b[1;32m   1675\u001b[0m         \u001b[0;32mexcept\u001b[0m \u001b[0mOSError\u001b[0m\u001b[0;34m:\u001b[0m\u001b[0;34m\u001b[0m\u001b[0;34m\u001b[0m\u001b[0m\n",
      "\u001b[0;32m/opt/conda/lib/python3.8/tarfile.py\u001b[0m in \u001b[0;36mtaropen\u001b[0;34m(cls, name, mode, fileobj, **kwargs)\u001b[0m\n\u001b[1;32m   1650\u001b[0m             \u001b[0;32mraise\u001b[0m \u001b[0mValueError\u001b[0m\u001b[0;34m(\u001b[0m\u001b[0;34m\"mode must be 'r', 'a', 'w' or 'x'\"\u001b[0m\u001b[0;34m)\u001b[0m\u001b[0;34m\u001b[0m\u001b[0;34m\u001b[0m\u001b[0m\n\u001b[0;32m-> 1651\u001b[0;31m         \u001b[0;32mreturn\u001b[0m \u001b[0mcls\u001b[0m\u001b[0;34m(\u001b[0m\u001b[0mname\u001b[0m\u001b[0;34m,\u001b[0m \u001b[0mmode\u001b[0m\u001b[0;34m,\u001b[0m \u001b[0mfileobj\u001b[0m\u001b[0;34m,\u001b[0m \u001b[0;34m**\u001b[0m\u001b[0mkwargs\u001b[0m\u001b[0;34m)\u001b[0m\u001b[0;34m\u001b[0m\u001b[0;34m\u001b[0m\u001b[0m\n\u001b[0m\u001b[1;32m   1652\u001b[0m \u001b[0;34m\u001b[0m\u001b[0m\n",
      "\u001b[0;32m/opt/conda/lib/python3.8/tarfile.py\u001b[0m in \u001b[0;36m__init__\u001b[0;34m(self, name, mode, fileobj, format, tarinfo, dereference, ignore_zeros, encoding, errors, pax_headers, debug, errorlevel, copybufsize)\u001b[0m\n\u001b[1;32m   1513\u001b[0m                 \u001b[0mself\u001b[0m\u001b[0;34m.\u001b[0m\u001b[0mfirstmember\u001b[0m \u001b[0;34m=\u001b[0m \u001b[0;32mNone\u001b[0m\u001b[0;34m\u001b[0m\u001b[0;34m\u001b[0m\u001b[0m\n\u001b[0;32m-> 1514\u001b[0;31m                 \u001b[0mself\u001b[0m\u001b[0;34m.\u001b[0m\u001b[0mfirstmember\u001b[0m \u001b[0;34m=\u001b[0m \u001b[0mself\u001b[0m\u001b[0;34m.\u001b[0m\u001b[0mnext\u001b[0m\u001b[0;34m(\u001b[0m\u001b[0;34m)\u001b[0m\u001b[0;34m\u001b[0m\u001b[0;34m\u001b[0m\u001b[0m\n\u001b[0m\u001b[1;32m   1515\u001b[0m \u001b[0;34m\u001b[0m\u001b[0m\n",
      "\u001b[0;32m/opt/conda/lib/python3.8/tarfile.py\u001b[0m in \u001b[0;36mnext\u001b[0;34m(self)\u001b[0m\n\u001b[1;32m   2317\u001b[0m             \u001b[0;32mtry\u001b[0m\u001b[0;34m:\u001b[0m\u001b[0;34m\u001b[0m\u001b[0;34m\u001b[0m\u001b[0m\n\u001b[0;32m-> 2318\u001b[0;31m                 \u001b[0mtarinfo\u001b[0m \u001b[0;34m=\u001b[0m \u001b[0mself\u001b[0m\u001b[0;34m.\u001b[0m\u001b[0mtarinfo\u001b[0m\u001b[0;34m.\u001b[0m\u001b[0mfromtarfile\u001b[0m\u001b[0;34m(\u001b[0m\u001b[0mself\u001b[0m\u001b[0;34m)\u001b[0m\u001b[0;34m\u001b[0m\u001b[0;34m\u001b[0m\u001b[0m\n\u001b[0m\u001b[1;32m   2319\u001b[0m             \u001b[0;32mexcept\u001b[0m \u001b[0mEOFHeaderError\u001b[0m \u001b[0;32mas\u001b[0m \u001b[0me\u001b[0m\u001b[0;34m:\u001b[0m\u001b[0;34m\u001b[0m\u001b[0;34m\u001b[0m\u001b[0m\n",
      "\u001b[0;32m/opt/conda/lib/python3.8/tarfile.py\u001b[0m in \u001b[0;36mfromtarfile\u001b[0;34m(cls, tarfile)\u001b[0m\n\u001b[1;32m   1103\u001b[0m         \"\"\"\n\u001b[0;32m-> 1104\u001b[0;31m         \u001b[0mbuf\u001b[0m \u001b[0;34m=\u001b[0m \u001b[0mtarfile\u001b[0m\u001b[0;34m.\u001b[0m\u001b[0mfileobj\u001b[0m\u001b[0;34m.\u001b[0m\u001b[0mread\u001b[0m\u001b[0;34m(\u001b[0m\u001b[0mBLOCKSIZE\u001b[0m\u001b[0;34m)\u001b[0m\u001b[0;34m\u001b[0m\u001b[0;34m\u001b[0m\u001b[0m\n\u001b[0m\u001b[1;32m   1105\u001b[0m         \u001b[0mobj\u001b[0m \u001b[0;34m=\u001b[0m \u001b[0mcls\u001b[0m\u001b[0;34m.\u001b[0m\u001b[0mfrombuf\u001b[0m\u001b[0;34m(\u001b[0m\u001b[0mbuf\u001b[0m\u001b[0;34m,\u001b[0m \u001b[0mtarfile\u001b[0m\u001b[0;34m.\u001b[0m\u001b[0mencoding\u001b[0m\u001b[0;34m,\u001b[0m \u001b[0mtarfile\u001b[0m\u001b[0;34m.\u001b[0m\u001b[0merrors\u001b[0m\u001b[0;34m)\u001b[0m\u001b[0;34m\u001b[0m\u001b[0;34m\u001b[0m\u001b[0m\n",
      "\u001b[0;32m/opt/conda/lib/python3.8/gzip.py\u001b[0m in \u001b[0;36mread\u001b[0;34m(self, size)\u001b[0m\n\u001b[1;32m    291\u001b[0m             \u001b[0;32mraise\u001b[0m \u001b[0mOSError\u001b[0m\u001b[0;34m(\u001b[0m\u001b[0merrno\u001b[0m\u001b[0;34m.\u001b[0m\u001b[0mEBADF\u001b[0m\u001b[0;34m,\u001b[0m \u001b[0;34m\"read() on write-only GzipFile object\"\u001b[0m\u001b[0;34m)\u001b[0m\u001b[0;34m\u001b[0m\u001b[0;34m\u001b[0m\u001b[0m\n\u001b[0;32m--> 292\u001b[0;31m         \u001b[0;32mreturn\u001b[0m \u001b[0mself\u001b[0m\u001b[0;34m.\u001b[0m\u001b[0m_buffer\u001b[0m\u001b[0;34m.\u001b[0m\u001b[0mread\u001b[0m\u001b[0;34m(\u001b[0m\u001b[0msize\u001b[0m\u001b[0;34m)\u001b[0m\u001b[0;34m\u001b[0m\u001b[0;34m\u001b[0m\u001b[0m\n\u001b[0m\u001b[1;32m    293\u001b[0m \u001b[0;34m\u001b[0m\u001b[0m\n",
      "\u001b[0;32m/opt/conda/lib/python3.8/_compression.py\u001b[0m in \u001b[0;36mreadinto\u001b[0;34m(self, b)\u001b[0m\n\u001b[1;32m     67\u001b[0m         \u001b[0;32mwith\u001b[0m \u001b[0mmemoryview\u001b[0m\u001b[0;34m(\u001b[0m\u001b[0mb\u001b[0m\u001b[0;34m)\u001b[0m \u001b[0;32mas\u001b[0m \u001b[0mview\u001b[0m\u001b[0;34m,\u001b[0m \u001b[0mview\u001b[0m\u001b[0;34m.\u001b[0m\u001b[0mcast\u001b[0m\u001b[0;34m(\u001b[0m\u001b[0;34m\"B\"\u001b[0m\u001b[0;34m)\u001b[0m \u001b[0;32mas\u001b[0m \u001b[0mbyte_view\u001b[0m\u001b[0;34m:\u001b[0m\u001b[0;34m\u001b[0m\u001b[0;34m\u001b[0m\u001b[0m\n\u001b[0;32m---> 68\u001b[0;31m             \u001b[0mdata\u001b[0m \u001b[0;34m=\u001b[0m \u001b[0mself\u001b[0m\u001b[0;34m.\u001b[0m\u001b[0mread\u001b[0m\u001b[0;34m(\u001b[0m\u001b[0mlen\u001b[0m\u001b[0;34m(\u001b[0m\u001b[0mbyte_view\u001b[0m\u001b[0;34m)\u001b[0m\u001b[0;34m)\u001b[0m\u001b[0;34m\u001b[0m\u001b[0;34m\u001b[0m\u001b[0m\n\u001b[0m\u001b[1;32m     69\u001b[0m             \u001b[0mbyte_view\u001b[0m\u001b[0;34m[\u001b[0m\u001b[0;34m:\u001b[0m\u001b[0mlen\u001b[0m\u001b[0;34m(\u001b[0m\u001b[0mdata\u001b[0m\u001b[0;34m)\u001b[0m\u001b[0;34m]\u001b[0m \u001b[0;34m=\u001b[0m \u001b[0mdata\u001b[0m\u001b[0;34m\u001b[0m\u001b[0;34m\u001b[0m\u001b[0m\n",
      "\u001b[0;32m/opt/conda/lib/python3.8/gzip.py\u001b[0m in \u001b[0;36mread\u001b[0;34m(self, size)\u001b[0m\n\u001b[1;32m    478\u001b[0m                 \u001b[0mself\u001b[0m\u001b[0;34m.\u001b[0m\u001b[0m_init_read\u001b[0m\u001b[0;34m(\u001b[0m\u001b[0;34m)\u001b[0m\u001b[0;34m\u001b[0m\u001b[0;34m\u001b[0m\u001b[0m\n\u001b[0;32m--> 479\u001b[0;31m                 \u001b[0;32mif\u001b[0m \u001b[0;32mnot\u001b[0m \u001b[0mself\u001b[0m\u001b[0;34m.\u001b[0m\u001b[0m_read_gzip_header\u001b[0m\u001b[0;34m(\u001b[0m\u001b[0;34m)\u001b[0m\u001b[0;34m:\u001b[0m\u001b[0;34m\u001b[0m\u001b[0;34m\u001b[0m\u001b[0m\n\u001b[0m\u001b[1;32m    480\u001b[0m                     \u001b[0mself\u001b[0m\u001b[0;34m.\u001b[0m\u001b[0m_size\u001b[0m \u001b[0;34m=\u001b[0m \u001b[0mself\u001b[0m\u001b[0;34m.\u001b[0m\u001b[0m_pos\u001b[0m\u001b[0;34m\u001b[0m\u001b[0;34m\u001b[0m\u001b[0m\n",
      "\u001b[0;32m/opt/conda/lib/python3.8/gzip.py\u001b[0m in \u001b[0;36m_read_gzip_header\u001b[0;34m(self)\u001b[0m\n\u001b[1;32m    426\u001b[0m         \u001b[0;32mif\u001b[0m \u001b[0mmagic\u001b[0m \u001b[0;34m!=\u001b[0m \u001b[0;34mb'\\037\\213'\u001b[0m\u001b[0;34m:\u001b[0m\u001b[0;34m\u001b[0m\u001b[0;34m\u001b[0m\u001b[0m\n\u001b[0;32m--> 427\u001b[0;31m             \u001b[0;32mraise\u001b[0m \u001b[0mBadGzipFile\u001b[0m\u001b[0;34m(\u001b[0m\u001b[0;34m'Not a gzipped file (%r)'\u001b[0m \u001b[0;34m%\u001b[0m \u001b[0mmagic\u001b[0m\u001b[0;34m)\u001b[0m\u001b[0;34m\u001b[0m\u001b[0;34m\u001b[0m\u001b[0m\n\u001b[0m\u001b[1;32m    428\u001b[0m \u001b[0;34m\u001b[0m\u001b[0m\n",
      "\u001b[0;31mBadGzipFile\u001b[0m: Not a gzipped file (b'<!')",
      "\nDuring handling of the above exception, another exception occurred:\n",
      "\u001b[0;31mReadError\u001b[0m                                 Traceback (most recent call last)",
      "\u001b[0;32m<ipython-input-117-157f34b3acf6>\u001b[0m in \u001b[0;36m<module>\u001b[0;34m\u001b[0m\n\u001b[1;32m     29\u001b[0m \u001b[0;34m\u001b[0m\u001b[0m\n\u001b[1;32m     30\u001b[0m     \u001b[0mMAX_LEN\u001b[0m \u001b[0;34m=\u001b[0m \u001b[0;36m100\u001b[0m\u001b[0;34m\u001b[0m\u001b[0;34m\u001b[0m\u001b[0m\n\u001b[0;32m---> 31\u001b[0;31m     train, val, test = datasets.IWSLT.splits(\n\u001b[0m\u001b[1;32m     32\u001b[0m         \u001b[0mexts\u001b[0m\u001b[0;34m=\u001b[0m\u001b[0;34m(\u001b[0m\u001b[0;34m'.de_core_news_sm'\u001b[0m\u001b[0;34m,\u001b[0m \u001b[0;34m'.en_core_web_sm'\u001b[0m\u001b[0;34m)\u001b[0m\u001b[0;34m,\u001b[0m \u001b[0mfields\u001b[0m\u001b[0;34m=\u001b[0m\u001b[0;34m(\u001b[0m\u001b[0mSRC\u001b[0m\u001b[0;34m,\u001b[0m \u001b[0mTGT\u001b[0m\u001b[0;34m)\u001b[0m\u001b[0;34m,\u001b[0m\u001b[0;34m\u001b[0m\u001b[0;34m\u001b[0m\u001b[0m\n\u001b[1;32m     33\u001b[0m         \u001b[0mfilter_pred\u001b[0m\u001b[0;34m=\u001b[0m\u001b[0;32mlambda\u001b[0m \u001b[0mx\u001b[0m\u001b[0;34m:\u001b[0m \u001b[0mlen\u001b[0m\u001b[0;34m(\u001b[0m\u001b[0mvars\u001b[0m\u001b[0;34m(\u001b[0m\u001b[0mx\u001b[0m\u001b[0;34m)\u001b[0m\u001b[0;34m[\u001b[0m\u001b[0;34m'src'\u001b[0m\u001b[0;34m]\u001b[0m\u001b[0;34m)\u001b[0m \u001b[0;34m<=\u001b[0m \u001b[0mMAX_LEN\u001b[0m \u001b[0;32mand\u001b[0m\u001b[0;34m\u001b[0m\u001b[0;34m\u001b[0m\u001b[0m\n",
      "\u001b[0;32m/opt/conda/lib/python3.8/site-packages/torchtext-0.8.0a0+0f911ec-py3.8-linux-x86_64.egg/torchtext/datasets/translation.py\u001b[0m in \u001b[0;36msplits\u001b[0;34m(cls, exts, fields, root, train, validation, test, **kwargs)\u001b[0m\n\u001b[1;32m    142\u001b[0m         \u001b[0mcls\u001b[0m\u001b[0;34m.\u001b[0m\u001b[0murls\u001b[0m \u001b[0;34m=\u001b[0m \u001b[0;34m[\u001b[0m\u001b[0mcls\u001b[0m\u001b[0;34m.\u001b[0m\u001b[0mbase_url\u001b[0m\u001b[0;34m.\u001b[0m\u001b[0mformat\u001b[0m\u001b[0;34m(\u001b[0m\u001b[0mexts\u001b[0m\u001b[0;34m[\u001b[0m\u001b[0;36m0\u001b[0m\u001b[0;34m]\u001b[0m\u001b[0;34m[\u001b[0m\u001b[0;36m1\u001b[0m\u001b[0;34m:\u001b[0m\u001b[0;34m]\u001b[0m\u001b[0;34m,\u001b[0m \u001b[0mexts\u001b[0m\u001b[0;34m[\u001b[0m\u001b[0;36m1\u001b[0m\u001b[0;34m]\u001b[0m\u001b[0;34m[\u001b[0m\u001b[0;36m1\u001b[0m\u001b[0;34m:\u001b[0m\u001b[0;34m]\u001b[0m\u001b[0;34m,\u001b[0m \u001b[0mcls\u001b[0m\u001b[0;34m.\u001b[0m\u001b[0mdirname\u001b[0m\u001b[0;34m)\u001b[0m\u001b[0;34m]\u001b[0m\u001b[0;34m\u001b[0m\u001b[0;34m\u001b[0m\u001b[0m\n\u001b[1;32m    143\u001b[0m         \u001b[0mcheck\u001b[0m \u001b[0;34m=\u001b[0m \u001b[0mos\u001b[0m\u001b[0;34m.\u001b[0m\u001b[0mpath\u001b[0m\u001b[0;34m.\u001b[0m\u001b[0mjoin\u001b[0m\u001b[0;34m(\u001b[0m\u001b[0mroot\u001b[0m\u001b[0;34m,\u001b[0m \u001b[0mcls\u001b[0m\u001b[0;34m.\u001b[0m\u001b[0mname\u001b[0m\u001b[0;34m,\u001b[0m \u001b[0mcls\u001b[0m\u001b[0;34m.\u001b[0m\u001b[0mdirname\u001b[0m\u001b[0;34m)\u001b[0m\u001b[0;34m\u001b[0m\u001b[0;34m\u001b[0m\u001b[0m\n\u001b[0;32m--> 144\u001b[0;31m         \u001b[0mpath\u001b[0m \u001b[0;34m=\u001b[0m \u001b[0mcls\u001b[0m\u001b[0;34m.\u001b[0m\u001b[0mdownload\u001b[0m\u001b[0;34m(\u001b[0m\u001b[0mroot\u001b[0m\u001b[0;34m,\u001b[0m \u001b[0mcheck\u001b[0m\u001b[0;34m=\u001b[0m\u001b[0mcheck\u001b[0m\u001b[0;34m)\u001b[0m\u001b[0;34m\u001b[0m\u001b[0;34m\u001b[0m\u001b[0m\n\u001b[0m\u001b[1;32m    145\u001b[0m \u001b[0;34m\u001b[0m\u001b[0m\n\u001b[1;32m    146\u001b[0m         \u001b[0mtrain\u001b[0m \u001b[0;34m=\u001b[0m \u001b[0;34m'.'\u001b[0m\u001b[0;34m.\u001b[0m\u001b[0mjoin\u001b[0m\u001b[0;34m(\u001b[0m\u001b[0;34m[\u001b[0m\u001b[0mtrain\u001b[0m\u001b[0;34m,\u001b[0m \u001b[0mcls\u001b[0m\u001b[0;34m.\u001b[0m\u001b[0mdirname\u001b[0m\u001b[0;34m]\u001b[0m\u001b[0;34m)\u001b[0m\u001b[0;34m\u001b[0m\u001b[0;34m\u001b[0m\u001b[0m\n",
      "\u001b[0;32m/opt/conda/lib/python3.8/site-packages/torchtext-0.8.0a0+0f911ec-py3.8-linux-x86_64.egg/torchtext/data/dataset.py\u001b[0m in \u001b[0;36mdownload\u001b[0;34m(cls, root, check)\u001b[0m\n\u001b[1;32m    189\u001b[0m                 \u001b[0;31m# tarfile cannot handle bare .gz files\u001b[0m\u001b[0;34m\u001b[0m\u001b[0;34m\u001b[0m\u001b[0;34m\u001b[0m\u001b[0m\n\u001b[1;32m    190\u001b[0m                 \u001b[0;32melif\u001b[0m \u001b[0mext\u001b[0m \u001b[0;34m==\u001b[0m \u001b[0;34m'.tgz'\u001b[0m \u001b[0;32mor\u001b[0m \u001b[0mext\u001b[0m \u001b[0;34m==\u001b[0m \u001b[0;34m'.gz'\u001b[0m \u001b[0;32mand\u001b[0m \u001b[0mext_inner\u001b[0m \u001b[0;34m==\u001b[0m \u001b[0;34m'.tar'\u001b[0m\u001b[0;34m:\u001b[0m\u001b[0;34m\u001b[0m\u001b[0;34m\u001b[0m\u001b[0m\n\u001b[0;32m--> 191\u001b[0;31m                     \u001b[0;32mwith\u001b[0m \u001b[0mtarfile\u001b[0m\u001b[0;34m.\u001b[0m\u001b[0mopen\u001b[0m\u001b[0;34m(\u001b[0m\u001b[0mzpath\u001b[0m\u001b[0;34m,\u001b[0m \u001b[0;34m'r:gz'\u001b[0m\u001b[0;34m)\u001b[0m \u001b[0;32mas\u001b[0m \u001b[0mtar\u001b[0m\u001b[0;34m:\u001b[0m\u001b[0;34m\u001b[0m\u001b[0;34m\u001b[0m\u001b[0m\n\u001b[0m\u001b[1;32m    192\u001b[0m                         \u001b[0mdirs\u001b[0m \u001b[0;34m=\u001b[0m \u001b[0;34m[\u001b[0m\u001b[0mmember\u001b[0m \u001b[0;32mfor\u001b[0m \u001b[0mmember\u001b[0m \u001b[0;32min\u001b[0m \u001b[0mtar\u001b[0m\u001b[0;34m.\u001b[0m\u001b[0mgetmembers\u001b[0m\u001b[0;34m(\u001b[0m\u001b[0;34m)\u001b[0m\u001b[0;34m]\u001b[0m\u001b[0;34m\u001b[0m\u001b[0;34m\u001b[0m\u001b[0m\n\u001b[1;32m    193\u001b[0m                         \u001b[0mtar\u001b[0m\u001b[0;34m.\u001b[0m\u001b[0mextractall\u001b[0m\u001b[0;34m(\u001b[0m\u001b[0mpath\u001b[0m\u001b[0;34m=\u001b[0m\u001b[0mpath\u001b[0m\u001b[0;34m,\u001b[0m \u001b[0mmembers\u001b[0m\u001b[0;34m=\u001b[0m\u001b[0mdirs\u001b[0m\u001b[0;34m)\u001b[0m\u001b[0;34m\u001b[0m\u001b[0;34m\u001b[0m\u001b[0m\n",
      "\u001b[0;32m/opt/conda/lib/python3.8/tarfile.py\u001b[0m in \u001b[0;36mopen\u001b[0;34m(cls, name, mode, fileobj, bufsize, **kwargs)\u001b[0m\n\u001b[1;32m   1619\u001b[0m             \u001b[0;32melse\u001b[0m\u001b[0;34m:\u001b[0m\u001b[0;34m\u001b[0m\u001b[0;34m\u001b[0m\u001b[0m\n\u001b[1;32m   1620\u001b[0m                 \u001b[0;32mraise\u001b[0m \u001b[0mCompressionError\u001b[0m\u001b[0;34m(\u001b[0m\u001b[0;34m\"unknown compression type %r\"\u001b[0m \u001b[0;34m%\u001b[0m \u001b[0mcomptype\u001b[0m\u001b[0;34m)\u001b[0m\u001b[0;34m\u001b[0m\u001b[0;34m\u001b[0m\u001b[0m\n\u001b[0;32m-> 1621\u001b[0;31m             \u001b[0;32mreturn\u001b[0m \u001b[0mfunc\u001b[0m\u001b[0;34m(\u001b[0m\u001b[0mname\u001b[0m\u001b[0;34m,\u001b[0m \u001b[0mfilemode\u001b[0m\u001b[0;34m,\u001b[0m \u001b[0mfileobj\u001b[0m\u001b[0;34m,\u001b[0m \u001b[0;34m**\u001b[0m\u001b[0mkwargs\u001b[0m\u001b[0;34m)\u001b[0m\u001b[0;34m\u001b[0m\u001b[0;34m\u001b[0m\u001b[0m\n\u001b[0m\u001b[1;32m   1622\u001b[0m \u001b[0;34m\u001b[0m\u001b[0m\n\u001b[1;32m   1623\u001b[0m         \u001b[0;32melif\u001b[0m \u001b[0;34m\"|\"\u001b[0m \u001b[0;32min\u001b[0m \u001b[0mmode\u001b[0m\u001b[0;34m:\u001b[0m\u001b[0;34m\u001b[0m\u001b[0;34m\u001b[0m\u001b[0m\n",
      "\u001b[0;32m/opt/conda/lib/python3.8/tarfile.py\u001b[0m in \u001b[0;36mgzopen\u001b[0;34m(cls, name, mode, fileobj, compresslevel, **kwargs)\u001b[0m\n\u001b[1;32m   1676\u001b[0m             \u001b[0mfileobj\u001b[0m\u001b[0;34m.\u001b[0m\u001b[0mclose\u001b[0m\u001b[0;34m(\u001b[0m\u001b[0;34m)\u001b[0m\u001b[0;34m\u001b[0m\u001b[0;34m\u001b[0m\u001b[0m\n\u001b[1;32m   1677\u001b[0m             \u001b[0;32mif\u001b[0m \u001b[0mmode\u001b[0m \u001b[0;34m==\u001b[0m \u001b[0;34m'r'\u001b[0m\u001b[0;34m:\u001b[0m\u001b[0;34m\u001b[0m\u001b[0;34m\u001b[0m\u001b[0m\n\u001b[0;32m-> 1678\u001b[0;31m                 \u001b[0;32mraise\u001b[0m \u001b[0mReadError\u001b[0m\u001b[0;34m(\u001b[0m\u001b[0;34m\"not a gzip file\"\u001b[0m\u001b[0;34m)\u001b[0m\u001b[0;34m\u001b[0m\u001b[0;34m\u001b[0m\u001b[0m\n\u001b[0m\u001b[1;32m   1679\u001b[0m             \u001b[0;32mraise\u001b[0m\u001b[0;34m\u001b[0m\u001b[0;34m\u001b[0m\u001b[0m\n\u001b[1;32m   1680\u001b[0m         \u001b[0;32mexcept\u001b[0m\u001b[0;34m:\u001b[0m\u001b[0;34m\u001b[0m\u001b[0;34m\u001b[0m\u001b[0m\n",
      "\u001b[0;31mReadError\u001b[0m: not a gzip file"
     ]
    }
   ],
   "source": [
    "# For data loading.\n",
    "from torchtext import data, datasets\n",
    "\n",
    "if True:\n",
    "    import spacy\n",
    "    print(spacy.__version__)\n",
    "    spacy_de = spacy.load('de_core_news_sm')\n",
    "    spacy_en = spacy.load('en_core_web_sm')\n",
    "\n",
    "    def tokenize_de(text):\n",
    "        return [tok.text for tok in spacy_de.tokenizer(text)]\n",
    "\n",
    "    def tokenize_en(text):\n",
    "        return [tok.text for tok in spacy_en.tokenizer(text)]\n",
    "    \n",
    "    print(spacy_de.__dict__)\n",
    "    print(spacy_en)\n",
    "    \n",
    "\n",
    "    BOS_WORD = '<s>'\n",
    "    EOS_WORD = '</s>'\n",
    "    BLANK_WORD = \"<blank>\"\n",
    "    SRC = data.Field(tokenize=tokenize_de, pad_token=BLANK_WORD)\n",
    "    TGT = data.Field(tokenize=tokenize_en, init_token = BOS_WORD, \n",
    "                     eos_token = EOS_WORD, pad_token=BLANK_WORD)\n",
    "    \n",
    "    print(SRC)\n",
    "    print(TGT)\n",
    "\n",
    "    MAX_LEN = 100\n",
    "    train, val, test = datasets.IWSLT.splits(\n",
    "        exts=('.de_core_news_sm', '.en_core_web_sm'), fields=(SRC, TGT), \n",
    "        filter_pred=lambda x: len(vars(x)['src']) <= MAX_LEN and \n",
    "            len(vars(x)['trg']) <= MAX_LEN)\n",
    "    MIN_FREQ = 2\n",
    "    SRC.build_vocab(train.src, min_freq=MIN_FREQ)\n",
    "    TGT.build_vocab(train.trg, min_freq=MIN_FREQ)"
   ]
  },
  {
   "cell_type": "code",
   "execution_count": 121,
   "id": "23630891",
   "metadata": {},
   "outputs": [
    {
     "data": {
      "text/plain": [
       "'0.8.0a0+0f911ec'"
      ]
     },
     "execution_count": 121,
     "metadata": {},
     "output_type": "execute_result"
    }
   ],
   "source": [
    "import torchtext\n",
    "torchtext.__version__"
   ]
  },
  {
   "cell_type": "code",
   "execution_count": null,
   "id": "def5678f",
   "metadata": {},
   "outputs": [],
   "source": [
    "class MyIterator(data.Iterator):\n",
    "    def create_batches(self):\n",
    "        if self.train:\n",
    "            def pool(d, random_shuffler):\n",
    "                for p in data.batch(d, self.batch_size * 100):\n",
    "                    p_batch = data.batch(\n",
    "                        sorted(p, key=self.sort_key),\n",
    "                        self.batch_size, self.batch_size_fn)\n",
    "                    for b in random_shuffler(list(p_batch)):\n",
    "                        yield b\n",
    "            self.batches = pool(self.data(), self.random_shuffler)\n",
    "            \n",
    "        else:\n",
    "            self.batches = []\n",
    "            for b in data.batch(self.data(), self.batch_size,\n",
    "                                          self.batch_size_fn):\n",
    "                self.batches.append(sorted(b, key=self.sort_key))\n",
    "\n",
    "def rebatch(pad_idx, batch):\n",
    "    \"Fix order in torchtext to match ours\"\n",
    "    src, trg = batch.src.transpose(0, 1), batch.trg.transpose(0, 1)\n",
    "    return Batch(src, trg, pad_idx)"
   ]
  },
  {
   "cell_type": "code",
   "execution_count": null,
   "id": "87e6fccc",
   "metadata": {},
   "outputs": [],
   "source": [
    "class MultiGPULossCompute:\n",
    "    \"A multi-gpu loss compute and train function.\"\n",
    "    def __init__(self, generator, criterion, devices, opt=None, chunk_size=5):\n",
    "        # Send out to different gpus.\n",
    "        self.generator = generator\n",
    "        self.criterion = nn.parallel.replicate(criterion, \n",
    "                                               devices=devices)\n",
    "        self.opt = opt\n",
    "        self.devices = devices\n",
    "        self.chunk_size = chunk_size\n",
    "        \n",
    "    def __call__(self, out, targets, normalize):\n",
    "        total = 0.0\n",
    "        generator = nn.parallel.replicate(self.generator, \n",
    "                                                devices=self.devices)\n",
    "        out_scatter = nn.parallel.scatter(out, \n",
    "                                          target_gpus=self.devices)\n",
    "        out_grad = [[] for _ in out_scatter]\n",
    "        targets = nn.parallel.scatter(targets, \n",
    "                                      target_gpus=self.devices)\n",
    "\n",
    "        # Divide generating into chunks.\n",
    "        chunk_size = self.chunk_size\n",
    "        for i in range(0, out_scatter[0].size(1), chunk_size):\n",
    "            # Predict distributions\n",
    "            out_column = [[Variable(o[:, i:i+chunk_size].data, \n",
    "                                    requires_grad=self.opt is not None)] \n",
    "                           for o in out_scatter]\n",
    "            gen = nn.parallel.parallel_apply(generator, out_column)\n",
    "\n",
    "            # Compute loss. \n",
    "            y = [(g.contiguous().view(-1, g.size(-1)), \n",
    "                  t[:, i:i+chunk_size].contiguous().view(-1)) \n",
    "                 for g, t in zip(gen, targets)]\n",
    "            loss = nn.parallel.parallel_apply(self.criterion, y)\n",
    "\n",
    "            # Sum and normalize loss\n",
    "            l = nn.parallel.gather(loss, \n",
    "                                   target_device=self.devices[0])\n",
    "            l = l.sum()[0] / normalize\n",
    "            total += l.data[0]\n",
    "\n",
    "            # Backprop loss to output of transformer\n",
    "            if self.opt is not None:\n",
    "                l.backward()\n",
    "                for j, l in enumerate(loss):\n",
    "                    out_grad[j].append(out_column[j][0].grad.data.clone())\n",
    "\n",
    "        # Backprop all loss through transformer.            \n",
    "        if self.opt is not None:\n",
    "            out_grad = [Variable(torch.cat(og, dim=1)) for og in out_grad]\n",
    "            o1 = out\n",
    "            o2 = nn.parallel.gather(out_grad, \n",
    "                                    target_device=self.devices[0])\n",
    "            o1.backward(gradient=o2)\n",
    "            self.opt.step()\n",
    "            self.opt.optimizer.zero_grad()\n",
    "        return total * normalize"
   ]
  },
  {
   "cell_type": "code",
   "execution_count": null,
   "id": "1610ae5b",
   "metadata": {},
   "outputs": [],
   "source": [
    "devices = [0]\n",
    "if True:\n",
    "    pad_idx = TGT.vocab.stoi[\"<blank>\"]\n",
    "    model = make_model(len(SRC.vocab), len(TGT.vocab), N=6)\n",
    "    model.cuda()\n",
    "    criterion = LabelSmoothing(size=len(TGT.vocab), padding_idx=pad_idx, smoothing=0.1)\n",
    "    criterion.cuda()\n",
    "    BATCH_SIZE = 12000\n",
    "    train_iter = MyIterator(train, batch_size=BATCH_SIZE, device=0,\n",
    "                            repeat=False, sort_key=lambda x: (len(x.src), len(x.trg)),\n",
    "                            batch_size_fn=batch_size_fn, train=True)\n",
    "    valid_iter = MyIterator(val, batch_size=BATCH_SIZE, device=0,\n",
    "                            repeat=False, sort_key=lambda x: (len(x.src), len(x.trg)),\n",
    "                            batch_size_fn=batch_size_fn, train=False)\n",
    "    model_par = nn.DataParallel(model, device_ids=devices)\n",
    "None"
   ]
  },
  {
   "cell_type": "code",
   "execution_count": null,
   "id": "2b7ad132",
   "metadata": {},
   "outputs": [],
   "source": [
    "if False:\n",
    "    model_opt = NoamOpt(model.src_embed[0].d_model, 1, 2000,\n",
    "            torch.optim.Adam(model.parameters(), lr=0, betas=(0.9, 0.98), eps=1e-9))\n",
    "    for epoch in range(10):\n",
    "        model_par.train()\n",
    "        run_epoch((rebatch(pad_idx, b) for b in train_iter), \n",
    "                  model_par, \n",
    "                  MultiGPULossCompute(model.generator, criterion, \n",
    "                                      devices=devices, opt=model_opt))\n",
    "        model_par.eval()\n",
    "        loss = run_epoch((rebatch(pad_idx, b) for b in valid_iter), \n",
    "                          model_par, \n",
    "                          MultiGPULossCompute(model.generator, criterion, \n",
    "                          devices=devices, opt=None))\n",
    "        print(loss)\n",
    "else:\n",
    "    model = torch.load(\"iwslt.pt\")"
   ]
  },
  {
   "cell_type": "code",
   "execution_count": null,
   "id": "805c76a9",
   "metadata": {},
   "outputs": [],
   "source": [
    "for i, batch in enumerate(valid_iter):\n",
    "    src = batch.src.transpose(0, 1)[:1]\n",
    "    src_mask = (src != SRC.vocab.stoi[\"<blank>\"]).unsqueeze(-2)\n",
    "    out = greedy_decode(model, src, src_mask, \n",
    "                        max_len=60, start_symbol=TGT.vocab.stoi[\"<s>\"])\n",
    "    print(\"Translation:\", end=\"\\t\")\n",
    "    for i in range(1, out.size(1)):\n",
    "        sym = TGT.vocab.itos[out[0, i]]\n",
    "        if sym == \"</s>\": break\n",
    "        print(sym, end =\" \")\n",
    "    print()\n",
    "    print(\"Target:\", end=\"\\t\")\n",
    "    for i in range(1, batch.trg.size(0)):\n",
    "        sym = TGT.vocab.itos[batch.trg.data[i, 0]]\n",
    "        if sym == \"</s>\": break\n",
    "        print(sym, end =\" \")\n",
    "    print()\n",
    "    break"
   ]
  },
  {
   "cell_type": "code",
   "execution_count": null,
   "id": "eb28eefc",
   "metadata": {},
   "outputs": [],
   "source": []
  }
 ],
 "metadata": {
  "kernelspec": {
   "display_name": "Python 3",
   "language": "python",
   "name": "python3"
  },
  "language_info": {
   "codemirror_mode": {
    "name": "ipython",
    "version": 3
   },
   "file_extension": ".py",
   "mimetype": "text/x-python",
   "name": "python",
   "nbconvert_exporter": "python",
   "pygments_lexer": "ipython3",
   "version": "3.8.10"
  }
 },
 "nbformat": 4,
 "nbformat_minor": 5
}
