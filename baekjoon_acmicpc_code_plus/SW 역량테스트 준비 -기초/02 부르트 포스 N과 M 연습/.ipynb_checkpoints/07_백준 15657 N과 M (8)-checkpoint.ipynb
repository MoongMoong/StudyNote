{
 "cells": [
  {
   "cell_type": "markdown",
   "id": "76abf4f0",
   "metadata": {},
   "source": [
    "### 문제\n",
    "N개의 자연수와 자연수 M이 주어졌을 때, 아래 조건을 만족하는 길이가 M인 수열을 모두 구하는 프로그램을 작성하시오. N개의 자연수는 모두 다른 수이다.\n",
    "\n",
    "N개의 자연수 중에서 M개를 고른 수열\n",
    "\n",
    "같은 수를 여러 번 골라도 된다.\n",
    "\n",
    "고른 수열은 비내림차순이어야 한다.\n",
    "\n",
    "길이가 K인 수열 A가 A1 ≤ A2 ≤ ... ≤ AK-1 ≤ AK를 만족하면, 비내림차순이라고 한다.\n",
    "### 입력\n",
    "첫째 줄에 N과 M이 주어진다. (1 ≤ M ≤ N ≤ 8)\n",
    "\n",
    "둘째 줄에 N개의 수가 주어진다. 입력으로 주어지는 수는 10,000보다 작거나 같은 자연수이다.\n",
    "\n",
    "### 출력\n",
    "한 줄에 하나씩 문제의 조건을 만족하는 수열을 출력한다. 중복되는 수열을 여러 번 출력하면 안되며, 각 수열은 공백으로 구분해서 출력해야 한다.\n",
    "\n",
    "수열은 사전 순으로 증가하는 순서로 출력해야 한다."
   ]
  },
  {
   "cell_type": "code",
   "execution_count": 1,
   "id": "01cafe54",
   "metadata": {},
   "outputs": [
    {
     "name": "stdout",
     "output_type": "stream",
     "text": [
      "4 2\n",
      "9 8 7 1\n",
      "1 1\n",
      "7 1\n",
      "7 7\n",
      "8 1\n",
      "8 7\n",
      "8 8\n",
      "9 1\n",
      "9 7\n",
      "9 8\n",
      "9 9\n"
     ]
    }
   ],
   "source": [
    "N, M = list(map(int, input().split()))\n",
    "from itertools import combinations_with_replacement\n",
    "arr= list(map(int, input().split()))\n",
    "ans = sorted([sorted(list(x)) for x in combinations_with_replacement(arr, M)])\n",
    "for an in ans:\n",
    "    print(*an, sep=' ')"
   ]
  },
  {
   "cell_type": "code",
   "execution_count": null,
   "id": "ef11a760",
   "metadata": {},
   "outputs": [],
   "source": []
  }
 ],
 "metadata": {
  "kernelspec": {
   "display_name": "Python 3",
   "language": "python",
   "name": "python3"
  },
  "language_info": {
   "codemirror_mode": {
    "name": "ipython",
    "version": 3
   },
   "file_extension": ".py",
   "mimetype": "text/x-python",
   "name": "python",
   "nbconvert_exporter": "python",
   "pygments_lexer": "ipython3",
   "version": "3.8.10"
  }
 },
 "nbformat": 4,
 "nbformat_minor": 5
}
