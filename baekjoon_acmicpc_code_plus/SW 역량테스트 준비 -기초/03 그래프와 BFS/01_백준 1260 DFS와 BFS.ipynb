{
 "cells": [
  {
   "cell_type": "markdown",
   "id": "2de92b5e",
   "metadata": {},
   "source": [
    "### 문제\n",
    "그래프를 DFS로 탐색한 결과와 BFS로 탐색한 결과를 출력하는 프로그램을 작성하시오. 단, 방문할 수 있는 정점이 여러 개인 경우에는 정점 번호가 작은 것을 먼저 방문하고, 더 이상 방문할 수 있는 점이 없는 경우 종료한다. 정점 번호는 1번부터 N번까지이다.\n",
    "\n",
    "### 입력\n",
    "첫째 줄에 정점의 개수 N(1 ≤ N ≤ 1,000), 간선의 개수 M(1 ≤ M ≤ 10,000), 탐색을 시작할 정점의 번호 V가 주어진다. 다음 M개의 줄에는 간선이 연결하는 두 정점의 번호가 주어진다. 어떤 두 정점 사이에 여러 개의 간선이 있을 수 있다. 입력으로 주어지는 간선은 양방향이다.\n",
    "\n",
    "### 출력\n",
    "첫째 줄에 DFS를 수행한 결과를, 그 다음 줄에는 BFS를 수행한 결과를 출력한다. V부터 방문된 점을 순서대로 출력하면 된다."
   ]
  },
  {
   "cell_type": "code",
   "execution_count": 7,
   "id": "d6a7d203",
   "metadata": {},
   "outputs": [
    {
     "name": "stdout",
     "output_type": "stream",
     "text": [
      "4 5 1\n",
      "1 2\n",
      "1 3\n",
      "1 4\n",
      "2 4\n",
      "3 4\n",
      "1 2 4 3\n",
      "1 2 3 4\n"
     ]
    }
   ],
   "source": [
    "n, m, v = map(int, input().split())\n",
    "graph = [[False] * (n + 1) for _ in range(n + 1)] \n",
    "\n",
    "for _ in range(m):\n",
    "    a, b = map(int, input().split())\n",
    "    graph[a][b] = graph[b][a] = True\n",
    "    \n",
    "\n",
    "visit_bfs = [False] * (n + 1)\n",
    "visit_dfs = [False] * (n + 1)\n",
    "\n",
    "from collections import deque\n",
    "\n",
    "ans_bfs = []\n",
    "def bfs(v):\n",
    "    '''\n",
    "    시작점이 v인 bfs\n",
    "    bfs는 deque를 쓰고, 현 위치에서 갈 수 있는걸(not in visit) 다 queue에 넣고 pop left를 하면서 계속하면됨\n",
    "    '''\n",
    "    q = deque()\n",
    "    q.append(v)\n",
    "    visit_bfs[v] = True\n",
    "    while q:\n",
    "        v = q.popleft()\n",
    "        ans_bfs.append(v)\n",
    "        for i in range(1, n+1):\n",
    "            if not visit_bfs[i] and graph[v][i] :\n",
    "                q.append(i)\n",
    "                visit_bfs[i] = True\n",
    "    \n",
    "ans_dfs = []\n",
    "def dfs(v):\n",
    "    '''\n",
    "    dfs는 일단 재귀함수라 생각하면 매우매우 마음이 편함\n",
    "    '''\n",
    "    visit_dfs[v] = True\n",
    "    ans_dfs.append(v)\n",
    "    for i in range(1, n+1):\n",
    "        if not visit_dfs[i] and graph[v][i]:\n",
    "            dfs(i)\n",
    "            \n",
    "dfs(v)\n",
    "bfs(v)\n",
    "print(*ans_dfs, sep=' ')\n",
    "print(*ans_bfs, sep=' ')\n",
    "    \n",
    "    "
   ]
  },
  {
   "cell_type": "code",
   "execution_count": null,
   "id": "07a67f5c",
   "metadata": {},
   "outputs": [],
   "source": []
  }
 ],
 "metadata": {
  "kernelspec": {
   "display_name": "Python 3",
   "language": "python",
   "name": "python3"
  },
  "language_info": {
   "codemirror_mode": {
    "name": "ipython",
    "version": 3
   },
   "file_extension": ".py",
   "mimetype": "text/x-python",
   "name": "python",
   "nbconvert_exporter": "python",
   "pygments_lexer": "ipython3",
   "version": "3.8.10"
  }
 },
 "nbformat": 4,
 "nbformat_minor": 5
}
