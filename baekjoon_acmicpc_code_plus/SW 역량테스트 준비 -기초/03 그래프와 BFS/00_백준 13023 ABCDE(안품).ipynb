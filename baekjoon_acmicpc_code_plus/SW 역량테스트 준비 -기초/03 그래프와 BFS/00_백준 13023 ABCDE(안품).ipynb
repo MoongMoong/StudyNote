{
 "cells": [
  {
   "cell_type": "markdown",
   "id": "a254f615",
   "metadata": {},
   "source": [
    "### 문제\n",
    "BOJ 알고리즘 캠프에는 총 N명이 참가하고 있다. 사람들은 0번부터 N-1번으로 번호가 매겨져 있고, 일부 사람들은 친구이다.\n",
    "\n",
    "오늘은 다음과 같은 친구 관계를 가진 사람 A, B, C, D, E가 존재하는지 구해보려고 한다.\n",
    "```\n",
    "A는 B와 친구다.\n",
    "B는 C와 친구다.\n",
    "C는 D와 친구다.\n",
    "D는 E와 친구다.\n",
    "```\n",
    "위와 같은 친구 관계가 존재하는지 안하는지 구하는 프로그램을 작성하시오.\n",
    "\n",
    "### 입력\n",
    "첫째 줄에 사람의 수 N (5 ≤ N ≤ 2000)과 친구 관계의 수 M (1 ≤ M ≤ 2000)이 주어진다.\n",
    "\n",
    "둘째 줄부터 M개의 줄에는 정수 a와 b가 주어지며, a와 b가 친구라는 뜻이다. (0 ≤ a, b ≤ N-1, a ≠ b) 같은 친구 관계가 두 번 이상 주어지는 경우는 없다.\n",
    "\n",
    "### 출력\n",
    "문제의 조건에 맞는 A, B, C, D, E가 존재하면 1을 없으면 0을 출력한다."
   ]
  },
  {
   "cell_type": "code",
   "execution_count": 6,
   "id": "533f42e4",
   "metadata": {},
   "outputs": [
    {
     "name": "stdout",
     "output_type": "stream",
     "text": [
      "{1, 2}\n",
      "{2}\n"
     ]
    }
   ],
   "source": [
    "a =set([1])\n",
    "b = set([2])\n",
    "a.update(b)\n",
    "print(a)\n",
    "print(b)"
   ]
  },
  {
   "cell_type": "code",
   "execution_count": 8,
   "id": "04514bd8",
   "metadata": {},
   "outputs": [
    {
     "name": "stdout",
     "output_type": "stream",
     "text": [
      "5 5\n",
      "0 1\n",
      "1 2\n",
      "2 3\n",
      "3 0\n",
      "1 4\n",
      "1\n",
      "1\n",
      "1\n",
      "1\n",
      "0\n"
     ]
    }
   ],
   "source": [
    "import sys\n",
    "\n",
    "n, m = map(int, input().split())\n",
    "arr = [[] for i in range(n)]\n",
    "visited = [False] * n\n",
    "\n",
    "# 그래프를 인접 리스트 방식으로 표현하였습니다.\n",
    "for _ in range(m):\n",
    "    a, b = map(int, input().split())\n",
    "    arr[a].append(b)\n",
    "    arr[b].append(a)\n",
    "\n",
    "\n",
    "def dfs(idx, number):\n",
    "    if number == 4:\n",
    "        print(1)\n",
    "        exit()\n",
    "    for i in arr[idx]:\n",
    "        if not visited[i]:\n",
    "            visited[i] = True\n",
    "            dfs(i, number + 1)\n",
    "            visited[i] = False\n",
    "\n",
    "# 노드를 순서대로 방문하며 dfs를 수행합니다.\n",
    "for i in range(n):\n",
    "    visited[i] = True\n",
    "    dfs(i, 0)\n",
    "    visited[i] = False\n",
    "\n",
    "print(0)"
   ]
  },
  {
   "cell_type": "code",
   "execution_count": null,
   "id": "bf77913f",
   "metadata": {},
   "outputs": [],
   "source": []
  }
 ],
 "metadata": {
  "kernelspec": {
   "display_name": "Python 3",
   "language": "python",
   "name": "python3"
  },
  "language_info": {
   "codemirror_mode": {
    "name": "ipython",
    "version": 3
   },
   "file_extension": ".py",
   "mimetype": "text/x-python",
   "name": "python",
   "nbconvert_exporter": "python",
   "pygments_lexer": "ipython3",
   "version": "3.8.10"
  }
 },
 "nbformat": 4,
 "nbformat_minor": 5
}
