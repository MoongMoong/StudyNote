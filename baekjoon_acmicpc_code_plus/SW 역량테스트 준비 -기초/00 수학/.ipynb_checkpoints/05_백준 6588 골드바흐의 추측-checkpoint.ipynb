{
 "cells": [
  {
   "cell_type": "markdown",
   "id": "c553289c",
   "metadata": {},
   "source": [
    "### 문제\n",
    "1742년, 독일의 아마추어 수학가 크리스티안 골드바흐는 레온하르트 오일러에게 다음과 같은 추측을 제안하는 편지를 보냈다.\n",
    "\n",
    "4보다 큰 모든 짝수는 두 홀수 소수의 합으로 나타낼 수 있다.\n",
    "예를 들어 8은 3 + 5로 나타낼 수 있고, 3과 5는 모두 홀수인 소수이다. 또, 20 = 3 + 17 = 7 + 13, 42 = 5 + 37 = 11 + 31 = 13 + 29 = 19 + 23 이다.\n",
    "\n",
    "이 추측은 아직도 해결되지 않은 문제이다.\n",
    "\n",
    "백만 이하의 모든 짝수에 대해서, 이 추측을 검증하는 프로그램을 작성하시오.\n",
    "\n",
    "### 입력\n",
    "입력은 하나 또는 그 이상의 테스트 케이스로 이루어져 있다. 테스트 케이스의 개수는 100,000개를 넘지 않는다.\n",
    "\n",
    "각 테스트 케이스는 짝수 정수 n 하나로 이루어져 있다. (6 ≤ n ≤ 1000000)\n",
    "\n",
    "입력의 마지막 줄에는 0이 하나 주어진다.\n",
    "\n",
    "### 출력\n",
    "각 테스트 케이스에 대해서, n = a + b 형태로 출력한다. 이때, a와 b는 홀수 소수이다. 숫자와 연산자는 공백 하나로 구분되어져 있다. 만약, n을 만들 수 있는 방법이 여러 가지라면, b-a가 가장 큰 것을 출력한다. 또, 두 홀수 소수의 합으로 n을 나타낼 수 없는 경우에는 \"Goldbach's conjecture is wrong.\"을 출력한다.\n",
    "\n",
    "### 예제 입력 1 \n",
    "```\n",
    "8\n",
    "20\n",
    "42\n",
    "0\n",
    "```\n",
    "### 예제 출력 1 \n",
    "```\n",
    "8 = 3 + 5\n",
    "20 = 3 + 17\n",
    "42 = 5 + 37\n",
    "```"
   ]
  },
  {
   "cell_type": "code",
   "execution_count": 28,
   "id": "d73d2b82",
   "metadata": {},
   "outputs": [
    {
     "name": "stdout",
     "output_type": "stream",
     "text": [
      "42\n",
      "20\n",
      "8\n",
      "0\n",
      "42 = 5 + 37\n",
      "20 = 3 + 17\n",
      "8 = 3 + 5\n"
     ]
    }
   ],
   "source": [
    "\n",
    "def MakePrimTable(x):\n",
    "    table = [True for _ in range(x)]\n",
    "    table[0] = False\n",
    "    table[1] = False\n",
    "    for i in range(2, int(x**0.5) + 1):\n",
    "        if table[i] == True:\n",
    "            for j in range(i*2, x, i):\n",
    "                if table[j] == True:\n",
    "                    table[j] = False\n",
    "    \n",
    "    dic = dict()\n",
    "    for key, val in enumerate(table):\n",
    "        if val:\n",
    "            dic[key] = val\n",
    "    \n",
    "    return dic\n",
    "    \n",
    "\n",
    "\n",
    "def gold(x):\n",
    "    assert 1000000 >= x >= 6\n",
    "    \n",
    "    assert x % 2 == 0\n",
    "    \n",
    "    token = True\n",
    "    for k in table:\n",
    "        if x - k < k:\n",
    "            break\n",
    "        if table.get(x - k, False):\n",
    "            print(f\"{x} = {k} + {x-k}\")\n",
    "            token = False\n",
    "            break\n",
    "    if token: print(\"Goldbach's conjecture is wrong.\")\n",
    "        \n",
    "\n",
    "temp = []\n",
    "\n",
    "for _ in range(100000):\n",
    "    x = int(input())\n",
    "    if x == 0:\n",
    "        break\n",
    "    temp.append(x)\n",
    "    \n",
    "table = MakePrimTable(max(temp))\n",
    "for x in temp:\n",
    "    gold(x)\n",
    "    "
   ]
  },
  {
   "cell_type": "code",
   "execution_count": null,
   "id": "465ba465",
   "metadata": {},
   "outputs": [],
   "source": []
  }
 ],
 "metadata": {
  "kernelspec": {
   "display_name": "Python 3",
   "language": "python",
   "name": "python3"
  },
  "language_info": {
   "codemirror_mode": {
    "name": "ipython",
    "version": 3
   },
   "file_extension": ".py",
   "mimetype": "text/x-python",
   "name": "python",
   "nbconvert_exporter": "python",
   "pygments_lexer": "ipython3",
   "version": "3.8.10"
  }
 },
 "nbformat": 4,
 "nbformat_minor": 5
}
