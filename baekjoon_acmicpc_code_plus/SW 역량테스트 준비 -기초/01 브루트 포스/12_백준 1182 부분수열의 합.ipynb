{
 "cells": [
  {
   "cell_type": "markdown",
   "id": "cab52a21",
   "metadata": {},
   "source": [
    "###  문제\n",
    "N개의 정수로 이루어진 수열이 있을 때, 크기가 양수인 부분수열 중에서 그 수열의 원소를 다 더한 값이 S가 되는 경우의 수를 구하는 프로그램을 작성하시오.\n",
    "\n",
    "###  입력\n",
    "첫째 줄에 정수의 개수를 나타내는 N과 정수 S가 주어진다. (1 ≤ N ≤ 20, |S| ≤ 1,000,000) 둘째 줄에 N개의 정수가 빈 칸을 사이에 두고 주어진다. 주어지는 정수의 절댓값은 100,000을 넘지 않는다.\n",
    "\n",
    "### 출력\n",
    "첫째 줄에 합이 S가 되는 부분수열의 개수를 출력한다."
   ]
  },
  {
   "cell_type": "code",
   "execution_count": 2,
   "id": "5c29796e",
   "metadata": {},
   "outputs": [
    {
     "name": "stdout",
     "output_type": "stream",
     "text": [
      "5 0\n",
      "-7 -3 -2 5 8\n",
      "1\n"
     ]
    }
   ],
   "source": [
    "N, S =list(map(int, input().split()))\n",
    "arr =list(map(int, input().split()))\n",
    "\n",
    "diff = [0 for _ in range(N+1)]\n",
    "for i in range(1,N+1):\n",
    "    diff[i] = diff[i-1] + arr[i-1]\n",
    "\n",
    "ans = 0\n",
    "\n",
    "for i in range(1,N+1):\n",
    "    for j in range(i):\n",
    "        if diff[i] - diff[j] == S: ans+=1\n",
    "            \n",
    "print(ans)"
   ]
  },
  {
   "cell_type": "markdown",
   "id": "d4e8613f",
   "metadata": {},
   "source": [
    "### 연속적인 부분 slice인줄알았는데 아니었다..\n",
    "문제좀 자세히적어주지"
   ]
  },
  {
   "cell_type": "code",
   "execution_count": 2,
   "id": "91e3d3fa",
   "metadata": {},
   "outputs": [
    {
     "name": "stdout",
     "output_type": "stream",
     "text": [
      "5 0\n",
      "-7 -3 -2 5 8\n",
      "[-3, -2, 5]\n",
      "1\n"
     ]
    }
   ],
   "source": [
    "N, S =list(map(int, input().split()))\n",
    "arr =list(map(int, input().split()))\n",
    "\n",
    "ans = 0\n",
    "chunk = []\n",
    "\n",
    "def dfs(idx, total):\n",
    "    global ans\n",
    "    \n",
    "    if idx == N - 1:\n",
    "        if total == S and chunk:\n",
    "            ans += 1\n",
    "        return\n",
    "    chunk.append(arr[idx+1])\n",
    "    dfs(idx+1, total +arr[idx+1])\n",
    "    chunk.pop()\n",
    "    dfs(idx+1, total)\n",
    "    \n",
    "    \n",
    "def solution():\n",
    "    dfs(-1, 0)\n",
    "    \n",
    "solution()\n",
    "print(ans)"
   ]
  },
  {
   "cell_type": "code",
   "execution_count": null,
   "id": "18bd7b44",
   "metadata": {},
   "outputs": [],
   "source": []
  }
 ],
 "metadata": {
  "kernelspec": {
   "display_name": "Python 3",
   "language": "python",
   "name": "python3"
  },
  "language_info": {
   "codemirror_mode": {
    "name": "ipython",
    "version": 3
   },
   "file_extension": ".py",
   "mimetype": "text/x-python",
   "name": "python",
   "nbconvert_exporter": "python",
   "pygments_lexer": "ipython3",
   "version": "3.8.10"
  }
 },
 "nbformat": 4,
 "nbformat_minor": 5
}
