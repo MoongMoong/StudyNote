{
 "cells": [
  {
   "cell_type": "markdown",
   "id": "f9e944a7",
   "metadata": {},
   "source": [
    "### 문제\n",
    "N개의 정수로 이루어진 배열 A가 주어진다. 이때, 배열에 들어있는 정수의 순서를 적절히 바꿔서 다음 식의 최댓값을 구하는 프로그램을 작성하시오.\n",
    "\n",
    ">|A[0] - A[1]| + |A[1] - A[2]| + ... + |A[N-2] - A[N-1]|\n",
    "\n",
    "### 입력\n",
    "첫째 줄에 N (3 ≤ N ≤ 8)이 주어진다. 둘째 줄에는 배열 A에 들어있는 정수가 주어진다. 배열에 들어있는 정수는 -100보다 크거나 같고, 100보다 작거나 같다.\n",
    "\n",
    "### 출력\n",
    "첫째 줄에 배열에 들어있는 수의 순서를 적절히 바꿔서 얻을 수 있는 식의 최댓값을 출력한다."
   ]
  },
  {
   "cell_type": "code",
   "execution_count": 8,
   "id": "de1eff68",
   "metadata": {},
   "outputs": [
    {
     "name": "stdout",
     "output_type": "stream",
     "text": [
      "6\n",
      "20 1 15 8 4 10\n",
      "62\n"
     ]
    }
   ],
   "source": [
    "from itertools import permutations\n",
    "\n",
    "N = int(input())\n",
    "arr = list(map(int, input().split()))\n",
    "INF = int(1e9)\n",
    "\n",
    "def get_abs(arr):\n",
    "    ans = 0\n",
    "    for i in range(len(arr) - 1):\n",
    "        ans += abs(arr[i] - arr[i+1])\n",
    "    return ans\n",
    "\n",
    "def ans(N, arr):\n",
    "    ans = -INF\n",
    "    for per in permutations(arr, len(arr)):\n",
    "        ans = max(ans, get_abs(per))\n",
    "    return ans\n",
    "        \n",
    "print(ans(N, arr))\n"
   ]
  },
  {
   "cell_type": "markdown",
   "id": "f7306442",
   "metadata": {},
   "source": [
    "### 완전탐색을 하긴 했지만 솔직히 bfs with dp가 훨 빠를거같다.\n",
    "- 조건에서 개수가 작아서 충분하긴 했지만, 그래도 조금 더 빨라졌다."
   ]
  },
  {
   "cell_type": "code",
   "execution_count": 13,
   "id": "58fcc85c",
   "metadata": {},
   "outputs": [
    {
     "name": "stdout",
     "output_type": "stream",
     "text": [
      "6\n",
      "20 1 15 8 4 10\n",
      "62\n"
     ]
    }
   ],
   "source": [
    "N = int(input())\n",
    "arr = list(map(int, input().split()))\n",
    "INF = int(1e9)\n",
    "\n",
    "from collections import deque\n",
    "\n",
    "\n",
    "def get_abs(arr):\n",
    "    ans = 0\n",
    "    for i in range(len(arr) - 1):\n",
    "        ans += abs(arr[i] - arr[i+1])\n",
    "    return ans\n",
    "\n",
    "\n",
    "def ans(N, arr):\n",
    "    result = -1\n",
    "    dic = dict() # 재료 중 가장 우월한값만 저장, (맨마지막, 재료들) 요거가 키값\n",
    "    queue = deque([])\n",
    "    for ar in arr:\n",
    "        val = 0\n",
    "        last = ar\n",
    "        srcs = [ar]\n",
    "        lst = [ar]\n",
    "        key = tuple([last] + srcs)\n",
    "        if key not in dic or dic[key] < val:\n",
    "            dic[key] = val\n",
    "        queue.append([val, last, srcs, lst])\n",
    "        \n",
    "    while queue:\n",
    "        val, last, srcs, lst = queue.popleft()\n",
    "        if len(srcs) == N:\n",
    "            result = max(result, val)\n",
    "        key = tuple([last] + srcs)\n",
    "        \n",
    "        if dic[key] > val:\n",
    "            continue\n",
    "        \n",
    "        nlasts = [x for x in arr]\n",
    "        for x in srcs:\n",
    "            nlasts.remove(x)\n",
    "        for nlast in nlasts:\n",
    "            nlst = lst + [nlast]\n",
    "            nsrcs = sorted(nlst)\n",
    "            nval = get_abs(nlst)\n",
    "            nkey = tuple([nlast] + nsrcs)\n",
    "            \n",
    "            if nkey not in dic or dic[nkey] < nval:\n",
    "                dic[nkey] = nval\n",
    "                queue.append([nval, nlast, nsrcs, nlst])\n",
    "                \n",
    "    return result\n",
    "\n",
    "            \n",
    "print(ans(N, arr))\n",
    "    "
   ]
  },
  {
   "cell_type": "code",
   "execution_count": null,
   "id": "9c4158a9",
   "metadata": {},
   "outputs": [],
   "source": []
  }
 ],
 "metadata": {
  "kernelspec": {
   "display_name": "Python 3",
   "language": "python",
   "name": "python3"
  },
  "language_info": {
   "codemirror_mode": {
    "name": "ipython",
    "version": 3
   },
   "file_extension": ".py",
   "mimetype": "text/x-python",
   "name": "python",
   "nbconvert_exporter": "python",
   "pygments_lexer": "ipython3",
   "version": "3.8.10"
  }
 },
 "nbformat": 4,
 "nbformat_minor": 5
}
