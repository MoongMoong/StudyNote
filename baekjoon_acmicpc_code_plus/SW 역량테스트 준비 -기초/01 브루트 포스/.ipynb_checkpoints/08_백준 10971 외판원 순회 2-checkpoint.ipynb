{
 "cells": [
  {
   "cell_type": "markdown",
   "id": "a6953c5d",
   "metadata": {},
   "source": [
    "### 문제\n",
    "외판원 순회 문제는 영어로 Traveling Salesman problem (TSP) 라고 불리는 문제로 computer science 분야에서 가장 중요하게 취급되는 문제 중 하나이다. 여러 가지 변종 문제가 있으나, 여기서는 가장 일반적인 형태의 문제를 살펴보자.\n",
    "\n",
    "1번부터 N번까지 번호가 매겨져 있는 도시들이 있고, 도시들 사이에는 길이 있다. (길이 없을 수도 있다) 이제 한 외판원이 어느 한 도시에서 출발해 N개의 도시를 모두 거쳐 다시 원래의 도시로 돌아오는 순회 여행 경로를 계획하려고 한다. 단, 한 번 갔던 도시로는 다시 갈 수 없다. (맨 마지막에 여행을 출발했던 도시로 돌아오는 것은 예외) 이런 여행 경로는 여러 가지가 있을 수 있는데, 가장 적은 비용을 들이는 여행 계획을 세우고자 한다.\n",
    "\n",
    "각 도시간에 이동하는데 드는 비용은 행렬 W[i][j]형태로 주어진다. W[i][j]는 도시 i에서 도시 j로 가기 위한 비용을 나타낸다. 비용은 대칭적이지 않다. 즉, W[i][j] 는 W[j][i]와 다를 수 있다. 모든 도시간의 비용은 양의 정수이다. W[i][i]는 항상 0이다. 경우에 따라서 도시 i에서 도시 j로 갈 수 없는 경우도 있으며 이럴 경우 W[i][j]=0이라고 하자.\n",
    "\n",
    "N과 비용 행렬이 주어졌을 때, 가장 적은 비용을 들이는 외판원의 순회 여행 경로를 구하는 프로그램을 작성하시오.\n",
    "\n",
    "### 입력\n",
    "첫째 줄에 도시의 수 N이 주어진다. (2 ≤ N ≤ 10) 다음 N개의 줄에는 비용 행렬이 주어진다. 각 행렬의 성분은 1,000,000 이하의 양의 정수이며, 갈 수 없는 경우는 0이 주어진다. W[i][j]는 도시 i에서 j로 가기 위한 비용을 나타낸다.\n",
    "\n",
    "항상 순회할 수 있는 경우만 입력으로 주어진다.\n",
    "\n",
    "### 출력\n",
    "첫째 줄에 외판원의 순회에 필요한 최소 비용을 출력한다."
   ]
  },
  {
   "cell_type": "code",
   "execution_count": 14,
   "id": "3f44e2f6",
   "metadata": {},
   "outputs": [
    {
     "name": "stdout",
     "output_type": "stream",
     "text": [
      "4\n",
      "0 10 15 20\n",
      "5 0 9 10\n",
      "6 13 0 12\n",
      "8 8 9 0\n",
      "35\n"
     ]
    }
   ],
   "source": [
    "# N이 10보다 작으니 연산량은 괘 여유롭다 제한시간도 2초\n",
    "\n",
    "from itertools import permutations\n",
    "\n",
    "\n",
    "N = int(input())\n",
    "arr = [list(map(int, input().split())) for _ in range(N)]\n",
    "\n",
    "\n",
    "def ans(N, arr):\n",
    "    min_val = []\n",
    "    for ar in arr:\n",
    "        min_val = min_val + ar\n",
    "    min_val = min(set(min_val) - {0})\n",
    "    \n",
    "    ans = int(1e9)\n",
    "    ful = [i for i in range(0,N)]\n",
    "    for per in permutations(ful, len(ful)):\n",
    "        root = list(per) + [per[0]]\n",
    "        temp = 0\n",
    "        token = True\n",
    "        for idx in range(len(root)-1):\n",
    "            if arr[root[idx]][root[idx+1]] == 0:\n",
    "                token = False\n",
    "                break\n",
    "            temp += arr[root[idx]][root[idx+1]]\n",
    "            if temp + min_val*(N-1-idx) > ans:\n",
    "                token = False\n",
    "                break\n",
    "        if token:\n",
    "            ans = min(temp, ans)\n",
    "    return ans\n",
    "\n",
    "print(ans(N, arr))\n",
    "                \n",
    "\n",
    "\n"
   ]
  },
  {
   "cell_type": "code",
   "execution_count": 12,
   "id": "9a7eab4d",
   "metadata": {},
   "outputs": [
    {
     "data": {
      "text/plain": [
       "2"
      ]
     },
     "execution_count": 12,
     "metadata": {},
     "output_type": "execute_result"
    }
   ],
   "source": [
    "min(set([1,2] + [3,4]) - {1})"
   ]
  },
  {
   "cell_type": "markdown",
   "id": "12dc54ed",
   "metadata": {},
   "source": [
    "### DFS로도 풀 수 있다. dfs를 좀 잘 이해해봐야겠다."
   ]
  },
  {
   "cell_type": "code",
   "execution_count": 23,
   "id": "3709fd51",
   "metadata": {},
   "outputs": [
    {
     "name": "stdout",
     "output_type": "stream",
     "text": [
      "4\n",
      "0 10 15 20\n",
      "5 0 9 10\n",
      "6 13 0 12\n",
      "8 8 9 0\n",
      "35\n"
     ]
    }
   ],
   "source": [
    "N = int(input())\n",
    "arr = [list(map(int, input().split())) for _ in range(N)]\n",
    "\n",
    "res = int(1e9)\n",
    "\n",
    "def dfs(start, end, value, visited, min_val, N):\n",
    "    global res\n",
    "    if len(visited) == N:\n",
    "        if arr[end][start] != 0:\n",
    "            res = min(res, value + arr[end][start])\n",
    "        return\n",
    "    \n",
    "    if (value + min_val * (N - len(visited))) > res:\n",
    "        return\n",
    "    \n",
    "    for i in range(N):\n",
    "        if i not in visited and arr[end][i] != 0:\n",
    "            visited.append(i)\n",
    "            dfs(start, i, value + arr[end][i], visited, min_val, N)\n",
    "            visited.pop()\n",
    "            \n",
    "    \n",
    "def ans(N, arr):\n",
    "    min_val = []\n",
    "    for ar in arr:\n",
    "        min_val = min_val + ar\n",
    "    min_val = min(set(min_val) - {0})\n",
    "    \n",
    "    for i in range(N):\n",
    "        dfs(i, i, 0, [i], min_val, N)\n",
    "        \n",
    "    print(res)\n",
    "\n",
    "ans(N, arr)"
   ]
  },
  {
   "cell_type": "code",
   "execution_count": null,
   "id": "780360bc",
   "metadata": {},
   "outputs": [],
   "source": []
  }
 ],
 "metadata": {
  "kernelspec": {
   "display_name": "Python 3",
   "language": "python",
   "name": "python3"
  },
  "language_info": {
   "codemirror_mode": {
    "name": "ipython",
    "version": 3
   },
   "file_extension": ".py",
   "mimetype": "text/x-python",
   "name": "python",
   "nbconvert_exporter": "python",
   "pygments_lexer": "ipython3",
   "version": "3.8.10"
  }
 },
 "nbformat": 4,
 "nbformat_minor": 5
}
