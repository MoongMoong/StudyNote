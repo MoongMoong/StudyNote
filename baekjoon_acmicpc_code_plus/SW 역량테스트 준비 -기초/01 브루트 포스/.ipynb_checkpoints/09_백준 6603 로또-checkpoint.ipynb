{
 "cells": [
  {
   "cell_type": "markdown",
   "id": "5571293d",
   "metadata": {},
   "source": [
    "### 문제\n",
    "독일 로또는 {1, 2, ..., 49}에서 수 6개를 고른다.\n",
    "\n",
    "로또 번호를 선택하는데 사용되는 가장 유명한 전략은 49가지 수 중 k(k>6)개의 수를 골라 집합 S를 만든 다음 그 수만 가지고 번호를 선택하는 것이다.\n",
    "\n",
    "예를 들어, k=8, S={1,2,3,5,8,13,21,34}인 경우 이 집합 S에서 수를 고를 수 있는 경우의 수는 총 28가지이다. ([1,2,3,5,8,13], [1,2,3,5,8,21], [1,2,3,5,8,34], [1,2,3,5,13,21], ..., [3,5,8,13,21,34])\n",
    "\n",
    "집합 S와 k가 주어졌을 때, 수를 고르는 모든 방법을 구하는 프로그램을 작성하시오.\n",
    "\n",
    "### 입력\n",
    "입력은 여러 개의 테스트 케이스로 이루어져 있다. 각 테스트 케이스는 한 줄로 이루어져 있다. 첫 번째 수는 k (6 < k < 13)이고, 다음 k개 수는 집합 S에 포함되는 수이다. S의 원소는 오름차순으로 주어진다.\n",
    "\n",
    "입력의 마지막 줄에는 0이 하나 주어진다. \n",
    "\n",
    "### 출력\n",
    "각 테스트 케이스마다 수를 고르는 모든 방법을 출력한다. 이때, 사전 순으로 출력한다.\n",
    "\n",
    "각 테스트 케이스 사이에는 빈 줄을 하나 출력한다."
   ]
  },
  {
   "cell_type": "code",
   "execution_count": 3,
   "id": "7b7df7ab",
   "metadata": {},
   "outputs": [
    {
     "name": "stdout",
     "output_type": "stream",
     "text": [
      "7 1 2 3 4 5 6 7\n",
      "1 2 3 4 5 6\n",
      "1 2 3 4 5 7\n",
      "1 2 3 4 6 7\n",
      "1 2 3 5 6 7\n",
      "1 2 4 5 6 7\n",
      "1 3 4 5 6 7\n",
      "2 3 4 5 6 7\n",
      "8 1 2 3 5 8 13 21 34\n",
      "\n",
      "1 2 3 5 8 13\n",
      "1 2 3 5 8 21\n",
      "1 2 3 5 8 34\n",
      "1 2 3 5 13 21\n",
      "1 2 3 5 13 34\n",
      "1 2 3 5 21 34\n",
      "1 2 3 8 13 21\n",
      "1 2 3 8 13 34\n",
      "1 2 3 8 21 34\n",
      "1 2 3 13 21 34\n",
      "1 2 5 8 13 21\n",
      "1 2 5 8 13 34\n",
      "1 2 5 8 21 34\n",
      "1 2 5 13 21 34\n",
      "1 2 8 13 21 34\n",
      "1 3 5 8 13 21\n",
      "1 3 5 8 13 34\n",
      "1 3 5 8 21 34\n",
      "1 3 5 13 21 34\n",
      "1 3 8 13 21 34\n",
      "1 5 8 13 21 34\n",
      "2 3 5 8 13 21\n",
      "2 3 5 8 13 34\n",
      "2 3 5 8 21 34\n",
      "2 3 5 13 21 34\n",
      "2 3 8 13 21 34\n",
      "2 5 8 13 21 34\n",
      "3 5 8 13 21 34\n",
      "0\n"
     ]
    }
   ],
   "source": [
    "from itertools import combinations\n",
    "\n",
    "def ans(arr):\n",
    "    for per in combinations(arr,6):\n",
    "        strip = sorted(list(per))\n",
    "        print(*strip)\n",
    "    pass\n",
    "\n",
    "arr = list(map(int, input().split()))\n",
    "while True:\n",
    "    ans(arr[1:])\n",
    "    arr = list(map(int, input().split()))\n",
    "    \n",
    "    if len(arr) == 1 and arr[0] == 0:\n",
    "        break\n",
    "    \n",
    "    print('')\n",
    "    \n",
    "    \n",
    "    "
   ]
  },
  {
   "cell_type": "code",
   "execution_count": null,
   "id": "4649d5fb",
   "metadata": {},
   "outputs": [],
   "source": []
  }
 ],
 "metadata": {
  "kernelspec": {
   "display_name": "Python 3",
   "language": "python",
   "name": "python3"
  },
  "language_info": {
   "codemirror_mode": {
    "name": "ipython",
    "version": 3
   },
   "file_extension": ".py",
   "mimetype": "text/x-python",
   "name": "python",
   "nbconvert_exporter": "python",
   "pygments_lexer": "ipython3",
   "version": "3.8.10"
  }
 },
 "nbformat": 4,
 "nbformat_minor": 5
}
