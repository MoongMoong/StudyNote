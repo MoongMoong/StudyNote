{
 "cells": [
  {
   "cell_type": "markdown",
   "id": "b90eebd2",
   "metadata": {},
   "source": [
    "###  문제\n",
    "1부터 N까지의 수로 이루어진 순열이 있다. 이때, 사전순으로 다음에 오는 순열을 구하는 프로그램을 작성하시오.\n",
    "\n",
    "사전 순으로 가장 앞서는 순열은 오름차순으로 이루어진 순열이고, 가장 마지막에 오는 순열은 내림차순으로 이루어진 순열이다.\n",
    "\n",
    "N = 4인 경우에 사전순으로 순열을 나열하면 다음과 같다.\n",
    "```\n",
    "1, 2, 3\n",
    "1, 3, 2\n",
    "2, 1, 3\n",
    "2, 3, 1\n",
    "3, 1, 2\n",
    "3, 2, 1\n",
    "```\n",
    "### 입력\n",
    "첫째 줄에 N(1 ≤ N ≤ 10,000)이 주어진다. 둘째 줄에 순열이 주어진다.\n",
    "\n",
    "### 출력\n",
    "첫째 줄에 입력으로 주어진 순열의 다음에 오는 순열을 출력한다. 만약, 사전순으로 마지막에 오는 순열인 경우에는 -1을 출력한다."
   ]
  },
  {
   "cell_type": "code",
   "execution_count": 19,
   "id": "14f217a7",
   "metadata": {},
   "outputs": [
    {
     "name": "stdout",
     "output_type": "stream",
     "text": [
      "4\n",
      "1 2 3 4 \n",
      "1 2 4 3\n"
     ]
    }
   ],
   "source": [
    "N = int(input())\n",
    "arr = list(map(int, input().split()))\n",
    "\n",
    "\n",
    "def ans(arr, N):\n",
    "    for idx, a in enumerate(arr):\n",
    "        if a == N - idx:\n",
    "            pass\n",
    "        else:\n",
    "            break\n",
    "        if a == 1:\n",
    "            print(-1)\n",
    "            return\n",
    "    \n",
    "    temp = [x for x in range(1, N+1)] ## 아직 안적은 수\n",
    "    \n",
    "    ans = 0\n",
    "    for i in arr:\n",
    "        ans = ans * len(temp)\n",
    "        t = temp.index(i)\n",
    "        ans += t\n",
    "        temp.remove(temp[t])\n",
    "    \n",
    "    ans += 1\n",
    "    an = []\n",
    "    for i in range(1, N+1):\n",
    "        an.append(ans%i)\n",
    "        ans = ans//i\n",
    "        \n",
    "    result = []\n",
    "    temp = [x for x in range(1, N+1)] ## 아직 안적은 수\n",
    "    for idx in an[::-1]:\n",
    "        result.append(str(temp[idx]))\n",
    "        temp.remove(temp[idx])\n",
    "        \n",
    "    print(' '.join(result))\n",
    "    return\n",
    "    \n",
    "ans(arr, N)\n",
    "        \n"
   ]
  },
  {
   "cell_type": "markdown",
   "id": "4bbf83df",
   "metadata": {},
   "source": [
    "### 다른 풀이\n",
    "- [next permutation 알고리즘](https://jins-dev.tistory.com/entry/%EB%8B%A4%EC%9D%8C-%EC%88%9C%EC%97%B4-%EC%B0%BE%EA%B8%B0-%EC%A0%84%EC%B2%B4-%EC%88%9C%EC%97%B4-%ED%83%90%EC%83%89-%EC%95%8C%EA%B3%A0%EB%A6%AC%EC%A6%98-Next-Permutation)\n",
    "- 무작위 수열의 다음 순열을 구하는 알고리즘 시간복잡도 O(N)\n",
    "  - Greedu 방식\n",
    "    - 순열 전체를 순회하면서 N[i] < N[i + 1]인 가장 마지막 i를 구한다.\n",
    "    - 배열의 끝에서 방금 구해낸 i까지 오면서 N[j] > N[i]인 마지막 위치를 찾는다.\n",
    "    - N[i]와 N[j]를 서로 스왑해준다.\n",
    "    - i + 1부터 수열의 마지막까지 reverse해준다.\n",
    "  - 특징은 element와 관계없이 동작해서 위에서 작성한 코드보다 간단하다.\n",
    "    - 이런 계열의 문제라기 보다는 이 문제를 저격해서 만들어진 알고리즘\n",
    "  - 이게 왜 성립하는지는 \n"
   ]
  },
  {
   "cell_type": "code",
   "execution_count": 43,
   "id": "0a8abb51",
   "metadata": {},
   "outputs": [
    {
     "name": "stdout",
     "output_type": "stream",
     "text": [
      "5\n",
      "1 2 3 4 5\n",
      "1 2 3 5 4\n"
     ]
    }
   ],
   "source": [
    "N = int(input())\n",
    "arr = list(map(int, input().split()))\n",
    "\n",
    "def ans(N, arr):\n",
    "    idx = -1\n",
    "    jdx = 0\n",
    "    for i in range(N-1, 0, -1):\n",
    "        if arr[i - 1] < arr[i]:\n",
    "            idx= i - 1\n",
    "            break\n",
    "\n",
    "    if idx == -1:\n",
    "        print(-1)\n",
    "        return\n",
    "    \n",
    "    for j in range(N-1, idx, -1):\n",
    "        if arr[j] > arr[idx]:\n",
    "            jdx = j\n",
    "            arr[idx], arr[jdx] = arr[jdx], arr[idx]\n",
    "            arr[idx+1:] =arr[idx+1:][::-1]\n",
    "            print(*arr)\n",
    "            return\n",
    "    return\n",
    "        \n",
    "ans(N, arr)"
   ]
  },
  {
   "cell_type": "code",
   "execution_count": 33,
   "id": "7a6c5fe9",
   "metadata": {},
   "outputs": [
    {
     "name": "stdout",
     "output_type": "stream",
     "text": [
      "1 2 3\n"
     ]
    }
   ],
   "source": [
    "a = [1, 2, 3]\n",
    "print(*a) # 이거 포인터처럼 동작한다, 실제 값이 들어가서 1, 2, 3이 들어가게된다, print의 sep=' '이라서 하나씩 띄어져서 출력됨"
   ]
  },
  {
   "cell_type": "code",
   "execution_count": null,
   "id": "a135245c",
   "metadata": {},
   "outputs": [],
   "source": []
  }
 ],
 "metadata": {
  "kernelspec": {
   "display_name": "Python 3",
   "language": "python",
   "name": "python3"
  },
  "language_info": {
   "codemirror_mode": {
    "name": "ipython",
    "version": 3
   },
   "file_extension": ".py",
   "mimetype": "text/x-python",
   "name": "python",
   "nbconvert_exporter": "python",
   "pygments_lexer": "ipython3",
   "version": "3.8.10"
  }
 },
 "nbformat": 4,
 "nbformat_minor": 5
}
