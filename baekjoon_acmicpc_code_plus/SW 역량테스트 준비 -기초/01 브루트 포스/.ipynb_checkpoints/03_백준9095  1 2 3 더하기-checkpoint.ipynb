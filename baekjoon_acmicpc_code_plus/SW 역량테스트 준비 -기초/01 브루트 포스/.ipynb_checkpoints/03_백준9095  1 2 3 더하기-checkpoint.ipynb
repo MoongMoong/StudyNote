{
 "cells": [
  {
   "cell_type": "markdown",
   "id": "d7f183d1",
   "metadata": {},
   "source": [
    "### 문제\n",
    "정수 4를 1, 2, 3의 합으로 나타내는 방법은 총 7가지가 있다. 합을 나타낼 때는 수를 1개 이상 사용해야 한다.\n",
    "\n",
    "1+1+1+1\n",
    "1+1+2\n",
    "1+2+1\n",
    "2+1+1\n",
    "2+2\n",
    "1+3\n",
    "3+1\n",
    "정수 n이 주어졌을 때, n을 1, 2, 3의 합으로 나타내는 방법의 수를 구하는 프로그램을 작성하시오.\n",
    "\n",
    "### 입력\n",
    "첫째 줄에 테스트 케이스의 개수 T가 주어진다. 각 테스트 케이스는 한 줄로 이루어져 있고, 정수 n이 주어진다. n은 양수이며 11보다 작다.\n",
    "\n",
    "\n",
    "### 출력\n",
    "각 테스트 케이스마다, n을 1, 2, 3의 합으로 나타내는 방법의 수를 출력한다.\n",
    "\n",
    "### 예제 입력 1 \n",
    "```\n",
    "3\n",
    "4\n",
    "7\n",
    "10\n",
    "```\n",
    "### 예제 출력 1 \n",
    "```\n",
    "7\n",
    "44\n",
    "274\n",
    "```"
   ]
  },
  {
   "cell_type": "code",
   "execution_count": 6,
   "id": "d0be1a82",
   "metadata": {},
   "outputs": [
    {
     "name": "stdout",
     "output_type": "stream",
     "text": [
      "2\n",
      "4\n",
      "7\n",
      "[1, 1, 2, 6, 24, 120, 720, 5040, 40320, 362880, 3628800]\n",
      "7\n",
      "44\n"
     ]
    }
   ],
   "source": [
    "from collections import deque\n",
    "\n",
    "N = int(input())\n",
    "arr = [int(input()) for _ in range(N)]\n",
    "fact = [1] * 11\n",
    "for i in range(2, 11):\n",
    "    fact[i] = i * fact[i-1]\n",
    "def calc(x):\n",
    "    src = set([(x, 0 ,0)])\n",
    "    queue = deque([])\n",
    "    queue.append((x, 0 ,0))\n",
    "    while queue:\n",
    "        t1, t2, t3 = queue.popleft()\n",
    "        if t1 >= 3:\n",
    "            queue.append((t1- 3, t2, t3+1))\n",
    "            src.add((t1- 3, t2, t3+1))\n",
    "            \n",
    "        if t1 >= 2:\n",
    "            queue.append((t1- 2, t2+1, t3))\n",
    "            src.add((t1- 2, t2+1, t3))\n",
    "            \n",
    "          \n",
    "    ans = 0\n",
    "    for t1, t2, t3 in src:\n",
    "        ans += fact[t1+t2+t3]//(fact[t1]*fact[t2]*fact[t3])\n",
    "    print(ans)\n",
    "\n",
    "for x in arr:\n",
    "    calc(x)\n",
    "    "
   ]
  },
  {
   "cell_type": "markdown",
   "id": "def88d25",
   "metadata": {},
   "source": [
    "### 다른 풀이\n",
    "- 점화식 사용\n",
    "  - 이런 수열스러운 문제는 어지간하면 점화식이 존재한다\n",
    "  - 여기서 점화식은 sol(n) = sol(n-3) + sol(n-2) + sol(n-1)\n",
    "    - 해석을 해보자면 sol(n)의 모든 경우에서 마지막에 나오는 값은 k in (3, 2, 1) 인데, 마지막이 k인 경우의 수는 sol(3-k)이기에 이들의 합으로 표현되는 점화식이다."
   ]
  },
  {
   "cell_type": "code",
   "execution_count": 10,
   "id": "64e60850",
   "metadata": {},
   "outputs": [
    {
     "name": "stdout",
     "output_type": "stream",
     "text": [
      "7\n",
      "44\n"
     ]
    }
   ],
   "source": [
    "N = int(input())\n",
    "dic = dict()\n",
    "\n",
    "def sol(n):\n",
    "    if n == 1:\n",
    "        dic[n] = 1\n",
    "        return dic[n]\n",
    "    if n == 2:\n",
    "        dic[n] = 2\n",
    "        return dic[n]\n",
    "    if n == 3:\n",
    "        dic[n] = 4\n",
    "        return dic[n]\n",
    "    else :\n",
    "        if n not in dic:\n",
    "            dic[n] = sol(n-3) + sol(n-2) + sol(n-1)\n",
    "        return dic[n]\n",
    "\n",
    "print(sol(N))"
   ]
  },
  {
   "cell_type": "code",
   "execution_count": null,
   "id": "f0fc906c",
   "metadata": {},
   "outputs": [],
   "source": []
  }
 ],
 "metadata": {
  "kernelspec": {
   "display_name": "Python 3",
   "language": "python",
   "name": "python3"
  },
  "language_info": {
   "codemirror_mode": {
    "name": "ipython",
    "version": 3
   },
   "file_extension": ".py",
   "mimetype": "text/x-python",
   "name": "python",
   "nbconvert_exporter": "python",
   "pygments_lexer": "ipython3",
   "version": "3.8.10"
  }
 },
 "nbformat": 4,
 "nbformat_minor": 5
}
