{
 "cells": [
  {
   "cell_type": "markdown",
   "id": "875283c6",
   "metadata": {},
   "source": [
    "### 문제\n",
    "바로 어제 최백준 조교가 방 열쇠를 주머니에 넣은 채 깜빡하고 서울로 가 버리는 황당한 상황에 직면한 조교들은, 702호에 새로운 보안 시스템을 설치하기로 하였다. 이 보안 시스템은 열쇠가 아닌 암호로 동작하게 되어 있는 시스템이다.\n",
    "\n",
    "암호는 서로 다른 L개의 알파벳 소문자들로 구성되며 최소 한 개의 모음(a, e, i, o, u)과 최소 두 개의 자음으로 구성되어 있다고 알려져 있다. 또한 정렬된 문자열을 선호하는 조교들의 성향으로 미루어 보아 암호를 이루는 알파벳이 암호에서 증가하는 순서로 배열되었을 것이라고 추측된다. 즉, abc는 가능성이 있는 암호이지만 bac는 그렇지 않다.\n",
    "\n",
    "새 보안 시스템에서 조교들이 암호로 사용했을 법한 문자의 종류는 C가지가 있다고 한다. 이 알파벳을 입수한 민식, 영식 형제는 조교들의 방에 침투하기 위해 암호를 추측해 보려고 한다. C개의 문자들이 모두 주어졌을 때, 가능성 있는 암호들을 모두 구하는 프로그램을 작성하시오.\n",
    "\n",
    "### 입력\n",
    "첫째 줄에 두 정수 L, C가 주어진다. (3 ≤ L ≤ C ≤ 15) 다음 줄에는 C개의 문자들이 공백으로 구분되어 주어진다. 주어지는 문자들은 알파벳 소문자이며, 중복되는 것은 없다.\n",
    "\n",
    "### 출력\n",
    "각 줄에 하나씩, 사전식으로 가능성 있는 암호를 모두 출력한다."
   ]
  },
  {
   "cell_type": "code",
   "execution_count": 4,
   "id": "b8bbec3b",
   "metadata": {},
   "outputs": [
    {
     "name": "stdout",
     "output_type": "stream",
     "text": [
      "4 6\n",
      "a t c i s w\n",
      "acis\n",
      "acit\n",
      "aciw\n",
      "acst\n",
      "acsw\n",
      "actw\n",
      "aist\n",
      "aisw\n",
      "aitw\n",
      "astw\n",
      "cist\n",
      "cisw\n",
      "citw\n",
      "istw\n"
     ]
    }
   ],
   "source": [
    "from collections import Counter\n",
    "def checker(x):\n",
    "    vowls = ['a', 'e', 'i', 'o', 'u']\n",
    "    lx = len(x)\n",
    "    cx = Counter(x)\n",
    "    vn = 0\n",
    "    for v in vowls:\n",
    "        vn += cx.get(v, 0)\n",
    "    if vn < 1:\n",
    "        return False\n",
    "    if lx - vn < 2:\n",
    "        return False\n",
    "    return True\n",
    "    \n",
    "\n",
    "L, C = list(map(int, input().split()))\n",
    "\n",
    "arr = list(input().split())\n",
    "from itertools import combinations\n",
    "ans = list(combinations(arr, L))\n",
    "ans = [''.join(sorted(x)) for x in ans if checker(x)]\n",
    "ans.sort()\n",
    "print(*ans, sep='\\n')\n"
   ]
  },
  {
   "cell_type": "markdown",
   "id": "7860a090",
   "metadata": {},
   "source": [
    "### 나는 툴킷을 쓰긴 했지만 dfs연습겸 하나 짜보자\n",
    "- 써보고 느낀건데 combination이 훨 절약된다."
   ]
  },
  {
   "cell_type": "code",
   "execution_count": 7,
   "id": "59e3e090",
   "metadata": {},
   "outputs": [
    {
     "name": "stdout",
     "output_type": "stream",
     "text": [
      "4 6\n",
      "a t c i s w\n",
      "acis\n",
      "acit\n",
      "aciw\n",
      "acst\n",
      "acsw\n",
      "actw\n",
      "aist\n",
      "aisw\n",
      "aitw\n",
      "astw\n",
      "cist\n",
      "cisw\n",
      "citw\n",
      "istw\n"
     ]
    }
   ],
   "source": [
    "def checker(x):\n",
    "    vowls = ['a', 'e', 'i', 'o', 'u']\n",
    "    lx = len(x)\n",
    "    vn = 0\n",
    "    for k in x:\n",
    "        if k in vowls: vn+=1\n",
    "    if vn < 1:\n",
    "        return False\n",
    "    if lx - vn < 2:\n",
    "        return False\n",
    "    return True\n",
    "\n",
    "\n",
    "L, C = list(map(int, input().split()))\n",
    "\n",
    "arr = list(input().split())\n",
    "indexs = [True for x in range(C)]\n",
    "ans = []\n",
    "strip = []\n",
    "\n",
    "def dfs(strip):\n",
    "    if len(strip) == L and checker(strip):\n",
    "        ans.append(''.join(sorted(strip)))\n",
    "    \n",
    "    for i in range(C):\n",
    "        if indexs[i]:\n",
    "            indexs[i] = False\n",
    "            dfs(strip + [arr[i]])\n",
    "            indexs[i] = True\n",
    "\n",
    "dfs(strip)\n",
    "ans = list(set(ans))\n",
    "ans.sort()\n",
    "print(*ans, sep='\\n')\n",
    "    \n",
    "    \n",
    "        \n"
   ]
  },
  {
   "cell_type": "code",
   "execution_count": null,
   "id": "6263006e",
   "metadata": {},
   "outputs": [],
   "source": []
  }
 ],
 "metadata": {
  "kernelspec": {
   "display_name": "Python 3",
   "language": "python",
   "name": "python3"
  },
  "language_info": {
   "codemirror_mode": {
    "name": "ipython",
    "version": 3
   },
   "file_extension": ".py",
   "mimetype": "text/x-python",
   "name": "python",
   "nbconvert_exporter": "python",
   "pygments_lexer": "ipython3",
   "version": "3.8.10"
  }
 },
 "nbformat": 4,
 "nbformat_minor": 5
}
