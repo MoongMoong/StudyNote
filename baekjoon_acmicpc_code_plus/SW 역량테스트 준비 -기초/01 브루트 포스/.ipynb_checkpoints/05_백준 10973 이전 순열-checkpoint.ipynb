{
 "cells": [
  {
   "cell_type": "markdown",
   "id": "0f512191",
   "metadata": {},
   "source": [
    "### 문제\n",
    "1부터 N까지의 수로 이루어진 순열이 있다. 이때, 사전순으로 바로 이전에 오는 순열을 구하는 프로그램을 작성하시오.\n",
    "\n",
    "사전 순으로 가장 앞서는 순열은 오름차순으로 이루어진 순열이고, 가장 마지막에 오는 순열은 내림차순으로 이루어진 순열이다.\n",
    "\n",
    "N = 3인 경우에 사전순으로 순열을 나열하면 다음과 같다.\n",
    "```\n",
    "1, 2, 3\n",
    "1, 3, 2\n",
    "2, 1, 3\n",
    "2, 3, 1\n",
    "3, 1, 2\n",
    "3, 2, 1\n",
    "```\n",
    "### 입력\n",
    "첫째 줄에 N(1 ≤ N ≤ 10,000)이 주어진다. 둘째 줄에 순열이 주어진다.\n",
    "\n",
    "### 출력\n",
    "첫째 줄에 입력으로 주어진 순열의 이전에 오는 순열을 출력한다. 만약, 사전순으로 가장 처음에 오는 순열인 경우에는 -1을 출력한다."
   ]
  },
  {
   "cell_type": "code",
   "execution_count": 3,
   "id": "4bdc1ecb",
   "metadata": {},
   "outputs": [
    {
     "name": "stdout",
     "output_type": "stream",
     "text": [
      "5\n",
      "5 4 3 2 1\n",
      "5 4 3 1 2\n"
     ]
    }
   ],
   "source": [
    "N = int(input())\n",
    "arr = list(map(int, input().split()))\n",
    "\n",
    "\n",
    "def ans(arr, N):\n",
    "    for idx, a in enumerate(arr):\n",
    "        if a == idx + 1 :\n",
    "            pass\n",
    "        else:\n",
    "            break\n",
    "        if a == 1:\n",
    "            print(-1)\n",
    "            return\n",
    "    \n",
    "    temp = [x for x in range(1, N+1)] ## 아직 안적은 수\n",
    "    \n",
    "    ans = 0\n",
    "    for i in arr:\n",
    "        ans = ans * len(temp)\n",
    "        t = temp.index(i)\n",
    "        ans += t\n",
    "        temp.remove(temp[t])\n",
    "    \n",
    "    ans -= 1\n",
    "    an = []\n",
    "    for i in range(1, N+1):\n",
    "        an.append(ans%i)\n",
    "        ans = ans//i\n",
    "        \n",
    "    result = []\n",
    "    temp = [x for x in range(1, N+1)] ## 아직 안적은 수\n",
    "    for idx in an[::-1]:\n",
    "        result.append(str(temp[idx]))\n",
    "        temp.remove(temp[idx])\n",
    "        \n",
    "    print(' '.join(result))\n",
    "    return\n",
    "    \n",
    "ans(arr, N)"
   ]
  },
  {
   "cell_type": "markdown",
   "id": "af3a45a7",
   "metadata": {},
   "source": [
    "### 이전 순열 알고리즘\n",
    "- 기쁘게도 노가다로 만들었던 이전 코드가 유효해서 제출 자체는문제가 없었다. 하지만 빠른 성능을 갖는 알고리즘의 공부는 필요하다.\n",
    "- 일단 이전에 가져온 다음수열 알고리즘을 바탕으로 생각해보자\n",
    "\n",
    "- 알고리즘\n",
    "  - 기존에는 순행찾고, 해당 값보다 애들 중 가장 뒤쪽 찾고, 바꾸고뒤집었다. 그럼 이제 반대로 할것이다\n",
    "  - 순행이엇다가 이제 역행이 됬다. 일단 가장 마지막의 역행을 찾아야 한다.\n",
    "  - 작은놈이 앞으로 가야하는데, 뒤에서부터 역행을 찾는다. 이때, 이 작은값이 가장 작은 값일 것이다.\n",
    "  - 앞에서부터 이 작은값보다 큰 맨 마지막 애를 찾는다.\n",
    "  - 둘이 위치 바꾸고 그 맨 마지막애 인덱스에서 뒤로 싹 뒤엎는다.\n",
    "- 다음 순열 알고리즘에서 부등호만 바꾸면 된다."
   ]
  },
  {
   "cell_type": "code",
   "execution_count": 15,
   "id": "98737097",
   "metadata": {},
   "outputs": [
    {
     "name": "stdout",
     "output_type": "stream",
     "text": [
      "5\n",
      "5 4 3 2 1\n",
      "5 4 3 1 2\n"
     ]
    }
   ],
   "source": [
    "N = int(input())\n",
    "arr = list(map(int, input().split()))\n",
    "\n",
    "def ans(N, arr):\n",
    "    idx = -1\n",
    "    jdx = 0\n",
    "    for i in range(N-1, 0, -1):\n",
    "        if arr[i - 1] > arr[i]:\n",
    "            idx= i - 1\n",
    "            break\n",
    "\n",
    "    if idx == -1:\n",
    "        print(-1)\n",
    "        return\n",
    "    \n",
    "    for j in range(N-1, idx, -1):\n",
    "        if arr[j] < arr[idx]:\n",
    "            jdx = j\n",
    "            arr[idx], arr[jdx] = arr[jdx], arr[idx]\n",
    "            arr[idx+1:] =arr[idx+1:][::-1]\n",
    "            print(*arr)\n",
    "            return\n",
    "    return\n",
    "        \n",
    "ans(N, arr)"
   ]
  },
  {
   "cell_type": "code",
   "execution_count": null,
   "id": "7dc7cf51",
   "metadata": {},
   "outputs": [],
   "source": []
  }
 ],
 "metadata": {
  "kernelspec": {
   "display_name": "Python 3",
   "language": "python",
   "name": "python3"
  },
  "language_info": {
   "codemirror_mode": {
    "name": "ipython",
    "version": 3
   },
   "file_extension": ".py",
   "mimetype": "text/x-python",
   "name": "python",
   "nbconvert_exporter": "python",
   "pygments_lexer": "ipython3",
   "version": "3.8.10"
  }
 },
 "nbformat": 4,
 "nbformat_minor": 5
}
