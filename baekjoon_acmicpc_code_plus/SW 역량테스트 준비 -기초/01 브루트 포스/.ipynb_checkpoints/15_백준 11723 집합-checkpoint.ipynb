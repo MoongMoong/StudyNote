{
 "cells": [
  {
   "cell_type": "markdown",
   "id": "73be4c9b",
   "metadata": {},
   "source": [
    "### 문제\n",
    "비어있는 공집합 S가 주어졌을 때, 아래 연산을 수행하는 프로그램을 작성하시오.\n",
    "```\n",
    "add x: S에 x를 추가한다. (1 ≤ x ≤ 20) S에 x가 이미 있는 경우에는 연산을 무시한다.\n",
    "remove x: S에서 x를 제거한다. (1 ≤ x ≤ 20) S에 x가 없는 경우에는 연산을 무시한다.\n",
    "check x: S에 x가 있으면 1을, 없으면 0을 출력한다. (1 ≤ x ≤ 20)\n",
    "toggle x: S에 x가 있으면 x를 제거하고, 없으면 x를 추가한다. (1 ≤ x ≤ 20)\n",
    "all: S를 {1, 2, ..., 20} 으로 바꾼다.\n",
    "empty: S를 공집합으로 바꾼다. \n",
    "```\n",
    "### 입력\n",
    "첫째 줄에 수행해야 하는 연산의 수 M (1 ≤ M ≤ 3,000,000)이 주어진다.\n",
    "\n",
    "둘째 줄부터 M개의 줄에 수행해야 하는 연산이 한 줄에 하나씩 주어진다.\n",
    "\n",
    "### 출력\n",
    "check 연산이 주어질때마다, 결과를 출력한다."
   ]
  },
  {
   "cell_type": "code",
   "execution_count": 3,
   "id": "6f62765f",
   "metadata": {},
   "outputs": [
    {
     "ename": "ValueError",
     "evalue": "invalid literal for int() with base 10: ''",
     "output_type": "error",
     "traceback": [
      "\u001b[0;31m---------------------------------------------------------------------------\u001b[0m",
      "\u001b[0;31mValueError\u001b[0m                                Traceback (most recent call last)",
      "\u001b[0;32m<ipython-input-3-22b7fed2e580>\u001b[0m in \u001b[0;36m<module>\u001b[0;34m\u001b[0m\n\u001b[1;32m      1\u001b[0m \u001b[0;32mimport\u001b[0m \u001b[0msys\u001b[0m\u001b[0;34m\u001b[0m\u001b[0;34m\u001b[0m\u001b[0m\n\u001b[0;32m----> 2\u001b[0;31m \u001b[0mN\u001b[0m \u001b[0;34m=\u001b[0m \u001b[0mint\u001b[0m\u001b[0;34m(\u001b[0m\u001b[0msys\u001b[0m\u001b[0;34m.\u001b[0m\u001b[0mstdin\u001b[0m\u001b[0;34m.\u001b[0m\u001b[0mreadline\u001b[0m\u001b[0;34m(\u001b[0m\u001b[0;34m)\u001b[0m\u001b[0;34m.\u001b[0m\u001b[0mstrip\u001b[0m\u001b[0;34m(\u001b[0m\u001b[0;34m)\u001b[0m\u001b[0;34m)\u001b[0m\u001b[0;34m\u001b[0m\u001b[0;34m\u001b[0m\u001b[0m\n\u001b[0m\u001b[1;32m      3\u001b[0m \u001b[0;34m\u001b[0m\u001b[0m\n\u001b[1;32m      4\u001b[0m \u001b[0mS\u001b[0m \u001b[0;34m=\u001b[0m \u001b[0mset\u001b[0m\u001b[0;34m(\u001b[0m\u001b[0;34m)\u001b[0m\u001b[0;34m\u001b[0m\u001b[0;34m\u001b[0m\u001b[0m\n\u001b[1;32m      5\u001b[0m \u001b[0;34m\u001b[0m\u001b[0m\n",
      "\u001b[0;31mValueError\u001b[0m: invalid literal for int() with base 10: ''"
     ]
    }
   ],
   "source": [
    "import sys\n",
    "N = int(sys.stdin.readline().strip())\n",
    "\n",
    "S = set()\n",
    "\n",
    "for _ in range(N):\n",
    "    src = sys.stdin.readline().strip().split()\n",
    "    if len(src) > 1:\n",
    "        ords, num = src\n",
    "        num = int(num)\n",
    "        if ords == 'add':\n",
    "            if num not in S:\n",
    "                S.add(num)\n",
    "        if ords == 'remove':\n",
    "            if num in S:\n",
    "                S.remove(num)\n",
    "        if ords == 'check':\n",
    "            if num in S:\n",
    "                print(1)\n",
    "            else:\n",
    "                print(0)\n",
    "        if ords == 'toggle':\n",
    "            if num in S:\n",
    "                S.remove(num)\n",
    "            else:\n",
    "                S.add(num)\n",
    "    else:\n",
    "        if src[0] == 'all':\n",
    "            S = set([i for i in range(1,21)])\n",
    "        elif src[0] == 'empty':\n",
    "            S = set()\n",
    "        \n",
    "    "
   ]
  },
  {
   "cell_type": "markdown",
   "id": "5cbb7bdf",
   "metadata": {},
   "source": [
    "## sys.stdin.readline이 얼마나 빠른지 느껴지는 부분 차이심하다."
   ]
  },
  {
   "cell_type": "code",
   "execution_count": null,
   "id": "f682766e",
   "metadata": {},
   "outputs": [],
   "source": []
  }
 ],
 "metadata": {
  "kernelspec": {
   "display_name": "Python 3",
   "language": "python",
   "name": "python3"
  },
  "language_info": {
   "codemirror_mode": {
    "name": "ipython",
    "version": 3
   },
   "file_extension": ".py",
   "mimetype": "text/x-python",
   "name": "python",
   "nbconvert_exporter": "python",
   "pygments_lexer": "ipython3",
   "version": "3.8.10"
  }
 },
 "nbformat": 4,
 "nbformat_minor": 5
}
