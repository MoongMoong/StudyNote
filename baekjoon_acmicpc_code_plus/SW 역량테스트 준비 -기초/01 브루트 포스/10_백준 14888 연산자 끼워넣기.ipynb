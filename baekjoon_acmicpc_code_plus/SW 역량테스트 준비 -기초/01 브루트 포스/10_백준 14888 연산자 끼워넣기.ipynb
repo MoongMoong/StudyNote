{
 "cells": [
  {
   "cell_type": "markdown",
   "id": "146919e9",
   "metadata": {},
   "source": [
    "### 문제\n",
    "N개의 수로 이루어진 수열 A1, A2, ..., AN이 주어진다. 또, 수와 수 사이에 끼워넣을 수 있는 N-1개의 연산자가 주어진다. 연산자는 덧셈(+), 뺄셈(-), 곱셈(×), 나눗셈(÷)으로만 이루어져 있다.\n",
    "\n",
    "우리는 수와 수 사이에 연산자를 하나씩 넣어서, 수식을 하나 만들 수 있다. 이때, 주어진 수의 순서를 바꾸면 안 된다.\n",
    "\n",
    "예를 들어, 6개의 수로 이루어진 수열이 1, 2, 3, 4, 5, 6이고, 주어진 연산자가 덧셈(+) 2개, 뺄셈(-) 1개, 곱셈(×) 1개, 나눗셈(÷) 1개인 경우에는 총 60가지의 식을 만들 수 있다. 예를 들어, 아래와 같은 식을 만들 수 있다.\n",
    "```\n",
    "1+2+3-4×5÷6\n",
    "1÷2+3+4-5×6\n",
    "1+2÷3×4-5+6\n",
    "1÷2×3-4+5+6\n",
    "```\n",
    "식의 계산은 연산자 우선 순위를 무시하고 앞에서부터 진행해야 한다. 또, 나눗셈은 정수 나눗셈으로 몫만 취한다. 음수를 양수로 나눌 때는 C++14의 기준을 따른다. 즉, 양수로 바꾼 뒤 몫을 취하고, 그 몫을 음수로 바꾼 것과 같다. 이에 따라서, 위의 식 4개의 결과를 계산해보면 아래와 같다.\n",
    "```\n",
    "1+2+3-4×5÷6 = 1\n",
    "1÷2+3+4-5×6 = 12\n",
    "1+2÷3×4-5+6 = 5\n",
    "1÷2×3-4+5+6 = 7\n",
    "```\n",
    "N개의 수와 N-1개의 연산자가 주어졌을 때, 만들 수 있는 식의 결과가 최대인 것과 최소인 것을 구하는 프로그램을 작성하시오.\n",
    "\n",
    "### 입력\n",
    "첫째 줄에 수의 개수 N(2 ≤ N ≤ 11)가 주어진다. 둘째 줄에는 A1, A2, ..., AN이 주어진다. (1 ≤ Ai ≤ 100) 셋째 줄에는 합이 N-1인 4개의 정수가 주어지는데, 차례대로 덧셈(+)의 개수, 뺄셈(-)의 개수, 곱셈(×)의 개수, 나눗셈(÷)의 개수이다. \n",
    "\n",
    "### 출력\n",
    "첫째 줄에 만들 수 있는 식의 결과의 최댓값을, 둘째 줄에는 최솟값을 출력한다. 연산자를 어떻게 끼워넣어도 항상 -10억보다 크거나 같고, 10억보다 작거나 같은 결과가 나오는 입력만 주어진다. 또한, 앞에서부터 계산했을 때, 중간에 계산되는 식의 결과도 항상 -10억보다 크거나 같고, 10억보다 작거나 같다."
   ]
  },
  {
   "cell_type": "code",
   "execution_count": 12,
   "id": "507d2e1d",
   "metadata": {},
   "outputs": [
    {
     "name": "stdout",
     "output_type": "stream",
     "text": [
      "6\n",
      "1 2 3 4 5 6\n",
      "2 1 1 1\n",
      "54\n",
      "-24\n"
     ]
    }
   ],
   "source": [
    "from itertools import permutations\n",
    "\n",
    "calcs = [\n",
    "    lambda x, y: x + y,\n",
    "    lambda x, y: x - y,\n",
    "    lambda x, y: x * y,\n",
    "    lambda x, y: x // y if x > 0 else -(-x//y)\n",
    "]\n",
    "\n",
    "N = int(input())\n",
    "arr = list(map(int, input().split()))\n",
    "caln = list(map(int, input().split()))\n",
    "\n",
    "callist = []\n",
    "for idx, cal in enumerate(caln):\n",
    "    for _ in range(cal):\n",
    "        callist.append(idx)\n",
    "\n",
    "maximum = -int(1e9 + 1)\n",
    "minimum = int(1e9 + 1)\n",
    "\n",
    "for per in permutations(callist, len(callist)):\n",
    "    ans = arr[0]\n",
    "    for idx, calc in enumerate(list(per)):\n",
    "        ans = calcs[calc](ans, arr[idx]+1)\n",
    "\n",
    "    \n",
    "print(maximum)\n",
    "print(minimum)\n",
    "    \n",
    "    \n",
    "\n"
   ]
  },
  {
   "cell_type": "markdown",
   "id": "34c070ed",
   "metadata": {},
   "source": [
    "### 전체 permutaion 방식은 시간초과당했다.\n",
    "\n",
    "- 중간까지 계산이 중첩되는 경우가 많아서 그런듯하다. dfs로 풀어보자\n",
    "- 몇번 당하면서 느낀건데 연속 state관리는 dfs가 최고로 편한것같다."
   ]
  },
  {
   "cell_type": "code",
   "execution_count": 18,
   "id": "c4299cf2",
   "metadata": {},
   "outputs": [
    {
     "name": "stdout",
     "output_type": "stream",
     "text": [
      "6\n",
      "1 2 3 4 5 6\n",
      "3 2 1 1\n",
      "72\n",
      "-48\n"
     ]
    }
   ],
   "source": [
    "calcs = [\n",
    "    lambda x, y: x + y,\n",
    "    lambda x, y: x - y,\n",
    "    lambda x, y: x * y,\n",
    "    lambda x, y: x // y if x > 0 else -(-x//y)\n",
    "]\n",
    "\n",
    "N = int(input())\n",
    "arr = list(map(int, input().split()))\n",
    "caln = list(map(int, input().split()))\n",
    "maxc = sum(caln)\n",
    "\n",
    "maximum = -int(1e9 + 1)\n",
    "minimum = int(1e9 + 1)\n",
    "\n",
    "def dfs(idxn, value):\n",
    "    global maximum\n",
    "    global minimum\n",
    "    if sum(caln) == 0:\n",
    "        maximum=max(maximum, value)\n",
    "        minimum=min(minimum, value)\n",
    "        return\n",
    "    for i in range(4):\n",
    "        if caln[i] > 0:\n",
    "            caln[i] = caln[i] - 1\n",
    "            dfs(idxn+1, calcs[i](value, arr[idxn+1]))\n",
    "            caln[i] = caln[i] + 1\n",
    "            \n",
    "dfs(0, arr[0])\n",
    "print(maximum)\n",
    "print(minimum)\n",
    "            \n",
    "        \n",
    "        \n",
    "    \n",
    "        "
   ]
  },
  {
   "cell_type": "code",
   "execution_count": null,
   "id": "18ce8fb9",
   "metadata": {},
   "outputs": [],
   "source": []
  }
 ],
 "metadata": {
  "kernelspec": {
   "display_name": "Python 3",
   "language": "python",
   "name": "python3"
  },
  "language_info": {
   "codemirror_mode": {
    "name": "ipython",
    "version": 3
   },
   "file_extension": ".py",
   "mimetype": "text/x-python",
   "name": "python",
   "nbconvert_exporter": "python",
   "pygments_lexer": "ipython3",
   "version": "3.8.10"
  }
 },
 "nbformat": 4,
 "nbformat_minor": 5
}
