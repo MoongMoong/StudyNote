{
 "cells": [
  {
   "cell_type": "markdown",
   "id": "fa107204",
   "metadata": {},
   "source": [
    "# 기초 100제 \n",
    "- 짧게 슥슥 해보자"
   ]
  },
  {
   "cell_type": "markdown",
   "id": "44147bac",
   "metadata": {},
   "source": [
    "> 6001 [기초-출력] 출력하기01(설명)(py)\n",
    "\n",
    "입력\n",
    "입력 없음\n",
    "\n",
    "출력\n",
    "Hello World\n",
    "를 출력한다."
   ]
  },
  {
   "cell_type": "code",
   "execution_count": 1,
   "id": "4a32a6d0",
   "metadata": {},
   "outputs": [
    {
     "name": "stdout",
     "output_type": "stream",
     "text": [
      "Hello\n"
     ]
    }
   ],
   "source": [
    "print(\"Hello\")"
   ]
  },
  {
   "cell_type": "markdown",
   "id": "8e3d8c33",
   "metadata": {},
   "source": [
    "> 6002 : [기초-출력] 출력하기02(설명)(py)\n",
    "\n",
    "입력\n",
    "입력 없음\n",
    "\n",
    "출력\n",
    "Hello World\n",
    "를 출력한다.\n"
   ]
  },
  {
   "cell_type": "code",
   "execution_count": 3,
   "id": "762e00d1",
   "metadata": {},
   "outputs": [
    {
     "name": "stdout",
     "output_type": "stream",
     "text": [
      "Hello World\n"
     ]
    }
   ],
   "source": [
    "print(\"Hello World\")"
   ]
  },
  {
   "cell_type": "markdown",
   "id": "ae923daa",
   "metadata": {},
   "source": [
    "> 6003 : [기초-출력] 출력하기03(설명)(py)\n",
    "\n",
    "입력\n",
    "입력 없음\n",
    "\n",
    "출력\n",
    "Hello\n",
    "World\n",
    "를 출력한다."
   ]
  },
  {
   "cell_type": "code",
   "execution_count": 2,
   "id": "57cdc442",
   "metadata": {},
   "outputs": [
    {
     "name": "stdout",
     "output_type": "stream",
     "text": [
      "Hello\n",
      "World\n"
     ]
    }
   ],
   "source": [
    "print(\"Hello\")\n",
    "print(\"World\")"
   ]
  },
  {
   "cell_type": "markdown",
   "id": "1fdf1571",
   "metadata": {},
   "source": [
    "> 6004 : [기초-출력] 출력하기04(설명)(py)\n",
    "\n",
    "입력\n",
    "입력 없음\n",
    "\n",
    "\n",
    "출력\n",
    "'Hello'\n",
    "를 출력한다.\n"
   ]
  },
  {
   "cell_type": "code",
   "execution_count": 4,
   "id": "89e8251f",
   "metadata": {},
   "outputs": [
    {
     "name": "stdout",
     "output_type": "stream",
     "text": [
      "'Hello'\n"
     ]
    }
   ],
   "source": [
    "print('\\'Hello\\'')"
   ]
  },
  {
   "cell_type": "markdown",
   "id": "339e1b48",
   "metadata": {},
   "source": [
    "> 6005\n",
    "[기초-출력] 출력하기05(설명)(py)\n",
    "\n",
    "입력\n",
    "입력 없음\n",
    "\n",
    "출력\n",
    "\"Hello World\"\n",
    "를 출력한다.\n"
   ]
  },
  {
   "cell_type": "code",
   "execution_count": 5,
   "id": "ba29f5b9",
   "metadata": {},
   "outputs": [
    {
     "name": "stdout",
     "output_type": "stream",
     "text": [
      "\"Hello World\"\n"
     ]
    }
   ],
   "source": [
    "print('\"Hello World\"')"
   ]
  },
  {
   "cell_type": "markdown",
   "id": "d64bd941",
   "metadata": {},
   "source": [
    ">6006 : [기초-출력] 출력하기06(py)\n",
    "\n",
    "입력\n",
    "입력 없음\n",
    "\n",
    "출력\n",
    "\"!@#$%^&*()'\n",
    "를 출력한다."
   ]
  },
  {
   "cell_type": "code",
   "execution_count": 7,
   "id": "431ea037",
   "metadata": {},
   "outputs": [
    {
     "name": "stdout",
     "output_type": "stream",
     "text": [
      "\"!@#$%^&*()'\n"
     ]
    }
   ],
   "source": [
    "string = \"\\\"!@#$%^&*()\\'\"\n",
    "print(string)"
   ]
  },
  {
   "cell_type": "markdown",
   "id": "654e29a2",
   "metadata": {},
   "source": [
    "> 6007 : [기초-출력] 출력하기07(py)\n",
    "\n",
    "입력\n",
    "입력 없음\n",
    "\n",
    "출력\n",
    "\"C:\\Download\\'hello'.py\"\n",
    "를 출력한다."
   ]
  },
  {
   "cell_type": "code",
   "execution_count": 8,
   "id": "936c4538",
   "metadata": {},
   "outputs": [
    {
     "name": "stdout",
     "output_type": "stream",
     "text": [
      "\"C:\\Download\\'hello'.py\"\n"
     ]
    }
   ],
   "source": [
    "print('\\\"C:\\\\Download\\\\\\'hello\\'.py\\\"')"
   ]
  },
  {
   "cell_type": "markdown",
   "id": "8214e34f",
   "metadata": {},
   "source": [
    "> 6008 : [기초-출력] 출력하기08(py)\n",
    "\n",
    "입력\n",
    "입력 없음\n",
    " \n",
    "\n",
    "출력\n",
    "print(\"Hello\\nWorld\")"
   ]
  },
  {
   "cell_type": "code",
   "execution_count": 10,
   "id": "9900ddbd",
   "metadata": {},
   "outputs": [
    {
     "name": "stdout",
     "output_type": "stream",
     "text": [
      "print(\"Hello\\nWorld\")\n"
     ]
    }
   ],
   "source": [
    "print(\"print(\\\"Hello\\\\nWorld\\\")\")"
   ]
  },
  {
   "cell_type": "markdown",
   "id": "ccec5f6e",
   "metadata": {},
   "source": [
    "> 009 : [기초-입출력] 문자 1개 입력받아 그대로 출력하기(설명)(py)\n",
    "\n",
    "입력\n",
    "문자 1개가 입력된다.\n",
    "\n",
    "출력\n",
    "입력된 문자를 그대로 출력한다."
   ]
  },
  {
   "cell_type": "code",
   "execution_count": 11,
   "id": "a8bad324",
   "metadata": {},
   "outputs": [
    {
     "name": "stdout",
     "output_type": "stream",
     "text": [
      "a\n",
      "a\n"
     ]
    }
   ],
   "source": [
    "a = input()\n",
    "print(a)"
   ]
  },
  {
   "cell_type": "markdown",
   "id": "620db4d4",
   "metadata": {},
   "source": [
    "> 6010 : [기초-입출력] 정수 1개 입력받아 int로 변환하여 출력하기(설명)(py)\n",
    "\n",
    "입력\n",
    "정수 1개가 입력된다.\n",
    " \n",
    "\n",
    "출력\n",
    "입력된 수를 정수로 변환하여 출력한다."
   ]
  },
  {
   "cell_type": "code",
   "execution_count": 12,
   "id": "73b6c775",
   "metadata": {},
   "outputs": [
    {
     "name": "stdout",
     "output_type": "stream",
     "text": [
      "015\n",
      "15\n"
     ]
    }
   ],
   "source": [
    "a = int(input())\n",
    "print(a)"
   ]
  },
  {
   "cell_type": "markdown",
   "id": "12c61fa2",
   "metadata": {},
   "source": [
    "## 다하기엔 너무 시간낭비라 종합부분만 시작"
   ]
  },
  {
   "cell_type": "markdown",
   "id": "f44e99b2",
   "metadata": {},
   "source": [
    "> 6077 : [기초-종합] 짝수 합 구하기(설명)(py)\n",
    "\n",
    "정수 1개가 입력된다.\n",
    "(0 ~ 100)\n",
    "\n",
    "출력\n",
    "1부터 그 수까지 짝수만 합해 출력한다."
   ]
  },
  {
   "cell_type": "code",
   "execution_count": 16,
   "id": "e0167306",
   "metadata": {},
   "outputs": [
    {
     "name": "stdout",
     "output_type": "stream",
     "text": [
      "8\n",
      "20\n"
     ]
    }
   ],
   "source": [
    "a = int(input())\n",
    "print(sum([x for x in range(1, a+1) if x%2 == 0]))"
   ]
  },
  {
   "cell_type": "markdown",
   "id": "7d2f5ec0",
   "metadata": {},
   "source": [
    "> 6078 : [기초-종합] 원하는 문자가 입력될 때까지 반복 출력하기(py)\n",
    "\n",
    "입력\n",
    "문자들이 1개씩 계속해서 입력된다.\n",
    "\n",
    "출력\n",
    "영문 소문자 'q'가 입력될 때까지 입력한 문자를 계속 출력한다."
   ]
  },
  {
   "cell_type": "code",
   "execution_count": 18,
   "id": "8c0b2666",
   "metadata": {},
   "outputs": [
    {
     "name": "stdout",
     "output_type": "stream",
     "text": [
      "a\n",
      "a\n",
      "q\n",
      "q\n"
     ]
    }
   ],
   "source": [
    "a = input()\n",
    "\n",
    "while a != 'q':\n",
    "    print(a)\n",
    "    a = input()\n",
    "print(a)"
   ]
  },
  {
   "cell_type": "markdown",
   "id": "2ac06f28",
   "metadata": {},
   "source": [
    "> 6079 : [기초-종합] 언제까지 더해야 할까?(py)\n",
    "\n",
    "입력\n",
    "정수 1개가 입력된다.\n",
    "\n",
    "출력\n",
    "1, 2, 3, 4, 5 ... 를 순서대로 계속 더해 합을 만들어가다가,\n",
    "입력된 정수와 같거나 커졌을 때, 마지막에 더한 정수를 출력한다."
   ]
  },
  {
   "cell_type": "code",
   "execution_count": 19,
   "id": "379a5df5",
   "metadata": {},
   "outputs": [
    {
     "name": "stdout",
     "output_type": "stream",
     "text": [
      "4\n",
      "3\n"
     ]
    }
   ],
   "source": [
    "a = int(input())\n",
    "total = 1\n",
    "i = 1\n",
    "while total < a:\n",
    "    i += 1\n",
    "    total += i\n",
    "print(i)"
   ]
  },
  {
   "cell_type": "markdown",
   "id": "4273f8d0",
   "metadata": {},
   "source": [
    "> 6080 : [기초-종합] 주사위 2개 던지기(설명)(py)"
   ]
  },
  {
   "cell_type": "code",
   "execution_count": null,
   "id": "0595639f",
   "metadata": {},
   "outputs": [],
   "source": []
  },
  {
   "cell_type": "code",
   "execution_count": null,
   "id": "8cdee639",
   "metadata": {},
   "outputs": [],
   "source": []
  },
  {
   "cell_type": "code",
   "execution_count": null,
   "id": "c1cdec88",
   "metadata": {},
   "outputs": [],
   "source": []
  },
  {
   "cell_type": "code",
   "execution_count": null,
   "id": "05539cd3",
   "metadata": {},
   "outputs": [],
   "source": []
  },
  {
   "cell_type": "code",
   "execution_count": null,
   "id": "4b4d0c82",
   "metadata": {},
   "outputs": [],
   "source": []
  },
  {
   "cell_type": "code",
   "execution_count": null,
   "id": "ea529d02",
   "metadata": {},
   "outputs": [],
   "source": []
  },
  {
   "cell_type": "code",
   "execution_count": null,
   "id": "866b252d",
   "metadata": {},
   "outputs": [],
   "source": []
  },
  {
   "cell_type": "code",
   "execution_count": null,
   "id": "5a0ca183",
   "metadata": {},
   "outputs": [],
   "source": []
  },
  {
   "cell_type": "code",
   "execution_count": null,
   "id": "560291be",
   "metadata": {},
   "outputs": [],
   "source": []
  },
  {
   "cell_type": "code",
   "execution_count": null,
   "id": "52678a6c",
   "metadata": {},
   "outputs": [],
   "source": []
  },
  {
   "cell_type": "code",
   "execution_count": null,
   "id": "a3588c9e",
   "metadata": {},
   "outputs": [],
   "source": []
  },
  {
   "cell_type": "code",
   "execution_count": null,
   "id": "5a3d79d9",
   "metadata": {},
   "outputs": [],
   "source": []
  },
  {
   "cell_type": "code",
   "execution_count": null,
   "id": "eb91a612",
   "metadata": {},
   "outputs": [],
   "source": []
  },
  {
   "cell_type": "code",
   "execution_count": null,
   "id": "52247b5b",
   "metadata": {},
   "outputs": [],
   "source": []
  },
  {
   "cell_type": "code",
   "execution_count": null,
   "id": "bc3e835f",
   "metadata": {},
   "outputs": [],
   "source": []
  },
  {
   "cell_type": "code",
   "execution_count": null,
   "id": "6af36b21",
   "metadata": {},
   "outputs": [],
   "source": []
  },
  {
   "cell_type": "code",
   "execution_count": null,
   "id": "f3490dd3",
   "metadata": {},
   "outputs": [],
   "source": []
  },
  {
   "cell_type": "code",
   "execution_count": null,
   "id": "695afe4a",
   "metadata": {},
   "outputs": [],
   "source": []
  },
  {
   "cell_type": "code",
   "execution_count": null,
   "id": "995b5fd5",
   "metadata": {},
   "outputs": [],
   "source": []
  }
 ],
 "metadata": {
  "kernelspec": {
   "display_name": "Python 3",
   "language": "python",
   "name": "python3"
  },
  "language_info": {
   "codemirror_mode": {
    "name": "ipython",
    "version": 3
   },
   "file_extension": ".py",
   "mimetype": "text/x-python",
   "name": "python",
   "nbconvert_exporter": "python",
   "pygments_lexer": "ipython3",
   "version": "3.8.10"
  }
 },
 "nbformat": 4,
 "nbformat_minor": 5
}
