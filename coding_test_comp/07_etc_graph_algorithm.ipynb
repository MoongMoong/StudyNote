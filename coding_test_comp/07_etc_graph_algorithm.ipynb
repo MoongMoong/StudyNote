{
 "cells": [
  {
   "cell_type": "markdown",
   "id": "753a8bb3",
   "metadata": {},
   "source": [
    "### 서로소 집합 자료구조\n",
    "- 서로소집합은 같은 원소를 공유하고 있지 않은 집합이다.\n",
    "  - 지원하는 연산\n",
    "    - Union : 두개의 원소가 포함된 집합을 하나로 합치는 연산 *입력은 원소, 연산대상은 집합인듯하다*\n",
    "    - Find : 특정 원소가 속한 집합을 찾아주는 연산"
   ]
  },
  {
   "cell_type": "code",
   "execution_count": 2,
   "id": "90110a3c",
   "metadata": {},
   "outputs": [],
   "source": [
    "# 기본구현\n",
    "def find_parent(parent, x):\n",
    "    if parent[x] != x:\n",
    "        return find_parent(parent, parent[x])\n",
    "    return x\n",
    "\n",
    "## 경로 압축 -> 사실상 갱신시스템\n",
    "def find_parent(parent, x):\n",
    "    if parent[x] != x:\n",
    "        parent[x] = find_parent(parent, parent[x])\n",
    "    return parent[x]\n",
    "\n",
    "def union_parent(parent, a, b):\n",
    "    a = find_parent(parent,a)\n",
    "    b = find_parent(parent, b)\n",
    "    if a< b:\n",
    "        parent[b] = a\n",
    "    else:\n",
    "        parent[a] = b\n",
    "            "
   ]
  },
  {
   "cell_type": "markdown",
   "id": "c072f24d",
   "metadata": {},
   "source": [
    "#### 서로소 집합의 사용은 '무방향 그래프 내에서의 사이클을 판별' 하는 용도\n",
    "- 알고리즘\n",
    "  - 각 간선을 하나씩 확인하여 두 노드의 루트 노드를 확인\n",
    "    - 루트 노드가 서로 다르면 두 노드에 대해 합집합 연산을 수행\n",
    "    - 루트 노드가 서로 같다면 Cycle이 발생  이럼 대충 삼각형(사각형이든 뭐든 한바퀴 도는) 관계가 하나 생기는것이다.\n",
    "  - 그래프의 모든 노드에 대해 1번 과정을 반복\n",
    "##### 신장 트리\n",
    "- 그래프의 모든 노드가 포함되면서 사이클이 좋재하지 않는 부분 그래프\n",
    "  - 이걸 '최소 신장트리'문제라 할 수 있다.\n",
    "  - 대충 heapq를 바탕으로 찾으면 될거같은데 크루스칼 알고리즘을 알아두면 응용할 수 있을지도 모른다\n",
    "  \n",
    "- 크루스칼 알고리즘\n",
    "  - 그리디알고리즘\n",
    "  - 알고리즘\n",
    "    - 간선 데이터를 비용에 따라 오름차순 정렬\n",
    "    - 간선을 하나씩 확인하며 싸이클이 발생하는지 확인\n",
    "      - 발생안하면 포함, 발생하면 미포함\n",
    "    - 모든 간선에 대해서 위의 확인을 수행\n",
    "  - 이게 heapq를 바탕으로 그래프 다이제스트 알고리즘보다 나은점은 sort를 맨 처음 한번만 해도 된다는 것이다. 근데 사실 한번씩은 접근을 다 한다는 부분에서 함수 콜을 최소화한다는 장점말고 기본 연산량은 같을 것이다."
   ]
  },
  {
   "cell_type": "markdown",
   "id": "a25923cb",
   "metadata": {},
   "source": [
    "###   위상정렬\n",
    "- 사이클이 없 는 방향 그래프의 모든 노드를 방향성을 거스르지 않도록 순서대로 나열하는 것을 의미\n",
    "\n",
    "- 그래프 관련 지식\n",
    "  - 진입차수(Indegree) 특정 노드로 들어오는 간선 개수\n",
    "  - 진출차수(Outdegree) 특정 노드에서 나가는 간선의 개수\n",
    "\n",
    "- 위상정렬의 특징\n",
    "  - DAG(direct acyclic graph) 순환이 없는 방향 그래프 에서만 수행가능\n",
    "  - 위상 정렬에는 여러 답이 존재할 수 잇다.\n",
    "  - 모든 원소를 방문하기 전에 큐가 빈다면 사이클이 존재한다고 판단 가능\n",
    "    - 사이클에 포함된 원소 중에서 어떤 원소도 들어가지 못함\n",
    "  - 스택을 활용한 DFS를 이용해 위상 정렬을 수행할  수 있음, Queue를 이용하면 BFS"
   ]
  },
  {
   "cell_type": "code",
   "execution_count": null,
   "id": "cc04b183",
   "metadata": {},
   "outputs": [],
   "source": []
  }
 ],
 "metadata": {
  "kernelspec": {
   "display_name": "Python 3",
   "language": "python",
   "name": "python3"
  },
  "language_info": {
   "codemirror_mode": {
    "name": "ipython",
    "version": 3
   },
   "file_extension": ".py",
   "mimetype": "text/x-python",
   "name": "python",
   "nbconvert_exporter": "python",
   "pygments_lexer": "ipython3",
   "version": "3.8.10"
  }
 },
 "nbformat": 4,
 "nbformat_minor": 5
}
