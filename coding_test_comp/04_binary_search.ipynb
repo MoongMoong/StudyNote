{
 "cells": [
  {
   "cell_type": "markdown",
   "id": "fb30cc30",
   "metadata": {},
   "source": [
    "### 정렬을 했으면 당연히 이어질 탐색이 있다.\n",
    "- Search는 크게 이진탐색, 순차 탐색이 있다.\n",
    "  - 순차탐색은 그냥 순서대로 비교검색\n",
    "  - 이진탐색은 정렬이 되어있는 array에서 반씩 잘라가면서 탐색하는 것이다."
   ]
  },
  {
   "cell_type": "code",
   "execution_count": 1,
   "id": "b9985a1a",
   "metadata": {},
   "outputs": [],
   "source": [
    "def binary_search(array, target, start, end):\n",
    "    if start > end:\n",
    "        return None\n",
    "    mid = (staret + end) // 2\n",
    "    if array[mid] == target:\n",
    "        return mid\n",
    "    elif array[mid] > target:\n",
    "        return binary_search(array, target, start, mid - 1)\n",
    "    else:\n",
    "        return binary_search(array, target, mid + 1, end)\n",
    "    "
   ]
  },
  {
   "cell_type": "code",
   "execution_count": 2,
   "id": "070d3bf4",
   "metadata": {},
   "outputs": [
    {
     "name": "stdout",
     "output_type": "stream",
     "text": [
      "2\n",
      "4\n"
     ]
    }
   ],
   "source": [
    "from bisect import bisect_left, bisect_right\n",
    "\n",
    "a = [1,2,4,4,8]\n",
    "x= 4\n",
    "print(bisect_left(a, x))\n",
    "print(bisect_right(a, x))"
   ]
  },
  {
   "cell_type": "code",
   "execution_count": 5,
   "id": "314fcd1d",
   "metadata": {},
   "outputs": [
    {
     "name": "stdout",
     "output_type": "stream",
     "text": [
      "8\n"
     ]
    }
   ],
   "source": [
    "## 응용해서 특정 범위 안에 들어있는 데이터의 개수\n",
    "\n",
    "\n",
    "a = [1,2,2,3,3,4,4,5,6,7,7,8,8,9,9,9]\n",
    "def count_by_ranmge(a, lv, rv):\n",
    "    right_index = bisect_right(a, rv)\n",
    "    left_index = bisect_left(a, lv)\n",
    "    return right_index - left_index\n",
    "\n",
    "print(count_by_ranmge(a, 4, 8))"
   ]
  },
  {
   "cell_type": "markdown",
   "id": "46e0cbfa",
   "metadata": {},
   "source": [
    "### 그런 어떤 식으로문제가 나오게 되느냐 바로 파라메트릭 서치\n",
    "- Parametric Search(파라메트릭 서치)\n",
    "  - 최적화 문제를 결정 문제로 바꾸어 해결하는 기법이다.\n",
    "  - 뭔가 특정 값을 찾는 문제 + 입력 값이 무식하게 큰 문제에 대해서 적합한 알고리즘"
   ]
  },
  {
   "cell_type": "code",
   "execution_count": 22,
   "id": "6f30d315",
   "metadata": {},
   "outputs": [],
   "source": [
    "# Example 떡볶이 떡 만들기\n",
    "N = 4\n",
    "M = 6\n",
    "a = [19,15,10,17]\n",
    "\n",
    "def ans(N, M, a):\n",
    "    target = M\n",
    "    start = 0\n",
    "    end = 1e9\n",
    "    ans = 0\n",
    "    while start <= end:\n",
    "        mid = (start + end) // 2\n",
    "        print(mid)\n",
    "        res = 0\n",
    "        for l in a:\n",
    "            t = l - mid if l > mid else 0\n",
    "            res += t\n",
    "        if res >= target:\n",
    "            start = mid + 1\n",
    "            ans = mid\n",
    "        else:\n",
    "            end = mid - 1\n",
    "        print(ans, start, end)\n",
    "    return ans"
   ]
  },
  {
   "cell_type": "code",
   "execution_count": 23,
   "id": "ae2385af",
   "metadata": {},
   "outputs": [
    {
     "name": "stdout",
     "output_type": "stream",
     "text": [
      "500000000.0\n",
      "0 0 499999999.0\n",
      "249999999.0\n",
      "0 0 249999998.0\n",
      "124999999.0\n",
      "0 0 124999998.0\n",
      "62499999.0\n",
      "0 0 62499998.0\n",
      "31249999.0\n",
      "0 0 31249998.0\n",
      "15624999.0\n",
      "0 0 15624998.0\n",
      "7812499.0\n",
      "0 0 7812498.0\n",
      "3906249.0\n",
      "0 0 3906248.0\n",
      "1953124.0\n",
      "0 0 1953123.0\n",
      "976561.0\n",
      "0 0 976560.0\n",
      "488280.0\n",
      "0 0 488279.0\n",
      "244139.0\n",
      "0 0 244138.0\n",
      "122069.0\n",
      "0 0 122068.0\n",
      "61034.0\n",
      "0 0 61033.0\n",
      "30516.0\n",
      "0 0 30515.0\n",
      "15257.0\n",
      "0 0 15256.0\n",
      "7628.0\n",
      "0 0 7627.0\n",
      "3813.0\n",
      "0 0 3812.0\n",
      "1906.0\n",
      "0 0 1905.0\n",
      "952.0\n",
      "0 0 951.0\n",
      "475.0\n",
      "0 0 474.0\n",
      "237.0\n",
      "0 0 236.0\n",
      "118.0\n",
      "0 0 117.0\n",
      "58.0\n",
      "0 0 57.0\n",
      "28.0\n",
      "0 0 27.0\n",
      "13.0\n",
      "13.0 14.0 27.0\n",
      "20.0\n",
      "13.0 14.0 19.0\n",
      "16.0\n",
      "13.0 14.0 15.0\n",
      "14.0\n",
      "14.0 15.0 15.0\n",
      "15.0\n",
      "15.0 16.0 15.0\n"
     ]
    },
    {
     "data": {
      "text/plain": [
       "15.0"
      ]
     },
     "execution_count": 23,
     "metadata": {},
     "output_type": "execute_result"
    }
   ],
   "source": [
    "ans(N, M, a)"
   ]
  },
  {
   "cell_type": "code",
   "execution_count": 24,
   "id": "31330229",
   "metadata": {},
   "outputs": [
    {
     "data": {
      "text/plain": [
       "4"
      ]
     },
     "execution_count": 24,
     "metadata": {},
     "output_type": "execute_result"
    }
   ],
   "source": [
    "from bisect import bisect_left, bisect_right\n",
    "\n",
    "\n",
    "ans = lambda a, x : bisect_right(a, x) - bisect_left(a, x)\n",
    "\n",
    "ans([1,1,2,2,2,2,3], 2)\n",
    "\n"
   ]
  },
  {
   "cell_type": "code",
   "execution_count": null,
   "id": "49ccd59a",
   "metadata": {},
   "outputs": [],
   "source": []
  }
 ],
 "metadata": {
  "kernelspec": {
   "display_name": "Python 3",
   "language": "python",
   "name": "python3"
  },
  "language_info": {
   "codemirror_mode": {
    "name": "ipython",
    "version": 3
   },
   "file_extension": ".py",
   "mimetype": "text/x-python",
   "name": "python",
   "nbconvert_exporter": "python",
   "pygments_lexer": "ipython3",
   "version": "3.8.10"
  }
 },
 "nbformat": 4,
 "nbformat_minor": 5
}
