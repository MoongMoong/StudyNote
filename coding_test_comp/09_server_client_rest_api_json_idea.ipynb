{
 "cells": [
  {
   "cell_type": "markdown",
   "id": "fd401508",
   "metadata": {},
   "source": [
    "## 서비스를 제공하려면 꼭 알아야 하는 개념들을 정리해보자\n",
    "- Server : 클라이언트가 요청(Request)을 보내면 응답(Response)를 하는 주체이다.\n",
    "  - 즉, 서비스 제공자이다\n",
    "- Client : 서버로부터 응답을 받고, 응답 결과를 출력하는 역할을 한다\n",
    "\n",
    "### 통신 개념\n",
    "- HTTP 개요\n",
    "  - HTTP(hypter Text Transfer Protocol) : 웹 상에서 데이터를 주고받기 위한 프로토콜\n",
    "    - 보통은 웹 문서(html파일)을 주고받는데 사용\n",
    "    - 모바일 앱 및 게임 개발등에서 특정 형식의 데이터를 주고받는 용도로 사용\n",
    "  - 클라이언트는 요청의 목적에 따라서 적절한 HTTP메서드를 이용해 통신을 진행한다. 아래가 대표적이며 이러한 형식을 지킬것을 권장한다\n",
    "    - GET : 특정 데이터의 조회\n",
    "    - POST : 특정 데이터의 생성\n",
    "    - PUT : 특정 데이터의 수정\n",
    "    - DELETE : 특정 데이터의 삭제"
   ]
  },
  {
   "cell_type": "code",
   "execution_count": 5,
   "id": "24154408",
   "metadata": {},
   "outputs": [],
   "source": [
    "import requests\n",
    "\n",
    "\n",
    "target = \"http://google.com\"\n",
    "res = requests.get(url=target)\n",
    "# print(res.text)\n"
   ]
  },
  {
   "cell_type": "markdown",
   "id": "d9c810c0",
   "metadata": {},
   "source": [
    "### REST API, JSON\n",
    "\"오프라인 코딩 테스트에서는 Json format의 데이터에 응답하는 rest api를 활용해야함 즉, rest api호출과 json format데이터를 파싱하기 위한 코드를 미리 준비해 오기를 바람\"\n",
    "\n",
    ": 위와같은 시대에서 REST가 등장한 배경부터 알아보자\n",
    "\n",
    "- HTTP는 통신을 할때 규격화를안하면 개발에 혼란이 발생하기 쉽기 때문에 등장한 개념\n",
    "  - REST(Representational State Transfer)는 각 자원에 대해 자원의 상태에 대한 정보를 주고받는 개발방식이다.\n",
    "  - REST의 구성요소\n",
    "    - Resource : URI\n",
    "    - Verb : HTTP 메서트를이용\n",
    "    - Representations : 페이지로드를 이용\n",
    "  \n",
    "  - REST API : REST아키텍처를 따르는 API\n",
    "    - API(Application programming interface) 프로그램이 상호작용을 하기 위한 인터페이스\n",
    "    - REST API 호출 : REST방식을 따르고 있는 서버에 특정한 요청을 전송하는 것을 의미\n",
    "      - 이때 보내는 포멧이 JSON : dict와 매우 유사함\n",
    "      - indent 옵션은 꼭 기억해두자\n",
    "\n",
    "with open(\"user.json\", 'w\", encoding=\"utf-8\") as file:\n",
    "    json_data = json.dump(user, file, indent = 4)\n"
   ]
  },
  {
   "cell_type": "code",
   "execution_count": 6,
   "id": "ae0e115e",
   "metadata": {},
   "outputs": [
    {
     "name": "stdout",
     "output_type": "stream",
     "text": [
      "{\n",
      "    \"id\": \"gildong\",\n",
      "    \"password\": \"1!2@3#4$\",\n",
      "    \"age\": 30,\n",
      "    \"hoppy\": [\n",
      "        \"football\",\n",
      "        \"programming\"\n",
      "    ]\n",
      "}\n"
     ]
    }
   ],
   "source": [
    "# example\n",
    "import json\n",
    "user = {\n",
    "    \"id\" : \"gildong\",\n",
    "    \"password\" : \"1!2@3#4$\",\n",
    "    \"age\" : 30,\n",
    "    \"hoppy\" : [\"football\", \"programming\"]\n",
    "}\n",
    "json_data =json.dumps(user, indent = 4)\n",
    "print(json_data)"
   ]
  },
  {
   "cell_type": "code",
   "execution_count": 13,
   "id": "e59202f6",
   "metadata": {},
   "outputs": [
    {
     "name": "stdout",
     "output_type": "stream",
     "text": [
      "{'id': 1, 'name': 'Leanne Graham', 'username': 'Bret', 'email': 'Sincere@april.biz', 'address': {'street': 'Kulas Light', 'suite': 'Apt. 556', 'city': 'Gwenborough', 'zipcode': '92998-3874', 'geo': {'lat': '-37.3159', 'lng': '81.1496'}}, 'phone': '1-770-736-8031 x56442', 'website': 'hildegard.org', 'company': {'name': 'Romaguera-Crona', 'catchPhrase': 'Multi-layered client-server neural-net', 'bs': 'harness real-time e-markets'}}\n",
      "{\n",
      "  \"id\": 1,\n",
      "  \"name\": \"Leanne Graham\",\n",
      "  \"username\": \"Bret\",\n",
      "  \"email\": \"Sincere@april.biz\",\n",
      "  \"address\": {\n",
      "    \"street\": \"Kulas Light\",\n",
      "    \"suite\": \"Apt. 556\",\n",
      "    \"city\": \"Gwenborough\",\n",
      "    \"zipcode\": \"92998-3874\",\n",
      "    \"geo\": {\n",
      "      \"lat\": \"-37.3159\",\n",
      "      \"lng\": \"81.1496\"\n",
      "    }\n",
      "  },\n",
      "  \"phone\": \"1-770-736-8031 x56442\",\n",
      "  \"website\": \"hildegard.org\",\n",
      "  \"company\": {\n",
      "    \"name\": \"Romaguera-Crona\",\n",
      "    \"catchPhrase\": \"Multi-layered client-server neural-net\",\n",
      "    \"bs\": \"harness real-time e-markets\"\n",
      "  }\n",
      "}\n"
     ]
    }
   ],
   "source": [
    "src = \"https://jsonplaceholder.typicode.com/users/1\"\n",
    "\n",
    "import requests\n",
    "\n",
    "res = requests.get(src)\n",
    "print(res.json()) # json()는 메소드\n",
    "print(res.text) # 텍스트는 원소"
   ]
  },
  {
   "cell_type": "code",
   "execution_count": null,
   "id": "952b7d5f",
   "metadata": {},
   "outputs": [],
   "source": []
  }
 ],
 "metadata": {
  "kernelspec": {
   "display_name": "Python 3",
   "language": "python",
   "name": "python3"
  },
  "language_info": {
   "codemirror_mode": {
    "name": "ipython",
    "version": 3
   },
   "file_extension": ".py",
   "mimetype": "text/x-python",
   "name": "python",
   "nbconvert_exporter": "python",
   "pygments_lexer": "ipython3",
   "version": "3.8.10"
  }
 },
 "nbformat": 4,
 "nbformat_minor": 5
}
