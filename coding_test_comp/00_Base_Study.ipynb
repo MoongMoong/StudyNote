{
 "cells": [
  {
   "cell_type": "markdown",
   "id": "5a9267f2",
   "metadata": {},
   "source": [
    "### 코딩 테스트 공부\n",
    "#### 코딩테스트에서 꼭 알아야하는 기본적인 정보\n",
    " - 프로그램의 평가는 기본적으로 **복잡도(Complexity)** 가 중요하다\n",
    "   - 시간 복잡도 : 특정 크기의 입력에 대해 알고리즈므이 수행 시간 분석 (빠르게 처리되는게 좋다)\n",
    "     - **Big-) Notation** : 함수의 가장 큰 계수를 갖는 항을 남긴다 *O(N^3)* 같은 표기\n",
    "       - 참고로 1 < log(N) < N < N log(N) < N^2 < N^3 < 2^N\n",
    "     - 대충 코딩테스트에서 시간이 1 ~ 5초가 주어지는데, 연산횟수 5억정도에서 5 ~ 15초가 주어진다 즉 이를 바탕으로 N의 범위에 따라 알고리즘이 한정된다\n",
    "       - N의 범위가 500 : N^3\n",
    "       - N의 범위가 2000 : N^2\n",
    "       - N의 범위가 100,000 : N log N\n",
    "       - N의 범위가 10,000,000 : N \n",
    "   - 공간 복잡도 : 같은 양의 데이터에 대해 메모리의 사용 분석 (적은 메모리를 쓰는게 좋다)\n",
    "   "
   ]
  },
  {
   "cell_type": "markdown",
   "id": "e5dcef56",
   "metadata": {},
   "source": [
    "### 숫자 & 자료형\n",
    "- 정수, 실수, char 등이 있다.\n",
    "  - IEEE754 표준이라는 가장 대세인 표준에서 4byte, 8byte의 고정된 크기를 할당한다 그래서 각 값들이 정확하지 않다"
   ]
  },
  {
   "cell_type": "code",
   "execution_count": 5,
   "id": "3a022587",
   "metadata": {},
   "outputs": [
    {
     "name": "stdout",
     "output_type": "stream",
     "text": [
      "False\n",
      "True\n",
      "0.5556\n"
     ]
    }
   ],
   "source": [
    "print(0.3 + 0.6 == 0.9) # 이렇게 오류가 발생하기 쉽다. 실수끼리 비교하지 말자\n",
    "# 반올림해서 쓸수있긴한데 좀 애매하긴하다\n",
    "\n",
    "print(round(0.3 + 0.6, 4) == round(0.9, 4))\n",
    "print(round(5/9, 4)) # 유효 4자리 남긴다"
   ]
  },
  {
   "cell_type": "code",
   "execution_count": 1,
   "id": "026fbdc2",
   "metadata": {},
   "outputs": [
    {
     "name": "stdout",
     "output_type": "stream",
     "text": [
      "1000000000.0\n",
      "<class 'float'>\n"
     ]
    }
   ],
   "source": [
    "a = 1e9\n",
    "print(a)\n",
    "print(type(a))\n",
    "# 만약 실수가 아닌 int의 inf로 사용하고자 하면 int(1e9)로 정의하면 좋다\n"
   ]
  },
  {
   "cell_type": "markdown",
   "id": "bb94d263",
   "metadata": {},
   "source": [
    "### List\n",
    "  - 파이썬은 slicing이 기본으로 제공되지만 다른데에서는 제공되지 않는다.\n",
    "  - 주소값이 난리날 수 있으니 참조할때 조심하자\n",
    "  - 메서드\n",
    "    - append()맨뒤에 추가 복잡도 1\n",
    "    - sort() 기본적으로는 오름차순 reverse =True로하면 내림차순, 시간복잡도는 NlogN\n",
    "    - insert 특정 위치에 삽입할때 사용하는데 시간복잡도는 N\n",
    "    - count  특정 값의 개수 시간복잡도는 N\n",
    "    - remove :특정 값을 하나 삭제 : 시간복잡도는 N (단, 하나만 제거되는걸 꼭 기억하자)\n",
    "  "
   ]
  },
  {
   "cell_type": "code",
   "execution_count": 6,
   "id": "e25ef67e",
   "metadata": {},
   "outputs": [
    {
     "data": {
      "text/plain": [
       "[0, 1, 4, 3, 16, 5, 36, 7, 64, 9]"
      ]
     },
     "execution_count": 6,
     "metadata": {},
     "output_type": "execute_result"
    }
   ],
   "source": [
    "a= [i if i%2 == 1 else i**2 for i in range(10) ]\n",
    "a"
   ]
  },
  {
   "cell_type": "code",
   "execution_count": 11,
   "id": "ac51d26c",
   "metadata": {},
   "outputs": [
    {
     "name": "stdout",
     "output_type": "stream",
     "text": [
      "[[0, 0, 0], [0, 0, 0], [0, 0, 0], [0, 0, 0]]\n",
      "[[1, 0, 0], [0, 0, 0], [0, 0, 0], [0, 0, 0]]\n",
      "아래처럼 하면 망한다. list를 복제하지 말자\n",
      "[[0, 0, 0], [0, 0, 0], [0, 0, 0], [0, 0, 0]]\n",
      "[[1, 0, 0], [1, 0, 0], [1, 0, 0], [1, 0, 0]]\n"
     ]
    }
   ],
   "source": [
    "m = 3\n",
    "n = 4\n",
    "ls = [[0] * m for _ in range(n)]\n",
    "print(ls)\n",
    "ls[0][0] = 1\n",
    "print(ls)\n",
    "print(\"아래처럼 하면 망한다. list를 복제하지 말자\")\n",
    "ls = [[0]*m]*n\n",
    "print(ls)\n",
    "ls[0][0] = 1\n",
    "print(ls)"
   ]
  },
  {
   "cell_type": "markdown",
   "id": "760e6d90",
   "metadata": {},
   "source": [
    "##### 아래처럼 dic을 활용하면 remove보다 편안하게 가능\n",
    "- dic의 keyword는 hashing-key를 넣게 되어있어서 매우 빠르게 접근이 가능, 사전정의된 파이썬 변수들과 튜플을 입력할 수 있다"
   ]
  },
  {
   "cell_type": "code",
   "execution_count": 10,
   "id": "3e92f90b",
   "metadata": {},
   "outputs": [
    {
     "name": "stdout",
     "output_type": "stream",
     "text": [
      "[1, 2, 4]\n"
     ]
    }
   ],
   "source": [
    "a = [1,2,3,4,5,5,5]\n",
    "remove_set = {3, 5}\n",
    "result = [i for i in a if i not in remove_set]\n",
    "print(result)"
   ]
  },
  {
   "cell_type": "code",
   "execution_count": 17,
   "id": "4ffede56",
   "metadata": {},
   "outputs": [
    {
     "name": "stdout",
     "output_type": "stream",
     "text": [
      "{'as': 123, 1: 321, (1, 2, 3): 4}\n",
      "['as', 1, (1, 2, 3)]\n",
      "{'as': 123, 1: 321, (1, 2, 3): 4}\n"
     ]
    }
   ],
   "source": [
    "a = dict()\n",
    "a['as'] = 123\n",
    "a[1] = 321\n",
    "# 참고로 요런 리스트가 포함된 튜플은 안됨 ex) a[([1,2], 3)] = 4\n",
    "a[(1,2, 3)] = 4\n",
    "print(a)\n",
    "print(list(a.keys()))\n",
    "b = {\n",
    "    'as': 123, \n",
    "    1: 321, \n",
    "    (1, 2, 3): 4\n",
    "}\n",
    "print(b)\n"
   ]
  },
  {
   "cell_type": "markdown",
   "id": "20173f69",
   "metadata": {},
   "source": [
    "### set(집합)이라는 자료형도 상당히 유용함\n",
    "- 중복객체를 한번에 정리가 가능\n",
    "  - set(list), {1,2,3} 이런식으로 정의가 가능\n",
    "  - add(단일 추가 원소), update(리스트형 추가 원소들)\n",
    "  - remove(특정 원소 삭제)\n",
    "  "
   ]
  },
  {
   "cell_type": "code",
   "execution_count": 23,
   "id": "1ded14fc",
   "metadata": {},
   "outputs": [
    {
     "name": "stdout",
     "output_type": "stream",
     "text": [
      "{1, 2, 3}\n",
      "{1, 2, 3, 4}\n",
      "{1, 2, 3, 4}\n",
      "{1, 2, 3, 4, 7, 8}\n",
      "{1, 2, 3, 4, 8}\n"
     ]
    }
   ],
   "source": [
    "a = set([1,2,3,3])\n",
    "print(a)\n",
    "a.add(4)\n",
    "print(a)\n",
    "a.add(3)\n",
    "print(a)\n",
    "a.update([7,8,8])\n",
    "print(a)\n",
    "# a.remove(10) 없는 원소는 안됨 에러뜸\n",
    "a.remove(7)\n",
    "print(a)"
   ]
  },
  {
   "cell_type": "markdown",
   "id": "d6035572",
   "metadata": {},
   "source": [
    "## 파이썬의 기본 입출력\n",
    "- 프로그램의 첫 단계는 데이터를 입력받는 것이다.\n",
    "  - input과 map을 많이 쓴다\n",
    "    - a = list(map(int, input().split())).sort()\n",
    "  - sys.stdin.readline().rstrip() 요거가 꿀 정보라고함. input보다 빠르고, rstrip으로 엔터를 제거\n",
    "    "
   ]
  },
  {
   "cell_type": "code",
   "execution_count": 25,
   "id": "24a58f85",
   "metadata": {},
   "outputs": [
    {
     "name": "stdout",
     "output_type": "stream",
     "text": [
      "요런 부등호질이 가능한 파이썬 10\n"
     ]
    }
   ],
   "source": [
    "x = 10\n",
    "if 0<x <20: print(f'요런 부등호질이 가능한 파이썬 {x}')"
   ]
  },
  {
   "cell_type": "markdown",
   "id": "a6b9ae45",
   "metadata": {},
   "source": [
    "### global 이 파이썬은 특이하게 작용한다\n",
    "- 접근 자체는 그냥 할 수 있다. method도 그냥 사용가능하다\n",
    "- 단, 수정을 하고자 할 때에는 global로 호출해야한다"
   ]
  },
  {
   "cell_type": "code",
   "execution_count": 38,
   "id": "f08c6d7a",
   "metadata": {},
   "outputs": [
    {
     "name": "stdout",
     "output_type": "stream",
     "text": [
      "20\n",
      "10\n",
      "12\n",
      "12\n"
     ]
    }
   ],
   "source": [
    "a = 10\n",
    "def tp():\n",
    "    return a+10\n",
    "print(tp())\n",
    "print(a)\n",
    "\n",
    "def tp2():\n",
    "    global a\n",
    "    a += 2\n",
    "    return a\n",
    "print(tp2())\n",
    "print(a)"
   ]
  },
  {
   "cell_type": "markdown",
   "id": "5662c471",
   "metadata": {},
   "source": [
    "## memoization\n",
    "- 똑같은거 반복계산하는건 사실 매우 비효율적이라 아래처럼 dict에 저장하면서 하는게 좋다."
   ]
  },
  {
   "cell_type": "code",
   "execution_count": 31,
   "id": "f4ee8a9e",
   "metadata": {},
   "outputs": [],
   "source": [
    "memo = dict()"
   ]
  },
  {
   "cell_type": "code",
   "execution_count": 34,
   "id": "4fd1b626",
   "metadata": {},
   "outputs": [],
   "source": [
    "def fibo_memo(memo, k):\n",
    "    if k in memo :\n",
    "        return memo[k]\n",
    "    if k == 1:\n",
    "        memo[k] = 0\n",
    "    elif k == 2 :\n",
    "        memo[k] = 1\n",
    "    else:\n",
    "        memo[k] = fibo_memo(memo, k-1) + fibo_memo(memo, k-2) \n",
    "    return memo[k]\n"
   ]
  },
  {
   "cell_type": "code",
   "execution_count": 36,
   "id": "5a4b8a8e",
   "metadata": {},
   "outputs": [
    {
     "name": "stdout",
     "output_type": "stream",
     "text": [
      "4181\n",
      "{2: 1, 1: 0, 3: 1, 4: 2, 5: 3, 6: 5, 7: 8, 8: 13, 9: 21, 10: 34, 11: 55, 12: 89, 13: 144, 14: 233, 15: 377, 16: 610, 17: 987, 18: 1597, 19: 2584, 20: 4181}\n"
     ]
    }
   ],
   "source": [
    "print(fibo_memo(memo, 20))\n",
    "print(memo)"
   ]
  },
  {
   "cell_type": "markdown",
   "id": "8b493693",
   "metadata": {},
   "source": [
    "### lambda랑 map은 매우 같이 잘논다"
   ]
  },
  {
   "cell_type": "code",
   "execution_count": 7,
   "id": "7590e132",
   "metadata": {},
   "outputs": [
    {
     "name": "stdout",
     "output_type": "stream",
     "text": [
      "[5, 7, 9, 11, 13]\n"
     ]
    }
   ],
   "source": [
    "a = [i for i in range(5)]\n",
    "b = [i for i in range(5,10)]\n",
    "result = list(map(lambda a, b: a+b, a, b))\n",
    "print(result)"
   ]
  },
  {
   "cell_type": "markdown",
   "id": "b275d6b7",
   "metadata": {},
   "source": [
    "### 유용한 표준 라이브러리를 일단 봐보자\n",
    "- 내장 함수 : 기본 입출력 함수부터 정렬 함수까지 기본적인 함수들을 제공하는데 진짜 중요하다\n",
    "- itertools : 파이썬에서 반복되는 형태의 데이터를 처리하기 위한 유용한 기능들을 제공 -> 순열과 조합 라이브러리는 코테의 단골\n",
    "- heapq : 이거는 진짜 중요\n",
    "- bisect : 이진탐색 라이브러리\n",
    "- collections : deque, counter가 매우 유용함\n",
    "- math : 팩토리얼 ,제곱근, 최대공약수, 삼각함수, 파이 등 쏠쏠함"
   ]
  },
  {
   "cell_type": "code",
   "execution_count": 13,
   "id": "7fd602aa",
   "metadata": {},
   "outputs": [
    {
     "name": "stdout",
     "output_type": "stream",
     "text": [
      "[1, 4, 5, 8, 9]\n",
      "[9, 8, 5, 4, 1]\n",
      "[('basd', 75), ('배고', 50), ('aaa', 35)]\n"
     ]
    }
   ],
   "source": [
    "result = sorted([9,1,8,5,4])\n",
    "reverse_result = sorted([9,1,8,5,4], reverse=True)\n",
    "print(result)\n",
    "print(reverse_result)\n",
    "\n",
    "array = [('aaa', 35),('basd', 75),('배고', 50)]\n",
    "result = sorted(array, key=lambda x: x[1], reverse=True)\n",
    "print(result)"
   ]
  },
  {
   "cell_type": "markdown",
   "id": "fbd34b6a",
   "metadata": {},
   "source": [
    "### 순열과 조합을 까먹어간다..\n",
    "- 순서가 의미있으면 순열(permutations), 순서가 의미없으면 조합(combinations)\n",
    "- 중복순열(product)과 중복조합(combinations_with_replacement)"
   ]
  },
  {
   "cell_type": "code",
   "execution_count": 17,
   "id": "c209092c",
   "metadata": {},
   "outputs": [
    {
     "name": "stdout",
     "output_type": "stream",
     "text": [
      "[('A', 'B'), ('A', 'C'), ('B', 'C')]\n",
      "[('A', 'B', 'C'), ('A', 'C', 'B'), ('B', 'A', 'C'), ('B', 'C', 'A'), ('C', 'A', 'B'), ('C', 'B', 'A')]\n"
     ]
    }
   ],
   "source": [
    "from itertools import combinations, permutations\n",
    "\n",
    "a = ['A', 'B', 'C']\n",
    "\n",
    "print(list(combinations(a, 2)))\n",
    "print(list(permutations(a, 3)))"
   ]
  },
  {
   "cell_type": "code",
   "execution_count": 18,
   "id": "6c07ae70",
   "metadata": {},
   "outputs": [],
   "source": [
    "from itertools import product, combinations_with_replacement\n",
    "\n"
   ]
  },
  {
   "cell_type": "markdown",
   "id": "f1f3274d",
   "metadata": {},
   "source": [
    "#### collections 라이브러리에서는 Couinter가 종종쓰인다\n"
   ]
  },
  {
   "cell_type": "code",
   "execution_count": 19,
   "id": "b2ae35a8",
   "metadata": {},
   "outputs": [
    {
     "name": "stdout",
     "output_type": "stream",
     "text": [
      "Counter({3: 4, 1: 3, 8: 2, 4: 1, 5: 1, 6: 1, 7: 1})\n"
     ]
    }
   ],
   "source": [
    "from collections import Counter\n",
    "\n",
    "a = [1,1,1,3,3,3,3,4,5,6,7,8,8]\n",
    "print(Counter(a))"
   ]
  },
  {
   "cell_type": "code",
   "execution_count": 23,
   "id": "f611835f",
   "metadata": {},
   "outputs": [
    {
     "name": "stdout",
     "output_type": "stream",
     "text": [
      "7\n",
      "98\n"
     ]
    }
   ],
   "source": [
    "import math\n",
    "a = 14\n",
    "b = 49\n",
    "\n",
    "print(math.gcd(a,b))\n",
    "print(a*b//math.gcd(a,b))\n",
    "\n"
   ]
  },
  {
   "cell_type": "code",
   "execution_count": null,
   "id": "e32faebc",
   "metadata": {},
   "outputs": [],
   "source": []
  }
 ],
 "metadata": {
  "kernelspec": {
   "display_name": "Python 3",
   "language": "python",
   "name": "python3"
  },
  "language_info": {
   "codemirror_mode": {
    "name": "ipython",
    "version": 3
   },
   "file_extension": ".py",
   "mimetype": "text/x-python",
   "name": "python",
   "nbconvert_exporter": "python",
   "pygments_lexer": "ipython3",
   "version": "3.8.10"
  }
 },
 "nbformat": 4,
 "nbformat_minor": 5
}
