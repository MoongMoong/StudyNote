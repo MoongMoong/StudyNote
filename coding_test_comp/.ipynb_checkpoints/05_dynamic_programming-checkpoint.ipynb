{
 "cells": [
  {
   "cell_type": "markdown",
   "id": "ca03e67f",
   "metadata": {},
   "source": [
    "### 이미 해결한 연산을 메모리에 적당히 저장해서 수행시간 효용성을 향상시키는 것이다.\n",
    "- 참고로 다이나믹 프로그래밍에서 다이나믹은 딱히 의미가 있는건 아니다.\n",
    "  - 최적 부분구조 (Optimal Substructure)\n",
    "    - 큰 문제를 작은 문제로 나눌 수 있으며 작은 문제의 답을 모아서 큰 문제를 해결하는 문제\n",
    "  - 중복되는 부분 문제 (Overlapping Subproblem)\n",
    "    - 동일한 작은 문제를 반복적으로 해결해야 하는 문제\n",
    "- 탑다운, 보텀업의 두가지 방식이 있다."
   ]
  },
  {
   "cell_type": "markdown",
   "id": "de0b9024",
   "metadata": {},
   "source": [
    "### Memoization : 대표적인 문제가 fibo 문제이다 이런 방식을 하향식이라하며 탑다운이라 부르기도 한다\n",
    "- 이런 결과 저장용 리스트를 DP테이블이라고 부른다. dynamic programming table의 약자인가 싶기도 하다\n",
    "  -  솔직히 dp에서만 쓰는 개념은 아니고 cach나 memoization을 적용했따고 한다.\n",
    "  -  핵심은 DP와 Memoization은 다른거다"
   ]
  },
  {
   "cell_type": "code",
   "execution_count": 2,
   "id": "ef5eef17",
   "metadata": {},
   "outputs": [
    {
     "name": "stdout",
     "output_type": "stream",
     "text": [
      "6765\n"
     ]
    }
   ],
   "source": [
    "d = [0]*100\n",
    "def fibo(x):\n",
    "    if x==1 or x ==2:\n",
    "        return 1\n",
    "    if d[x] != 0:\n",
    "        return d[x]\n",
    "    d[x] = fibo(x -1) + fibo(x-2)\n",
    "    return d[x]\n",
    "\n",
    "print(fibo(20))"
   ]
  },
  {
   "cell_type": "code",
   "execution_count": 8,
   "id": "c529750d",
   "metadata": {},
   "outputs": [
    {
     "name": "stdout",
     "output_type": "stream",
     "text": [
      "[1, 1, 2, 3, 5, 8, 13, 21, 34, 55, 89, 144, 233, 377, 610, 987, 1597, 2584, 4181, 6765, 0, 0, 0, 0, 0, 0, 0, 0, 0, 0, 0, 0, 0, 0, 0, 0, 0, 0, 0, 0, 0, 0, 0, 0, 0, 0, 0, 0, 0, 0, 0, 0, 0, 0, 0, 0, 0, 0, 0, 0, 0, 0, 0, 0, 0, 0, 0, 0, 0, 0, 0, 0, 0, 0, 0, 0, 0, 0, 0, 0, 0, 0, 0, 0, 0, 0, 0, 0, 0, 0, 0, 0, 0, 0, 0, 0, 0, 0, 0, 0]\n",
      "6765\n"
     ]
    }
   ],
   "source": [
    "# 바텀업 방식은 작은 문제부터 해결해나가는것이다\n",
    "\n",
    "def fibo_bu(x):\n",
    "    d = [0]*100\n",
    "    for i in range(x):\n",
    "        if i < 2:\n",
    "            d[i] = 1\n",
    "        else:\n",
    "            d[i] = d[i-1] +d[i-2]\n",
    "    print(d)\n",
    "    return d[x-1]\n",
    "print(fibo_bu(20))        "
   ]
  },
  {
   "cell_type": "markdown",
   "id": "81b7cd7d",
   "metadata": {},
   "source": [
    "## DP 와 부분정복(ex : quick sort)\n",
    "- 공통점은 작은 문제의 해결을 모아 큰 문제를 해결하는 방식이라는점"
   ]
  },
  {
   "cell_type": "code",
   "execution_count": 9,
   "id": "5fa838fb",
   "metadata": {},
   "outputs": [],
   "source": [
    "from collections import deque\n",
    "def ans(x):\n",
    "    options = [\n",
    "        lambda x : x%5 == 0,\n",
    "        lambda x : x%3 == 0,\n",
    "        lambda x : x%2 == 0,\n",
    "        lambda x : True\n",
    "    ]\n",
    "    actions = [\n",
    "        lambda x : x//5,\n",
    "        lambda x : x//3,\n",
    "        lambda x : x//2,\n",
    "        lambda x : x-1\n",
    "    ]\n",
    "    dic = dict()\n",
    "    queue = deque([x])\n",
    "    dic[x] = 0\n",
    "    while queue:\n",
    "        k = queue.popleft()\n",
    "        for option, action in zip(options, actions):\n",
    "            if option(k):\n",
    "                nk = action(k)\n",
    "                if nk < 1:\n",
    "                    continue\n",
    "                if nk not in dic or dic[nk] > dic[k] + 1:\n",
    "                    dic[nk] = dic[k] + 1\n",
    "                    queue.append(nk)\n",
    "    return dic[1]"
   ]
  },
  {
   "cell_type": "code",
   "execution_count": 2,
   "id": "a061c48f",
   "metadata": {},
   "outputs": [],
   "source": [
    "def ans(N,M,array):\n",
    "    mina = min(array)\n",
    "    if M < mina:\n",
    "        return -1\n",
    "    dic = dict()\n",
    "    for i in array:\n",
    "        dic[i] = 1\n",
    "    for i in range(mina, M+1):\n",
    "        for j in array:\n",
    "            if i not in dic:\n",
    "                if i - j in dic:\n",
    "                    dic[i] = dic[i - j] + 1\n",
    "            else:\n",
    "                if i - j in dic:\n",
    "                    dic[i] = min(dic[i], dic[i - j] + 1)\n",
    "    return dic.get(i, -1)\n",
    "    mina = min(array)\n",
    "    if M < mina:\n",
    "        return -1\n",
    "    dic = dict()\n",
    "    for i in array:\n",
    "        dic[i] = 1\n",
    "    for i in range(mina, M+1):\n",
    "        for j in array:\n",
    "            if i not in dic:\n",
    "                if i - j in dic:\n",
    "                    dic[i] = dic[i - j] + 1\n",
    "            else:\n",
    "                if i - j in dic:\n",
    "                    dic[i] = min(dic[i], dic[i - j] + 1)\n",
    "    return dic.get(i, -1)"
   ]
  },
  {
   "cell_type": "code",
   "execution_count": null,
   "id": "2ce8a839",
   "metadata": {},
   "outputs": [],
   "source": [
    "# 대단히 유명한 가장 긴 증가하는 부분수열 이라는 알고리즘이 있다.\n",
    "# D[i] = array[i]를 마지막으로 원소로 가지는 부분 수열의 최대 길이\n",
    "# D[i] = max(D[i], D[j] + 1) if array[j] < array[i]\n",
    "# 기억을 더듬어보면 이거 주식 상승수 체크하는것과 비슷"
   ]
  },
  {
   "cell_type": "code",
   "execution_count": 4,
   "id": "2e2a6292",
   "metadata": {},
   "outputs": [
    {
     "name": "stdout",
     "output_type": "stream",
     "text": [
      "[1, 2, 3, 3, 4, 5, 5]\n"
     ]
    },
    {
     "data": {
      "text/plain": [
       "5"
      ]
     },
     "execution_count": 4,
     "metadata": {},
     "output_type": "execute_result"
    }
   ],
   "source": [
    "array = [15, 11, 4, 8, 5, 2, 4]\n",
    "\n",
    "def ans(array):\n",
    "    D = [1] * len(array)\n",
    "    for i in range(1, len(array)):\n",
    "        for j in range(i):\n",
    "            D[i] = max(D[i], D[j] + 1) if array[i] < array[j] else D[i]\n",
    "    print(D)\n",
    "    return(max(D))\n",
    "\n",
    "ans(array)\n",
    "    "
   ]
  },
  {
   "cell_type": "code",
   "execution_count": null,
   "id": "bdeefa97",
   "metadata": {},
   "outputs": [],
   "source": []
  }
 ],
 "metadata": {
  "kernelspec": {
   "display_name": "Python 3",
   "language": "python",
   "name": "python3"
  },
  "language_info": {
   "codemirror_mode": {
    "name": "ipython",
    "version": 3
   },
   "file_extension": ".py",
   "mimetype": "text/x-python",
   "name": "python",
   "nbconvert_exporter": "python",
   "pygments_lexer": "ipython3",
   "version": "3.8.10"
  }
 },
 "nbformat": 4,
 "nbformat_minor": 5
}
