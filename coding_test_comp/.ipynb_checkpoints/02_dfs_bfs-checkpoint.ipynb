{
 "cells": [
  {
   "cell_type": "markdown",
   "id": "35995899",
   "metadata": {},
   "source": [
    "## 그래프탐색은 가장 중요한 문제유형이다\n",
    "- 데이터 구조를 먼저 체크하면\n",
    "  - stack은 먼저들어온걸 맨 마지막에 빼내는 상자쌓기 느낌의 데이터구조인데\n",
    "  - python에서는 list가 append, pop에서 그냥 사용할 수 있다.\n",
    "  - 근데 이게 느려서 collections의 deque를 쓰던거로 기억한다\n",
    "    - 당연히 이름부터 다르듯 deque 구조이다.\n",
    "    - queue 는 먼저들어간게 먼저 나가는 구조인데 deque는 양쪽에서 나갈 수 있다. popleft라는 method가 생긴다\n",
    "    - 넣는건 똑같이 append를 쓸 수 있다."
   ]
  },
  {
   "cell_type": "code",
   "execution_count": 6,
   "id": "cce66f87",
   "metadata": {},
   "outputs": [
    {
     "name": "stdout",
     "output_type": "stream",
     "text": [
      "deque([1, 2])\n",
      "1\n",
      "deque([2])\n"
     ]
    }
   ],
   "source": [
    "from collections import deque\n",
    "a = deque()\n",
    "a.append(1)\n",
    "a.append(2)\n",
    "print(a)\n",
    "#print(a.pop())\n",
    "print(a.popleft())\n",
    "print(a)"
   ]
  },
  {
   "cell_type": "markdown",
   "id": "e3a19f2f",
   "metadata": {},
   "source": [
    "## 재귀 함수가 많이 사용되긴하는데.. 이전번에 피봤으니까 좀 체크해두자\n",
    "- 참고로 파이썬은 재귀 최대 횟수 제한이 있다.(default 1000)\n",
    "  - sys.getrecursionlimit()으로 체크가능 딱봐도 sys.setrecursionlimit(2000) 요런식으로 체크가능"
   ]
  },
  {
   "cell_type": "code",
   "execution_count": 19,
   "id": "cf39a58b",
   "metadata": {},
   "outputs": [],
   "source": [
    "fibo_dic = dict()\n",
    "fibo_dic[1] = 1\n",
    "fibo_dic[2] = 1\n",
    "\n",
    "def fibo(n):\n",
    "    global fibo_dic\n",
    "    assert n>0\n",
    "    if n in fibo_dic: \n",
    "        return fibo_dic[n]\n",
    "    else:\n",
    "        temp1 = fibo(n-2)\n",
    "        temp2 = fibo(n-1)\n",
    "        fibo_dic[n] = temp1+temp2\n",
    "        return fibo_dic[n]"
   ]
  },
  {
   "cell_type": "code",
   "execution_count": 20,
   "id": "eb3d86d1",
   "metadata": {},
   "outputs": [
    {
     "name": "stdout",
     "output_type": "stream",
     "text": [
      "1\n",
      "1\n",
      "2\n",
      "3\n",
      "5\n",
      "8\n",
      "13\n",
      "21\n",
      "34\n",
      "55\n"
     ]
    }
   ],
   "source": [
    "for i in range(10):\n",
    "    print(fibo(i+1))"
   ]
  },
  {
   "cell_type": "code",
   "execution_count": 25,
   "id": "c07ad212",
   "metadata": {},
   "outputs": [],
   "source": [
    "def GCD(a, b):\n",
    "    if a > b:\n",
    "        A = a\n",
    "        B = b\n",
    "    else:\n",
    "        A = b\n",
    "        B = a\n",
    "    if A % B == 0:\n",
    "        return B\n",
    "    else:\n",
    "        return GCD(A%B, B)"
   ]
  },
  {
   "cell_type": "code",
   "execution_count": 26,
   "id": "97d43c52",
   "metadata": {},
   "outputs": [
    {
     "data": {
      "text/plain": [
       "111"
      ]
     },
     "execution_count": 26,
     "metadata": {},
     "output_type": "execute_result"
    }
   ],
   "source": [
    "GCD(222,333)"
   ]
  },
  {
   "cell_type": "markdown",
   "id": "aab001d1",
   "metadata": {},
   "source": [
    "### 왜 재귀함수를 이야기했냐면, DFS나 BFS는 스택 형식으로 서치를 하게되는데, 재귀함수는 스택형식으로 바뀌기 때문이다.\n",
    "- DFS, BFS는 깊이 우선, 넓이 우선인데, 깊이우선은 stack으로 넓이우선은 queue로 하면된다\n",
    "- BFS : 동일비용 최단거리문제"
   ]
  },
  {
   "cell_type": "code",
   "execution_count": 27,
   "id": "9b8eb709",
   "metadata": {},
   "outputs": [],
   "source": [
    "def dfs(graph, v, visited):\n",
    "    visited[v] = True\n",
    "    print(v, end = ' ')\n",
    "    for i in graph[v]:\n",
    "        if not visited[i]:\n",
    "            dfs(graph, i, visited)"
   ]
  },
  {
   "cell_type": "code",
   "execution_count": 29,
   "id": "914ac17d",
   "metadata": {},
   "outputs": [],
   "source": [
    "from collections import deque\n",
    "\n",
    "\n",
    "def bfs(graph, start, visited):\n",
    "    queue = deque([start])\n",
    "    visited[start] = True\n",
    "    while queue:\n",
    "        v = queue.popleft()\n",
    "        print(v, end=' ')\n",
    "        for i in graph[v]:\n",
    "            if not visited[i]:\n",
    "                queue.append(i)\n",
    "                visited[i] = True"
   ]
  },
  {
   "cell_type": "code",
   "execution_count": 38,
   "id": "73e20909",
   "metadata": {},
   "outputs": [],
   "source": [
    "# 얼음문제 exp \n",
    "\n",
    "class ans_class:\n",
    "    def __init__(self, n, m, graph):\n",
    "        self.n = n\n",
    "        self.m = m\n",
    "        self.graph = graph\n",
    "    \n",
    "    def dfs(self, x, y):\n",
    "        if x<0 or y<0 or x >= self.n or y >= self.m:\n",
    "            return False\n",
    "        if self.graph[x][y] == 0:\n",
    "            self.graph[x][y] = 1\n",
    "            self.dfs(x-1, y)\n",
    "            self.dfs(x+1, y)\n",
    "            self.dfs(x, y-1)\n",
    "            self.dfs(x, y+1)\n",
    "            return True\n",
    "        return False\n",
    "    \n",
    "    def get_ans(self):\n",
    "        result = 0\n",
    "        for i in range(self.n):\n",
    "            for j in range(self.m):\n",
    "                if self.dfs(i, j):\n",
    "                    result += 1\n",
    "        return result"
   ]
  },
  {
   "cell_type": "code",
   "execution_count": 39,
   "id": "21c1a7b4",
   "metadata": {},
   "outputs": [],
   "source": [
    "def ans():\n",
    "    n, m, = map(int, input().split())\n",
    "    graph = []\n",
    "    for i in range(n):\n",
    "        graph.append(list(map(int, input())))\n",
    "    \n",
    "    asc = ans_class(n, m, graph)\n",
    "    return asc.get_ans()\n",
    "'''\n",
    "example)\n",
    "4 5\n",
    "00110\n",
    "00011\n",
    "11111\n",
    "00000\n",
    "'''"
   ]
  },
  {
   "cell_type": "code",
   "execution_count": 40,
   "id": "e0bf58cb",
   "metadata": {},
   "outputs": [
    {
     "name": "stdout",
     "output_type": "stream",
     "text": [
      "4 5\n",
      "00110\n",
      "00011\n",
      "11111\n",
      "00000\n"
     ]
    },
    {
     "data": {
      "text/plain": [
       "3"
      ]
     },
     "execution_count": 40,
     "metadata": {},
     "output_type": "execute_result"
    }
   ],
   "source": [
    "ans()"
   ]
  },
  {
   "cell_type": "code",
   "execution_count": 69,
   "id": "72136fd9",
   "metadata": {},
   "outputs": [
    {
     "name": "stdout",
     "output_type": "stream",
     "text": [
      "5 6 [[1, 0, 1, 0, 1, 0], [1, 1, 1, 1, 1, 1], [0, 0, 0, 0, 0, 1], [1, 1, 1, 1, 1, 1], [1, 1, 1, 1, 1, 1]]\n",
      "@@@@@@@\n",
      "0 0 1\n",
      "deque([])\n",
      "{(0, 0): 1}\n",
      "1 0\n",
      "0 1\n",
      "0 1\n",
      "@@@@@@@\n",
      "0 1 2\n",
      "deque([])\n",
      "{(0, 0): 1, (0, 1): 2}\n",
      "1 1\n",
      "1 1\n",
      "0 0\n",
      "0 0\n",
      "0 2\n",
      "@@@@@@@\n",
      "1 1 3\n",
      "deque([])\n",
      "{(0, 0): 1, (0, 1): 2, (1, 1): 3}\n",
      "0 1\n",
      "0 1\n",
      "2 1\n",
      "2 1\n",
      "1 0\n",
      "1 2\n",
      "@@@@@@@\n",
      "2 1 4\n",
      "deque([])\n",
      "{(0, 0): 1, (0, 1): 2, (1, 1): 3, (2, 1): 4}\n",
      "1 1\n",
      "1 1\n",
      "3 1\n",
      "3 1\n",
      "2 0\n",
      "2 0\n",
      "2 2\n",
      "@@@@@@@\n",
      "3 1 5\n",
      "deque([[2, 0, 5]])\n",
      "{(0, 0): 1, (0, 1): 2, (1, 1): 3, (2, 1): 4, (3, 1): 5, (2, 0): 5}\n",
      "2 1\n",
      "2 1\n",
      "4 1\n",
      "4 1\n",
      "3 0\n",
      "3 2\n",
      "@@@@@@@\n",
      "2 0 5\n",
      "deque([[4, 1, 6]])\n",
      "{(0, 0): 1, (0, 1): 2, (1, 1): 3, (2, 1): 4, (3, 1): 5, (2, 0): 5, (4, 1): 6}\n",
      "1 0\n",
      "3 0\n",
      "2 1\n",
      "2 1\n",
      "@@@@@@@\n",
      "4 1 6\n",
      "deque([])\n",
      "{(0, 0): 1, (0, 1): 2, (1, 1): 3, (2, 1): 4, (3, 1): 5, (2, 0): 5, (4, 1): 6}\n",
      "3 1\n",
      "3 1\n",
      "5 1\n",
      "5 1\n",
      "4 0\n",
      "4 0\n",
      "4 2\n",
      "@@@@@@@\n",
      "5 1 7\n",
      "deque([[4, 0, 7]])\n",
      "{(0, 0): 1, (0, 1): 2, (1, 1): 3, (2, 1): 4, (3, 1): 5, (2, 0): 5, (4, 1): 6, (5, 1): 7, (4, 0): 7}\n",
      "4 1\n",
      "4 1\n",
      "5 0\n",
      "5 2\n",
      "5 2\n",
      "@@@@@@@\n",
      "4 0 7\n",
      "deque([[5, 2, 8]])\n",
      "{(0, 0): 1, (0, 1): 2, (1, 1): 3, (2, 1): 4, (3, 1): 5, (2, 0): 5, (4, 1): 6, (5, 1): 7, (4, 0): 7, (5, 2): 8}\n",
      "3 0\n",
      "5 0\n",
      "4 1\n",
      "4 1\n",
      "@@@@@@@\n",
      "5 2 8\n",
      "deque([])\n",
      "{(0, 0): 1, (0, 1): 2, (1, 1): 3, (2, 1): 4, (3, 1): 5, (2, 0): 5, (4, 1): 6, (5, 1): 7, (4, 0): 7, (5, 2): 8}\n",
      "4 2\n",
      "5 1\n",
      "5 1\n",
      "5 3\n",
      "5 3\n",
      "@@@@@@@\n",
      "5 3 9\n",
      "deque([])\n",
      "{(0, 0): 1, (0, 1): 2, (1, 1): 3, (2, 1): 4, (3, 1): 5, (2, 0): 5, (4, 1): 6, (5, 1): 7, (4, 0): 7, (5, 2): 8, (5, 3): 9}\n",
      "4 3\n",
      "4 3\n",
      "5 2\n",
      "5 2\n",
      "5 4\n",
      "5 4\n",
      "@@@@@@@\n",
      "4 3 10\n",
      "deque([[5, 4, 10]])\n",
      "{(0, 0): 1, (0, 1): 2, (1, 1): 3, (2, 1): 4, (3, 1): 5, (2, 0): 5, (4, 1): 6, (5, 1): 7, (4, 0): 7, (5, 2): 8, (5, 3): 9, (4, 3): 10, (5, 4): 10}\n",
      "3 3\n",
      "3 3\n",
      "5 3\n",
      "5 3\n",
      "4 2\n",
      "4 4\n",
      "4 4\n",
      "@@@@@@@\n",
      "5 4 10\n",
      "deque([[3, 3, 11], [4, 4, 11]])\n",
      "{(0, 0): 1, (0, 1): 2, (1, 1): 3, (2, 1): 4, (3, 1): 5, (2, 0): 5, (4, 1): 6, (5, 1): 7, (4, 0): 7, (5, 2): 8, (5, 3): 9, (4, 3): 10, (5, 4): 10, (3, 3): 11, (4, 4): 11}\n"
     ]
    },
    {
     "data": {
      "text/plain": [
       "10"
      ]
     },
     "execution_count": 69,
     "metadata": {},
     "output_type": "execute_result"
    }
   ],
   "source": [
    "# 괴물피하기 게임\n",
    "'''\n",
    "ex\n",
    "5 6\n",
    "101010\n",
    "111111\n",
    "000001\n",
    "111111\n",
    "111111\n",
    "'''\n",
    "## 대충 최단거리 나오면 bfs 생각하면 맘편하다\n",
    "\n",
    "from collections import deque\n",
    "n =5\n",
    "m =6\n",
    "graph = ['101010','111111','000001','111111','111111']\n",
    "gra = []\n",
    "for g in graph:\n",
    "    gra.append([int(k) for k in g])\n",
    "graph = gra\n",
    "def bfs(n, m, graph):\n",
    "    dic = dict()\n",
    "    dx = [-1, 1, 0, 0]\n",
    "    dy = [0, 0, -1, 1]\n",
    "    print(n, m, graph)\n",
    "    queue = deque([[0, 0, 1]])\n",
    "    dic[(0, 0)] = 1\n",
    "    while queue:\n",
    "        nx, ny, mov = queue.popleft()\n",
    "        print('@@@@@@@')\n",
    "        print(nx, ny, mov)\n",
    "        print(queue)\n",
    "        print(dic)\n",
    "        if dic[(nx, ny)] < mov:\n",
    "            continue\n",
    "        if nx == m-1 and ny == n-1:\n",
    "            return mov\n",
    "        for i in range(4):\n",
    "            tx = nx + dx[i]\n",
    "            ty = ny + dy[i]\n",
    "            if tx >=0 and tx < m and ty >= 0 and ty < n:\n",
    "                print(tx, ty)\n",
    "                if graph[ty][tx] == 1:\n",
    "                    print(tx, ty)\n",
    "                    \n",
    "                    if (tx, ty) not in dic or dic[(tx, ty)] > mov+1:\n",
    "                        queue.append([tx, ty, mov+1])\n",
    "                        dic[(tx, ty)] = mov+1\n",
    "                        \n",
    "    return -1\n",
    "            \n",
    "bfs(5, 6, gra)    "
   ]
  },
  {
   "cell_type": "code",
   "execution_count": null,
   "id": "3ec6ed49",
   "metadata": {},
   "outputs": [],
   "source": []
  }
 ],
 "metadata": {
  "kernelspec": {
   "display_name": "Python 3",
   "language": "python",
   "name": "python3"
  },
  "language_info": {
   "codemirror_mode": {
    "name": "ipython",
    "version": 3
   },
   "file_extension": ".py",
   "mimetype": "text/x-python",
   "name": "python",
   "nbconvert_exporter": "python",
   "pygments_lexer": "ipython3",
   "version": "3.8.10"
  }
 },
 "nbformat": 4,
 "nbformat_minor": 5
}
