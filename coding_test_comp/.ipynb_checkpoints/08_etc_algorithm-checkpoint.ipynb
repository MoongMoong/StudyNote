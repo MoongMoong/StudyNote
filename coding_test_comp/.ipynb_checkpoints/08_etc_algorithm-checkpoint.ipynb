{
 "cells": [
  {
   "cell_type": "markdown",
   "id": "8b506e8e",
   "metadata": {},
   "source": [
    "### 소수판별 알고리즘"
   ]
  },
  {
   "cell_type": "code",
   "execution_count": 8,
   "id": "5bc08d8b",
   "metadata": {},
   "outputs": [
    {
     "data": {
      "text/plain": [
       "True"
      ]
     },
     "execution_count": 8,
     "metadata": {},
     "output_type": "execute_result"
    }
   ],
   "source": [
    "def ans(x):\n",
    "    if x < 2 :\n",
    "        return False\n",
    "    result = True\n",
    "#     from math import sqrt\n",
    "    for i in range(2, int(x**(1/2)) + 1):\n",
    "        if x % i == 0:\n",
    "            result = False\n",
    "    return result\n",
    "\n",
    "ans(7)\n",
    "        "
   ]
  },
  {
   "cell_type": "markdown",
   "id": "d038f8bb",
   "metadata": {},
   "source": [
    "#### 다수의 소수판별\n",
    "- 에라토스테네스의 체 알고리즘\n",
    "  - 2 ~ N까지 모든 자연수를 나열\n",
    "  - 처리하지 않은 수 중 가장 작은수로 나눠서 나눠떨어지는값 제거\n",
    "  - 더이상 처리할 작은수가 없을 때까지 반복"
   ]
  },
  {
   "cell_type": "code",
   "execution_count": 19,
   "id": "07ddfe4c",
   "metadata": {},
   "outputs": [],
   "source": [
    "def ans(x):\n",
    "    if x < 2:\n",
    "        return list()\n",
    "    src = [k for k in range(2, x+1)]\n",
    "    result = list()\n",
    "    \n",
    "    while src:\n",
    "        key = src[0]\n",
    "        result.append(key)\n",
    "        src = [k for k in src if k%key != 0]\n",
    "    return result\n",
    "\n",
    "    "
   ]
  },
  {
   "cell_type": "markdown",
   "id": "b041a505",
   "metadata": {},
   "source": [
    "## 투포인트 알고리즘 "
   ]
  },
  {
   "cell_type": "code",
   "execution_count": 18,
   "id": "83499e9c",
   "metadata": {},
   "outputs": [
    {
     "name": "stdout",
     "output_type": "stream",
     "text": [
      "[[1, 2], [2, 3], [4, 4]]\n"
     ]
    }
   ],
   "source": [
    "x = [1,2,3,2,5]\n",
    "M = 5\n",
    "\n",
    "def ans(x, M):\n",
    "    i = 0\n",
    "    j = 0\n",
    "    result = []\n",
    "    while True:\n",
    "        if j >= len(x) or i >= len(x):\n",
    "            break\n",
    "        if sum(x[i: j+1]) == M:\n",
    "            result.append([i, j])\n",
    "        if sum(x[i: j+1]) > M :\n",
    "            i = i+1\n",
    "            j = max(i, j)\n",
    "        else:\n",
    "            i = i\n",
    "            j = j + 1\n",
    "    return result\n",
    "\n",
    "print(ans(x, M))"
   ]
  },
  {
   "cell_type": "code",
   "execution_count": null,
   "id": "c3e2e131",
   "metadata": {},
   "outputs": [],
   "source": [
    "# 구간합을 빨리 푸는 방법은, prefix를 저장하는 방법으로 빠르게 해결할 수 있다.\n",
    "\n",
    "def ans(N, array):\n",
    "    # 각 index까지 모두 더한 값\n",
    "    temp = [0] * len(N)\n",
    "    temp[0] = N[0]\n",
    "    for i in range(1, len(N)):\n",
    "        temp[i] = temp[i-1] + N[i]\n",
    "        \n",
    "    result = []\n",
    "    for start, end in array:\n",
    "        result.append([temp[end] - temp[start - 1]])\n",
    "    return result\n",
    "        "
   ]
  }
 ],
 "metadata": {
  "kernelspec": {
   "display_name": "Python 3",
   "language": "python",
   "name": "python3"
  },
  "language_info": {
   "codemirror_mode": {
    "name": "ipython",
    "version": 3
   },
   "file_extension": ".py",
   "mimetype": "text/x-python",
   "name": "python",
   "nbconvert_exporter": "python",
   "pygments_lexer": "ipython3",
   "version": "3.8.10"
  }
 },
 "nbformat": 4,
 "nbformat_minor": 5
}
