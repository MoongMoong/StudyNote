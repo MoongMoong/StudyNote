{
 "cells": [
  {
   "cell_type": "markdown",
   "id": "8f537706",
   "metadata": {},
   "source": [
    "## 우선순위 큐\n",
    "- stack은 맨 마지막에 들어온데이터, queue는 맨 먼저 들어온 데이터를 꺼내게된다.\n",
    "- 우선순위 큐(priority queue)는 우선순위에 따라  값을 출력한다.\n",
    "  - list를 이용한구현, heap을 이용한 구현이 가능\n",
    "  - 데이터의 개수가 N일때, 삽입에 lonN, 삭제에 logN의 시간복잡도가 소요된다.\n",
    "    - 참고로 리스트는 삽입에 1, 삭제에 N이 소요된다.\n",
    "  - 단순히 N개의 데이터를 힙에 넣엇다가 모두 꺼내는 것으로 정렬이 되는데 이걸 힙 정렬이라 부르고 NlogN의 시간복잡도를 갖는다.\n",
    "- 힙은 완전 이진트리 자료구조이다\n",
    "- 힙에서는 항상 루트 노드를 제거한다\n",
    "- 힙을 만들게하는게 heapify 라는 함수로 만들어지는데 2진트리구조의 맨 마지막에 삽입하고, 삽입된 노드에서 시작해서 부모노드를 쭉 따라 크기에 따라 자기위치를 찾아가게된다.\n",
    "- 힙을 제거할때에는, 맨 마지막 원소를 루트로 올리고 heapify한다.\n",
    "  \n",
    "  "
   ]
  },
  {
   "cell_type": "code",
   "execution_count": 14,
   "id": "6e39d79b",
   "metadata": {},
   "outputs": [
    {
     "name": "stdout",
     "output_type": "stream",
     "text": [
      "2\n",
      "[4, 4, 6, 5, 8, 7, 6]\n",
      "4\n",
      "[4, 5, 6, 6, 8, 7]\n",
      "4\n",
      "[5, 6, 6, 7, 8]\n",
      "5\n",
      "[6, 6, 8, 7]\n",
      "6\n",
      "[6, 7, 8]\n",
      "6\n",
      "[7, 8]\n",
      "7\n",
      "[8]\n",
      "8\n",
      "[]\n",
      "[]\n",
      "[2, 4, 4, 5, 8, 7, 6, 6]\n"
     ]
    }
   ],
   "source": [
    "import heapq\n",
    "\n",
    "a = [6,4,2,4,8,7,6,5]\n",
    "heapq.heapify(a)\n",
    "while a:\n",
    "    print(heapq.heappop(a))\n",
    "    print(a)\n",
    "\n",
    "print(a)\n",
    "b = [6,4,2,4,8,7,6,5]\n",
    "for k in b:\n",
    "    heapq.heappush(a, k)\n",
    "print(a)"
   ]
  },
  {
   "cell_type": "markdown",
   "id": "03a6e0c7",
   "metadata": {},
   "source": [
    "## Tree\n",
    "- heap이 완전 2진트리라고 배웠는데 그럼 트리가 뭔지도 체크해보자\n",
    "- 트리는 계층 구조를표현할 때 사용하기 좋은 자료구조이다.\n",
    "- 용어\n",
    "  - 루트노드(root node) : 부모가 없는 최상위 노드\n",
    "  - 단말노드(leaf node) : 자식이 없는 노드\n",
    "  - 크기(size) : 트리에 포함된 모든 노드의 개수\n",
    "  - 깊이(depth) : 루트 노드로부터의 거리\n",
    "  - 높이(height) : 깊이 중 최댓값\n",
    "  - 차수(degree): 각 노드의 (자식방향) 간선 개수 -> 당연히 size - 1이다  \n",
    " \n",
    "### 이진탐색트리\n",
    "- 왼쪽노드 < 부모 노드 < 오른쪽 자식 노드  \n",
    "\n",
    "### 트리의 순회\n",
    "- 트리의 자료구조에 포함된 노드를 모두 방문하는 방법 이건 코드로보면 이해가 쉽다.\n",
    "  - 전위순회 -> 루트에서 왼쪽끝까지갓다가 위로 오른쪽 위로위로 오른족에서 왼쪽으로가는 식으로 왼쪽부터 싹 서치하는것\n",
    "  - 중위순회 -> 왼쪽 아래 끝에서부터 위로 갔다가 오른쪽 탐색하는 역방향\n",
    "  - 후위순회 -> 왼족아래끝 -> 왼쪽아래끝의 쌍둥이노드 -> 부모노드순으로 서치"
   ]
  },
  {
   "cell_type": "code",
   "execution_count": 15,
   "id": "aa449dd4",
   "metadata": {},
   "outputs": [],
   "source": [
    "class Node :\n",
    "    def __init__(self, data, left_node, right_node):\n",
    "        self.data = data\n",
    "        self.left_node = left_node\n",
    "        self.right_node = right_node\n",
    "        \n",
    "# 전위 순회(Preorder Traversal)\n",
    "def pre_order(node):\n",
    "    print(node.data, end=' ')\n",
    "    if node.left_node != None:\n",
    "        pre_order(tree[node.left_node])\n",
    "    if node.right_node != None:\n",
    "        pre_order(tree[node.right_node])\n",
    "        \n",
    "\n",
    "# 중위 순회(Inorder Traversal)\n",
    "def in_order(node):\n",
    "    if node.left_node != None:\n",
    "        in_order(tree[node.left_node])\n",
    "    print(node.data, end=' ')\n",
    "    if node.right_node != None:\n",
    "        in_order(tree[node.right_node])\n",
    "        \n",
    "# 후위 순회(post order Traversal)\n",
    "def post_order(node):\n",
    "    if node.left_node != None:\n",
    "        post_order(tree[node.left_node])\n",
    "    if node.right_node != None:\n",
    "        post_order(tree[node.right_node])\n",
    "    print(node.data, end=' ')\n",
    "        "
   ]
  },
  {
   "cell_type": "markdown",
   "id": "73bbe52d",
   "metadata": {},
   "source": [
    "### 바이너리 인덱스트리(Binary indexed Tree\n",
    "- 데이터가 업데이트가 가능한 상황에서 구간 합을 여러번 구해야할 때, 써먹는 함수\n",
    "> 어떤 N개의 수가 주어져 있을 때, 중간의 수가 M번만큼 변경될 수 있고, 구간의 합을 K번 구해야 하는 문제.  \n",
    "N : 1 ~ 1000000, M 1 ~ 10000, K : 1~10000\n",
    "\n",
    "- 바이너리 인덱스트리는 2진법 인덱스 구조를 활용해 구간 합 문제를 빠르게 풀기위한 자료구조로 펜윅트리(fenwick tree)라고도 한다\n"
   ]
  },
  {
   "cell_type": "code",
   "execution_count": 16,
   "id": "0b53b734",
   "metadata": {},
   "outputs": [],
   "source": [
    "class binary_index_tee:\n",
    "    def __init__(self, n, m, k):\n",
    "        self.n = n\n",
    "        self.m = m\n",
    "        self.k = k\n",
    "        self.arr = [0] * (n+1)\n",
    "        self.tree = [0] * (n+1)\n",
    "        \n",
    "    def prefix_sum(self, i):\n",
    "        result = 0\n",
    "        while i > 0:\n",
    "            result += self.tree[i]\n",
    "            i -= (i & -i)\n",
    "        return result\n",
    "    \n",
    "    def update(self, i, dif):\n",
    "        while i <= n:\n",
    "            tree[i] += dif\n",
    "            i += (i & -i)\n",
    "            \n",
    "    def intarval_sum(start, end):\n",
    "        return self.prefix_sum(end) - self.prefix_sum(start - 1)\n",
    "    \n",
    "    "
   ]
  },
  {
   "cell_type": "markdown",
   "id": "0ff47a60",
   "metadata": {},
   "source": [
    "### 최소 공통 조상(Lowest Common Ancestor)\n",
    "> N ( 2 ~  50000) 개의 정점으로 이루어진 트리에서 두 노드의 쌍 M ( 1 ~ 10000 )개에 대하여 두 노드의 가장 가까운 공통 조상이 몇번인지 출력\n",
    "\n",
    "1. 모든 노드에 대한 깊이를 계산\n",
    "2. 대상 두 노드에 대해 깊이를 맞추고, 부모가 같아질때까지 깊이를 계속 낮추어간다."
   ]
  },
  {
   "cell_type": "code",
   "execution_count": null,
   "id": "c240363f",
   "metadata": {},
   "outputs": [],
   "source": []
  }
 ],
 "metadata": {
  "kernelspec": {
   "display_name": "Python 3",
   "language": "python",
   "name": "python3"
  },
  "language_info": {
   "codemirror_mode": {
    "name": "ipython",
    "version": 3
   },
   "file_extension": ".py",
   "mimetype": "text/x-python",
   "name": "python",
   "nbconvert_exporter": "python",
   "pygments_lexer": "ipython3",
   "version": "3.8.10"
  }
 },
 "nbformat": 4,
 "nbformat_minor": 5
}
