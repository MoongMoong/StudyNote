{
 "cells": [
  {
   "cell_type": "markdown",
   "id": "b4eee954",
   "metadata": {},
   "source": [
    "### 탐욕법(Greedy algorithm)\n",
    "- 나중에 배울 푸르스카, 다익스트라 알고리즘을 제외하면 \n",
    "- 가장 중요한건 정당성이 중요하다, (매 순간 가장 좋은 선택을 할 때, 최종적으로 가장 좋은 정답을 구할 수 있는가에 대한 증빙이 필요하다)\n",
    "  - 솔직이 실생활에서는 잘 안되긴 하는데 몇없는 되는경우를 문제로 낸다"
   ]
  },
  {
   "cell_type": "code",
   "execution_count": 3,
   "id": "12d553af",
   "metadata": {},
   "outputs": [
    {
     "data": {
      "text/plain": [
       "6"
      ]
     },
     "execution_count": 3,
     "metadata": {},
     "output_type": "execute_result"
    }
   ],
   "source": [
    "## ex 거스름돈 문제 500,50,10원으로 거슬러주기\n",
    "def res(N,m):\n",
    "    return N//m, N%m\n",
    "\n",
    "def ans(N):\n",
    "    coins = [500, 100, 50, 10]\n",
    "    out = 0\n",
    "    tp = N\n",
    "    for coin in coins:\n",
    "        t, tp =res(tp, coin)\n",
    "        out += t\n",
    "        \n",
    "    return out\n",
    "\n",
    "ans(1260)\n",
    "        \n"
   ]
  },
  {
   "cell_type": "markdown",
   "id": "9deba2ff",
   "metadata": {},
   "source": [
    "### 구현문제 (연습을 많이해야 점수가 잘나온다)\n",
    "- 풀이는 쉬운데 소스코드가 길어지는거 \n",
    "  - 알고리즘은 간단한데 코드가 길어지는것\n",
    "  - 실수연산을 다르고, 특정 소수점 자리까지 출력하는 문제\n",
    "  - 문자열을 특정한 기준에 따라서 끊어서 처리해야 하는 문제\n",
    "  - 적절한 라이브러리를 찾아서 사용하는 문제\n",
    "  \n",
    "- 아래 함수들은 좀 쓸만한 char의 기본 method이다 나중에 이런거좀 정리해둬야지"
   ]
  },
  {
   "cell_type": "code",
   "execution_count": 5,
   "id": "3f2a0b19",
   "metadata": {},
   "outputs": [
    {
     "data": {
      "text/plain": [
       "True"
      ]
     },
     "execution_count": 5,
     "metadata": {},
     "output_type": "execute_result"
    }
   ],
   "source": [
    "'a'.isalpha()"
   ]
  },
  {
   "cell_type": "code",
   "execution_count": 6,
   "id": "af9e3fa4",
   "metadata": {},
   "outputs": [
    {
     "data": {
      "text/plain": [
       "97"
      ]
     },
     "execution_count": 6,
     "metadata": {},
     "output_type": "execute_result"
    }
   ],
   "source": [
    "ord('a')"
   ]
  },
  {
   "cell_type": "code",
   "execution_count": null,
   "id": "48f0fbe5",
   "metadata": {},
   "outputs": [],
   "source": []
  }
 ],
 "metadata": {
  "kernelspec": {
   "display_name": "Python 3",
   "language": "python",
   "name": "python3"
  },
  "language_info": {
   "codemirror_mode": {
    "name": "ipython",
    "version": 3
   },
   "file_extension": ".py",
   "mimetype": "text/x-python",
   "name": "python",
   "nbconvert_exporter": "python",
   "pygments_lexer": "ipython3",
   "version": "3.8.10"
  }
 },
 "nbformat": 4,
 "nbformat_minor": 5
}
