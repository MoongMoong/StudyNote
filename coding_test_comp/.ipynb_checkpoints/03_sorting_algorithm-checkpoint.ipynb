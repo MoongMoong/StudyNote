{
 "cells": [
  {
   "cell_type": "markdown",
   "id": "b794b814",
   "metadata": {},
   "source": [
    "### Sorting 정렬알고리즘 (이쪽이 참 기본인데 실제로 쓰지는 않아서 이전에 난감했던 기억이 있다.)\n",
    "- 선택정룔, 삽입정렬, 퀵 정렬, 계수 정렬, 버블정렬\n",
    "  - 참고로 파이썬에서는 '팀 정렬'이라는 삽입정렬과 병렬 정렬 알고리즘의 섞은 복합 알고리즘이 채택되어있다.\n",
    "  - https://memostack.tistory.com/30\n",
    "  \n",
    "#### 데이터의 개수에 따라서 유용한 알고리즘은 다르지만, 알고리즘마다 알려진 계산 복잡도에 따라 최적 사용처가 정해진다\n",
    "- 선택정렬 알고리즘\n",
    "  - 처리되지 않은 데이터 중 가장 작은 데이터를 선택해 맨 앞에 있는 데이터와 바꾸는 것을 반복\n",
    "  - 계산복잡도는 (N^2 + N -2) -> O(N^2) \n",
    "- 삽입정렬 알고리즘\n",
    "  - 하나씩 처리해나가는건 맞는데, 앞에서부터 순서대로 처리된 부분 중 자기자리를 찾아가는 알고리즘\n",
    "  - 구현상으로는 한칸씩 앞으로 보내는 기법\n",
    "- 퀵 정렬\n",
    "  - 기분 데이터를 설정하고 그 기준보다 큰 데이터와 작은 데이터의 위치를 바꾸는 방법\n",
    "  - 병합정렬이랑 같이 가장 기본되는 알고리즘으로 여기서 다른 알고리즘이랑 섞어서 사용한다\n",
    "  - 일반적으로는 첫 번째 데이터를 기준 데이터로 설정한다.\n",
    "  - 알고리즘 정리\n",
    "    - pivot을 잡는다\n",
    "    - 왼쪽에 피봇보다 작은거\n",
    "    - 오른쪽에 피봇보다 큰거\n",
    "    - 재귀\n",
    "- 계수정렬\n",
    "  - index list를 사용해서 count table을 만들고 그걸 바탕으로 정렬한다.\n",
    "  - listout = [0] * (max(array) + 1)\n",
    "  - 당연한거지만 제일 큰 값이 커지면 심각한 부작용이 발생한다.\n",
    "    \n",
    "- 개인적으로 merge sort를 구현하는게 제일 맘에드는데 현실에서는 최적화가 잘 되어 있는 timsort가 주류이다\n",
    "  - 적은 길이에서 빠른 삽입정렬 알고리즘과 많은 수에 대해 유리한 삽입정렬 알고리즘의 병합\n",
    "    "
   ]
  },
  {
   "cell_type": "code",
   "execution_count": 3,
   "id": "dd39e041",
   "metadata": {},
   "outputs": [],
   "source": [
    "import copy\n",
    "\n",
    "def select_sort(array_input):\n",
    "    array = copy.deepcopy(array_input)\n",
    "    for i in range(len(array)):\n",
    "        min_index = i\n",
    "        for j in range(i+1, len(array)):\n",
    "            if array[min_index] > array[j]:\n",
    "                min_index = j\n",
    "        if min_index != i:\n",
    "            array[i], array[min_index] = array[min_index], array[i] ## 요거 python에서만 허용되는 swap 코딩방식인데 이거 좀 꿀인듯\n",
    "    return array\n",
    "\n"
   ]
  },
  {
   "cell_type": "code",
   "execution_count": 4,
   "id": "78591683",
   "metadata": {},
   "outputs": [
    {
     "data": {
      "text/plain": [
       "[2, 3, 4, 5, 6, 7, 8, 9, 10]"
      ]
     },
     "execution_count": 4,
     "metadata": {},
     "output_type": "execute_result"
    }
   ],
   "source": [
    "inarray = [9,5,7,8,4,3,10,2,6]\n",
    "select_sort(inarray)"
   ]
  },
  {
   "cell_type": "code",
   "execution_count": 5,
   "id": "7c88c42f",
   "metadata": {},
   "outputs": [
    {
     "name": "stdout",
     "output_type": "stream",
     "text": [
      "[10, 9, 8, 7, 6, 5, 4, 3, 2, 1]\n"
     ]
    }
   ],
   "source": [
    "print(list(range(10,0,-1)))\n",
    "    "
   ]
  },
  {
   "cell_type": "code",
   "execution_count": 6,
   "id": "86f560b4",
   "metadata": {},
   "outputs": [
    {
     "data": {
      "text/plain": [
       "[2, 3, 4, 5, 6, 7, 8, 9, 10]"
      ]
     },
     "execution_count": 6,
     "metadata": {},
     "output_type": "execute_result"
    }
   ],
   "source": [
    "def insert_sort(array_input):\n",
    "    array = copy.deepcopy(array_input)\n",
    "    for i in range(1, len(array)):\n",
    "        for j in range(i, 0, -1):\n",
    "            if array[j] < arrray[j-1]:\n",
    "                array[j], array[j-1] = array[j-1], array[j] \n",
    "            else:\n",
    "                break\n",
    "    return array\n",
    "select_sort(inarray)"
   ]
  },
  {
   "cell_type": "code",
   "execution_count": 14,
   "id": "ea88bd29",
   "metadata": {},
   "outputs": [],
   "source": [
    "def quick_sort(array, start ,end):\n",
    "    \n",
    "    if start >= end :\n",
    "        return\n",
    "    pivot = start\n",
    "    left = start + 1 ## pivot보다 큰거 찾기위한 인덱스 스타트\n",
    "    right = end ## pivot 보다 작은 것 찾기 위한 인덱스 스타트\n",
    "    while(left <= right):\n",
    "        # 피벗보다 큰 데이터를 찾을때까지 반복\n",
    "        while(left <= end and array[left] <= array[pivot]):\n",
    "            left += 1\n",
    "        while(right > start and array[right] >= array[pivot]):\n",
    "            right -= 1 ## 못찾으면 right가 start가 되어 있을것이다. -> pivot이 가장 작은 값이니 넣어두고 끝난다. 대체로 start, start -1 이 입력되게 되어 다음 재귀는 바로 끝나서 문제 없음\n",
    "            \n",
    "        if(left > right): ## 엇갈려브럿네\n",
    "            array[right],array[pivot] = array[pivot], array[right]\n",
    "        else :\n",
    "            array[left], array[right] = array[right], array[left]\n",
    "    \n",
    "    # pivot의 자리는 right의 자리이다.\n",
    "    quick_sort(array, start, right - 1) \n",
    "    quick_sort(array, right + 1, end)"
   ]
  },
  {
   "cell_type": "code",
   "execution_count": 15,
   "id": "c4b0b4db",
   "metadata": {},
   "outputs": [],
   "source": [
    "inarray = [9,5,7,8,4,3,10,2,6]"
   ]
  },
  {
   "cell_type": "code",
   "execution_count": 16,
   "id": "dff54fc9",
   "metadata": {},
   "outputs": [],
   "source": [
    "quick_sort(inarray, 0, len(inarray)-1)"
   ]
  },
  {
   "cell_type": "code",
   "execution_count": 17,
   "id": "b30a7fc4",
   "metadata": {},
   "outputs": [
    {
     "data": {
      "text/plain": [
       "[2, 3, 4, 5, 6, 7, 8, 9, 10]"
      ]
     },
     "execution_count": 17,
     "metadata": {},
     "output_type": "execute_result"
    }
   ],
   "source": [
    "inarray"
   ]
  },
  {
   "cell_type": "code",
   "execution_count": 18,
   "id": "eab2266c",
   "metadata": {},
   "outputs": [],
   "source": [
    "def quick_sort2(array):\n",
    "    if len(array) <= 1:\n",
    "        return array\n",
    "    pivot = array[0]\n",
    "    tail = array[1:]\n",
    "    left = [x for x in tail if x <= pivot]\n",
    "    right = [x for x in tail if x > pivot]\n",
    "    \n",
    "    return quick_sort2(left) + [pivot] + quick_sort2(right)"
   ]
  },
  {
   "cell_type": "code",
   "execution_count": 20,
   "id": "d1ad9613",
   "metadata": {},
   "outputs": [
    {
     "name": "stdout",
     "output_type": "stream",
     "text": [
      "[9, 5, 7, 8, 4, 3, 10, 2, 6]\n",
      "[2, 3, 4, 5, 6, 7, 8, 9, 10]\n"
     ]
    }
   ],
   "source": [
    "inarray = [9,5,7,8,4,3,10,2,6]\n",
    "print(inarray)\n",
    "print(quick_sort2(inarray))"
   ]
  },
  {
   "cell_type": "code",
   "execution_count": 21,
   "id": "f7f632ce",
   "metadata": {},
   "outputs": [
    {
     "data": {
      "text/plain": [
       "26"
      ]
     },
     "execution_count": 21,
     "metadata": {},
     "output_type": "execute_result"
    }
   ],
   "source": [
    "def ans(A, B, K):\n",
    "    A.sort()\n",
    "    B.sort(reverse=True)\n",
    "    for i in range(K):\n",
    "        if A[i] > B[i]:\n",
    "            return sum(A)\n",
    "        else:\n",
    "            A[i], B[i] = B[i], A[i]\n",
    "    return sum(A)\n",
    "    \n",
    "A = [1,2,5,4,3]\n",
    "B = [5,5,6,6,5]\n",
    "K = 3\n",
    "ans(A, B, K)"
   ]
  },
  {
   "cell_type": "code",
   "execution_count": 22,
   "id": "2e5e570f",
   "metadata": {},
   "outputs": [],
   "source": [
    "def merge_sort(array):\n",
    "    ### merge sort는 반씩 잘라서 sort하는거다.\n",
    "    if len(array) <= 1:\n",
    "        return array\n",
    "    out = []\n",
    "    mid = len(array)//2\n",
    "    left = merge_sort(array[:mid])\n",
    "    right = merge_sort(array[mid:])\n",
    "    i = 0\n",
    "    j = 0\n",
    "    while len(out) < len(left) + len(right):\n",
    "        if i >= len(left):\n",
    "            out.append(right[j])\n",
    "            j += 1\n",
    "            continue\n",
    "        if j >= len(right):\n",
    "            out.append(left[i])\n",
    "            i += 1\n",
    "            continue\n",
    "        if right[j] < left[i]:\n",
    "            out.append(right[j])\n",
    "            j += 1\n",
    "        else:\n",
    "            out.append(left[i])\n",
    "            i += 1\n",
    "        \n",
    "    return out"
   ]
  },
  {
   "cell_type": "code",
   "execution_count": 23,
   "id": "c6f73b08",
   "metadata": {},
   "outputs": [
    {
     "name": "stdout",
     "output_type": "stream",
     "text": [
      "[9, 5, 7, 8, 4, 3, 10, 2, 6]\n",
      "[2, 3, 4, 5, 6, 7, 8, 9, 10]\n"
     ]
    }
   ],
   "source": [
    "inarray = [9,5,7,8,4,3,10,2,6]\n",
    "print(inarray)\n",
    "print(merge_sort(inarray))"
   ]
  },
  {
   "cell_type": "code",
   "execution_count": 26,
   "id": "f96f7321",
   "metadata": {},
   "outputs": [],
   "source": [
    "def bubble_sort(array):\n",
    "    # 계속 앞에서 부터 바꿀 수 있으면 바꾸는 알고리즘이다.\n",
    "    # 무조건적으로 n2인 알고리즘..\n",
    "    n = len(array)\n",
    "    data = array[:]\n",
    "    for _ in range(n-1):\n",
    "        for i in range(n-1):\n",
    "            if data[i] > data[i+1]:\n",
    "                data[i], data[i+1] = data[i+1], data[i]\n",
    "    return data\n",
    "    "
   ]
  },
  {
   "cell_type": "code",
   "execution_count": 27,
   "id": "5d8e7813",
   "metadata": {},
   "outputs": [
    {
     "name": "stdout",
     "output_type": "stream",
     "text": [
      "[9, 5, 7, 8, 4, 3, 10, 2, 6]\n",
      "[2, 3, 4, 5, 6, 7, 8, 9, 10]\n"
     ]
    }
   ],
   "source": [
    "inarray = [9,5,7,8,4,3,10,2,6]\n",
    "print(inarray)\n",
    "print(bubble_sort(inarray))"
   ]
  },
  {
   "cell_type": "code",
   "execution_count": 32,
   "id": "74b3cd78",
   "metadata": {},
   "outputs": [],
   "source": [
    "N = 4\n",
    "array = [1,3,1,5]\n",
    "def ans(N, array):\n",
    "    if N == 1:\n",
    "        return array[0]\n",
    "    if N == 2:\n",
    "        return max(array)\n",
    "    \n",
    "    A = [array[0], max(array[0],array[1])]\n",
    "    \n",
    "    for i in range(2, N):\n",
    "        A.append(max(A[i-2] + array[i], A[i-1]))\n",
    "    \n",
    "    return A[N-1]\n",
    "        \n",
    "    \n",
    "    \n",
    "    "
   ]
  },
  {
   "cell_type": "code",
   "execution_count": 33,
   "id": "900492a3",
   "metadata": {},
   "outputs": [
    {
     "data": {
      "text/plain": [
       "8"
      ]
     },
     "execution_count": 33,
     "metadata": {},
     "output_type": "execute_result"
    }
   ],
   "source": [
    "ans(N, array)"
   ]
  },
  {
   "cell_type": "code",
   "execution_count": 36,
   "id": "e84c15a2",
   "metadata": {},
   "outputs": [
    {
     "data": {
      "text/plain": [
       "3"
      ]
     },
     "execution_count": 36,
     "metadata": {},
     "output_type": "execute_result"
    }
   ],
   "source": [
    "from collections import deque\n",
    "def ans(x):\n",
    "    options = [\n",
    "        lambda x : x%5 == 0,\n",
    "        lambda x : x%3 == 0,\n",
    "        lambda x : x%2 == 0,\n",
    "        lambda x : True\n",
    "    ]\n",
    "    actions = [\n",
    "        lambda x : x//5,\n",
    "        lambda x : x//3,\n",
    "        lambda x : x//2,\n",
    "        lambda x : x-1\n",
    "    ]\n",
    "    dic = dict()\n",
    "    queue = deque([x])\n",
    "    dic[x] = 0\n",
    "    while queue:\n",
    "        k = queue.popleft()\n",
    "        for option, action in zip(options, actions):\n",
    "            if option(k):\n",
    "                nk = action(k)\n",
    "                if nk < 1:\n",
    "                    continue\n",
    "                if nk not in dic or dic[nk] > dic[k] + 1:\n",
    "                    dic[nk] = dic[k] + 1\n",
    "                    queue.append(nk)\n",
    "    return dic[1]\n",
    "\n",
    "ans(26)"
   ]
  },
  {
   "cell_type": "code",
   "execution_count": 39,
   "id": "cc5c1965",
   "metadata": {},
   "outputs": [
    {
     "data": {
      "text/plain": [
       "3"
      ]
     },
     "execution_count": 39,
     "metadata": {},
     "output_type": "execute_result"
    }
   ],
   "source": [
    "def ans(x):\n",
    "    d = [0] * 30001\n",
    "    d[1] = 0\n",
    "    for i in range(2,x+1):\n",
    "        d[i] = d[i - 1] + 1\n",
    "        if i%2 == 0:\n",
    "            d[i] = min(d[i], d[i//2]+1)\n",
    "        if i%3 == 0:\n",
    "            d[i] = min(d[i], d[i//3]+1)\n",
    "        if i%5 == 0:\n",
    "            d[i] = min(d[i], d[i//5]+1)\n",
    "            \n",
    "    return d[x]\n",
    "\n",
    "ans(26)\n",
    "    "
   ]
  },
  {
   "cell_type": "code",
   "execution_count": 46,
   "id": "8e24bdc9",
   "metadata": {},
   "outputs": [
    {
     "data": {
      "text/plain": [
       "5"
      ]
     },
     "execution_count": 46,
     "metadata": {},
     "output_type": "execute_result"
    }
   ],
   "source": [
    "N = 3\n",
    "M = 4\n",
    "array = [3,5,7]\n",
    "\n",
    "N = 2\n",
    "M = 15\n",
    "array = [2, 3]\n",
    "\n",
    "def ans(N,M,array):\n",
    "    mina = min(array)\n",
    "    if M < mina:\n",
    "        return -1\n",
    "    dic = dict()\n",
    "    for i in array:\n",
    "        dic[i] = 1\n",
    "    for i in range(mina, M+1):\n",
    "        for j in array:\n",
    "            if i not in dic:\n",
    "                if i - j in dic:\n",
    "                    dic[i] = dic[i - j] + 1\n",
    "            else:\n",
    "                if i - j in dic:\n",
    "                    dic[i] = min(dic[i], dic[i - j] + 1)\n",
    "    return dic.get(i, -1)\n",
    "\n",
    "ans(N,M,array)           "
   ]
  },
  {
   "cell_type": "code",
   "execution_count": null,
   "id": "3a713077",
   "metadata": {},
   "outputs": [],
   "source": [
    "N = 7\n",
    "array = [15, 11, 4, 8, 5, 2, 4]\n",
    "\n"
   ]
  }
 ],
 "metadata": {
  "kernelspec": {
   "display_name": "Python 3",
   "language": "python",
   "name": "python3"
  },
  "language_info": {
   "codemirror_mode": {
    "name": "ipython",
    "version": 3
   },
   "file_extension": ".py",
   "mimetype": "text/x-python",
   "name": "python",
   "nbconvert_exporter": "python",
   "pygments_lexer": "ipython3",
   "version": "3.8.10"
  }
 },
 "nbformat": 4,
 "nbformat_minor": 5
}
