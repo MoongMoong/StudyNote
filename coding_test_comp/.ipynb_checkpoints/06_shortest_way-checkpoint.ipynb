{
 "cells": [
  {
   "cell_type": "markdown",
   "id": "c228b74c",
   "metadata": {},
   "source": [
    "### 최단 경로 문제 (다익스트라 최단 경로 알고리즘, 플로이드 워셜 알고리즘)\n",
    "- 대체로 가장 node랑 edge가 있을 때, 가장 짧은 경로를 찾는 알고리즘\n",
    "\n",
    "#### 다익스트라 알고리즘\n",
    "- 다익스트라라는 알고리즘 전문가가 제안한 알고리즘 중 가장 유명한게 최단경로 알고리즘\n",
    "  - 그래서 그냥 다익스트라 알고리즘 = 다익스트라 최단경로 알고리즘을 지칭하는게 보통\n",
    "  - 조건은 음의 간선이 없을 때, 정상적으로 동작한다. -> 현실에서는 잘된다\n",
    "    - 다익스트라 알고리즘은 그리디 알고리즘으로 분류되며, 매 상황에서 가장 적은 비용의 노드를 선택하는 과정이 반복된다.\n",
    "- Algorithem\n",
    "  - 출발 노드를 설정\n",
    "  - 최단 거리 테이블을 초기화\n",
    "  - 방문하지 않은 노드 중에서 최단 거리가 가장 짧은 노드를 선택\n",
    "  - 해당 노드를 거쳐 다른 노드로 가는 비용을 계싼하여 최단 거리 테이블을 갱신.\n",
    "  - 위 과정에서 3번과 4번을 반복\n",
    "- 참고\n",
    "  - 경로까지 얻을라면 추가작업을 해줘야하는데 일단은 없이 공부한다\n",
    "  \n",
    "- 특징\n",
    "  - 그리디 알고리즘 : 매 상황에서 방문하지 않은 가장 비용이 적은 노드를 방문\n",
    "  - 단계를 거치며 한번 처리된 노드의 **최단 거리는 고정**되어 더이상 바뀌지 않는다\n",
    "  - 다익스트라 알고리즘을 수행하면 *테이블에서 각 노드까지의 거리정보가 저장*된다\n",
    "  - 참고로 계산 복잡도는 O(V^2) 여기서 V는 노드의 개수로 노드의 개수가 5000개 이하일때 추천\n",
    "  - heapq로 업글하면 ElogE, Elog V&2 , 2ElogV -> E log V로 최적화된다."
   ]
  },
  {
   "cell_type": "code",
   "execution_count": 1,
   "id": "70c5663d",
   "metadata": {},
   "outputs": [],
   "source": [
    "import sys\n",
    "INF = int(1e9)\n",
    "\n",
    "# input = sys.stdin.readline\n",
    "\n",
    "# n, m = map(int, input().split())\n",
    "\n",
    "# start = int(input())\n",
    "\n",
    "# graph = [[] for i in range(n + 1)]\n",
    "# visited = [False] * (n + 1)\n",
    "\n",
    "# for _ in range(m):\n",
    "#     a, b, c = map(int, input().split())\n",
    "#     graph[a].append((b, c))\n",
    "    \n",
    "def get_smallest_node():\n",
    "    min_value = INF\n",
    "    index = 0\n",
    "    for i in range(1, n + 1):\n",
    "        if distance[i] < min_value and not visited[i]:\n",
    "            min_value = distance[i]\n",
    "            index = i\n",
    "    return index\n",
    "\n",
    "\n",
    "def dijkstra(start):\n",
    "    distance[start] = 0\n",
    "    visited[start] = True\n",
    "    for j in graph[start] :\n",
    "        distance[j[0]] = j[1]\n",
    "    for i in range(n-1):\n",
    "        now = get_smallest_node()\n",
    "        visited[now] = True\n",
    "        \n",
    "        for j in graph[now]:\n",
    "            cost = distance[now] + j[1]\n",
    "            if cost < distance[j[0]]:\n",
    "                distance[j[0]] = cost\n",
    "    \n",
    "    "
   ]
  },
  {
   "cell_type": "markdown",
   "id": "ce38a45f",
   "metadata": {},
   "source": [
    "#### 계산 복잡도를 낮추려면 우선순위 큐를 쓰는게 좋다\n",
    "- stack, queue는 우선순위가 정해져 있기 때문에, 우선순위큐인 Heap Queue를 많이쓴다. 삽입시간 및 삭제시간에 O(logN)이 보장되기 때문에 좋다.\n",
    "\n"
   ]
  },
  {
   "cell_type": "code",
   "execution_count": 3,
   "id": "82ec5eb6",
   "metadata": {},
   "outputs": [
    {
     "name": "stdout",
     "output_type": "stream",
     "text": [
      "3\n",
      "3\n",
      "4\n",
      "4\n",
      "5\n",
      "9\n",
      "41\n",
      "75\n"
     ]
    }
   ],
   "source": [
    "import heapq\n",
    "\n",
    "src = [9,41,4,3,75,3,4,5]\n",
    "a = list()\n",
    "for i in src:\n",
    "    heapq.heappush(a, i)\n",
    "\n",
    "while a:\n",
    "    print(heapq.heappop(a))"
   ]
  },
  {
   "cell_type": "code",
   "execution_count": 6,
   "id": "ca1ce5c6",
   "metadata": {},
   "outputs": [],
   "source": [
    "import sys\n",
    "import heapq\n",
    "INF = int(1e9)\n",
    "distance = [INF] * (1000+1)\n",
    "\n",
    "# 생각을 해보았을 때, 동작 자체는 heapq가 아니라 deque로 bfs/dfs + dp 방식으로도 동작은 가능하지만, 같은 node를 여러번 방문하게 되어 연산 낭비가 더 생길 수 있다.\n",
    "\n",
    "def dijkstra(start):\n",
    "    q = []\n",
    "    heapq.heappush(q, (0, start))\n",
    "    distance[start] = 0\n",
    "    while q:\n",
    "        dist, now = heapq.heappip(q)\n",
    "        if distance[now] < dist:\n",
    "            continue\n",
    "        for i in graph[now]:\n",
    "            cost = dist +i[1]\n",
    "            if cost < distance[i[0]]:\n",
    "                distance[i[0]] = cost\n",
    "                heapq.heappush(q, (cost, i[0]))"
   ]
  },
  {
   "cell_type": "markdown",
   "id": "ef6a41a3",
   "metadata": {},
   "source": [
    "### 플로이드 워셜알고리즘\n",
    "- 모든 노드에서 다른 모든 노드까지의 최단경로를 모두 계산하는 알고리즘\n",
    "  - 다익스라 알고리즘과 같이 단계별로 거쳐가는 노드를 기준으로 알고리즘을 수행\n",
    "  - 다만 매 단계마다 방문하지 않은 노드 중에 최단거리를 갖는 노드를 찾는 과정이 필요하지 않음\n",
    "  - 플로이드 워셜은 2차원 테이블에 최단거리 정보를 저장\n",
    "  - 플로이드 워셜 알고리즘은 다이나믹 프로그래밍에 속함"
   ]
  },
  {
   "cell_type": "code",
   "execution_count": null,
   "id": "c149c4e2",
   "metadata": {},
   "outputs": [],
   "source": []
  }
 ],
 "metadata": {
  "kernelspec": {
   "display_name": "Python 3",
   "language": "python",
   "name": "python3"
  },
  "language_info": {
   "codemirror_mode": {
    "name": "ipython",
    "version": 3
   },
   "file_extension": ".py",
   "mimetype": "text/x-python",
   "name": "python",
   "nbconvert_exporter": "python",
   "pygments_lexer": "ipython3",
   "version": "3.8.10"
  }
 },
 "nbformat": 4,
 "nbformat_minor": 5
}
